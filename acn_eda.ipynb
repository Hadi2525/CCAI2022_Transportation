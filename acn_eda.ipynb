{
 "cells": [
  {
   "cell_type": "markdown",
   "metadata": {},
   "source": [
    "# Exploratory Data Analysis - ACN Dataset\n"
   ]
  },
  {
   "cell_type": "code",
   "execution_count": 2,
   "metadata": {},
   "outputs": [],
   "source": [
    "# Importing libraries\n",
    "\n",
    "import pandas as pd\n",
    "import numpy as np\n",
    "import matplotlib.pyplot as plt\n",
    "import json"
   ]
  },
  {
   "cell_type": "code",
   "execution_count": 3,
   "metadata": {},
   "outputs": [],
   "source": [
    "ev_json = json.load(open('./Datasets/acndata_sessions_CalTech.json','r'))\n",
    "ev_df = pd.DataFrame(ev_json['_items'])\n",
    "ev_df.drop(ev_df.index[ev_df['doneChargingTime'].values==None],inplace=True)\n",
    "ev_df.reset_index(inplace=True,drop=True)"
   ]
  },
  {
   "cell_type": "code",
   "execution_count": 4,
   "metadata": {},
   "outputs": [],
   "source": [
    "ev_df[['connectionTime','disconnectTime','doneChargingTime']] = ev_df[['connectionTime','disconnectTime','doneChargingTime']].apply(pd.to_datetime)"
   ]
  },
  {
   "cell_type": "code",
   "execution_count": 5,
   "metadata": {},
   "outputs": [],
   "source": [
    "ev_df.drop(columns=['_id','clusterID','sessionID',\n",
    "                    'timezone','userInputs','userID'],inplace=True)"
   ]
  },
  {
   "cell_type": "code",
   "execution_count": 12,
   "metadata": {},
   "outputs": [],
   "source": [
    "ev_df['chargeTime'] = (ev_df['doneChargingTime'] - ev_df['connectionTime']).values.astype(float)/(36*1e11)\n",
    "ev_df['parkTime'] = (ev_df['disconnectTime'] - ev_df['connectionTime']).values.astype(float)/(36*1e11)"
   ]
  },
  {
   "cell_type": "code",
   "execution_count": 13,
   "metadata": {},
   "outputs": [
    {
     "data": {
      "text/html": [
       "<div>\n",
       "<style scoped>\n",
       "    .dataframe tbody tr th:only-of-type {\n",
       "        vertical-align: middle;\n",
       "    }\n",
       "\n",
       "    .dataframe tbody tr th {\n",
       "        vertical-align: top;\n",
       "    }\n",
       "\n",
       "    .dataframe thead th {\n",
       "        text-align: right;\n",
       "    }\n",
       "</style>\n",
       "<table border=\"1\" class=\"dataframe\">\n",
       "  <thead>\n",
       "    <tr style=\"text-align: right;\">\n",
       "      <th></th>\n",
       "      <th>connectionTime</th>\n",
       "      <th>disconnectTime</th>\n",
       "      <th>doneChargingTime</th>\n",
       "      <th>kWhDelivered</th>\n",
       "      <th>siteID</th>\n",
       "      <th>spaceID</th>\n",
       "      <th>stationID</th>\n",
       "      <th>chargeTime</th>\n",
       "      <th>parkTime</th>\n",
       "    </tr>\n",
       "  </thead>\n",
       "  <tbody>\n",
       "    <tr>\n",
       "      <th>27937</th>\n",
       "      <td>2021-05-01 00:12:07+00:00</td>\n",
       "      <td>2021-05-01 05:04:23+00:00</td>\n",
       "      <td>2021-05-01 05:04:19+00:00</td>\n",
       "      <td>33.313</td>\n",
       "      <td>0002</td>\n",
       "      <td>CA-319</td>\n",
       "      <td>2-39-95-27</td>\n",
       "      <td>4.870000</td>\n",
       "      <td>4.871111</td>\n",
       "    </tr>\n",
       "    <tr>\n",
       "      <th>27938</th>\n",
       "      <td>2021-05-01 19:01:17+00:00</td>\n",
       "      <td>2021-05-01 19:16:04+00:00</td>\n",
       "      <td>2021-05-01 19:15:54+00:00</td>\n",
       "      <td>0.905</td>\n",
       "      <td>0002</td>\n",
       "      <td>CA-327</td>\n",
       "      <td>2-39-79-379</td>\n",
       "      <td>0.243611</td>\n",
       "      <td>0.246389</td>\n",
       "    </tr>\n",
       "    <tr>\n",
       "      <th>27939</th>\n",
       "      <td>2021-05-01 19:55:08+00:00</td>\n",
       "      <td>2021-05-02 01:33:15+00:00</td>\n",
       "      <td>2021-05-01 20:26:03+00:00</td>\n",
       "      <td>0.732</td>\n",
       "      <td>0002</td>\n",
       "      <td>CA-327</td>\n",
       "      <td>2-39-79-379</td>\n",
       "      <td>0.515278</td>\n",
       "      <td>5.635278</td>\n",
       "    </tr>\n",
       "    <tr>\n",
       "      <th>27940</th>\n",
       "      <td>2021-05-01 20:02:06+00:00</td>\n",
       "      <td>2021-05-01 21:40:51+00:00</td>\n",
       "      <td>2021-05-01 20:31:31+00:00</td>\n",
       "      <td>1.188</td>\n",
       "      <td>0002</td>\n",
       "      <td>CA-316</td>\n",
       "      <td>2-39-90-26</td>\n",
       "      <td>0.490278</td>\n",
       "      <td>1.645833</td>\n",
       "    </tr>\n",
       "    <tr>\n",
       "      <th>27941</th>\n",
       "      <td>2021-05-01 21:56:16+00:00</td>\n",
       "      <td>2021-05-01 22:40:48+00:00</td>\n",
       "      <td>2021-05-01 22:40:43+00:00</td>\n",
       "      <td>2.476</td>\n",
       "      <td>0002</td>\n",
       "      <td>CA-311</td>\n",
       "      <td>2-39-125-21</td>\n",
       "      <td>0.740833</td>\n",
       "      <td>0.742222</td>\n",
       "    </tr>\n",
       "  </tbody>\n",
       "</table>\n",
       "</div>"
      ],
      "text/plain": [
       "                 connectionTime            disconnectTime  \\\n",
       "27937 2021-05-01 00:12:07+00:00 2021-05-01 05:04:23+00:00   \n",
       "27938 2021-05-01 19:01:17+00:00 2021-05-01 19:16:04+00:00   \n",
       "27939 2021-05-01 19:55:08+00:00 2021-05-02 01:33:15+00:00   \n",
       "27940 2021-05-01 20:02:06+00:00 2021-05-01 21:40:51+00:00   \n",
       "27941 2021-05-01 21:56:16+00:00 2021-05-01 22:40:48+00:00   \n",
       "\n",
       "               doneChargingTime  kWhDelivered siteID spaceID    stationID  \\\n",
       "27937 2021-05-01 05:04:19+00:00        33.313   0002  CA-319   2-39-95-27   \n",
       "27938 2021-05-01 19:15:54+00:00         0.905   0002  CA-327  2-39-79-379   \n",
       "27939 2021-05-01 20:26:03+00:00         0.732   0002  CA-327  2-39-79-379   \n",
       "27940 2021-05-01 20:31:31+00:00         1.188   0002  CA-316   2-39-90-26   \n",
       "27941 2021-05-01 22:40:43+00:00         2.476   0002  CA-311  2-39-125-21   \n",
       "\n",
       "       chargeTime  parkTime  \n",
       "27937    4.870000  4.871111  \n",
       "27938    0.243611  0.246389  \n",
       "27939    0.515278  5.635278  \n",
       "27940    0.490278  1.645833  \n",
       "27941    0.740833  0.742222  "
      ]
     },
     "execution_count": 13,
     "metadata": {},
     "output_type": "execute_result"
    }
   ],
   "source": [
    "ev_df.tail()"
   ]
  },
  {
   "cell_type": "code",
   "execution_count": 125,
   "metadata": {},
   "outputs": [
    {
     "name": "stdout",
     "output_type": "stream",
     "text": [
      "<class 'pandas.core.frame.DataFrame'>\n",
      "RangeIndex: 27942 entries, 0 to 27941\n",
      "Data columns (total 9 columns):\n",
      " #   Column            Non-Null Count  Dtype              \n",
      "---  ------            --------------  -----              \n",
      " 0   connectionTime    27942 non-null  datetime64[ns, UTC]\n",
      " 1   disconnectTime    27942 non-null  datetime64[ns, UTC]\n",
      " 2   doneChargingTime  27942 non-null  datetime64[ns, UTC]\n",
      " 3   kWhDelivered      27942 non-null  float64            \n",
      " 4   siteID            27942 non-null  object             \n",
      " 5   spaceID           27942 non-null  object             \n",
      " 6   stationID         27942 non-null  object             \n",
      " 7   chargeTime        27942 non-null  timedelta64[ns]    \n",
      " 8   parkTime          27942 non-null  timedelta64[ns]    \n",
      "dtypes: datetime64[ns, UTC](3), float64(1), object(3), timedelta64[ns](2)\n",
      "memory usage: 1.9+ MB\n"
     ]
    }
   ],
   "source": [
    "ev_df.info()"
   ]
  },
  {
   "cell_type": "code",
   "execution_count": 14,
   "metadata": {},
   "outputs": [],
   "source": [
    "ev_df['chargeRate'] = ev_df['kWhDelivered']/ev_df['chargeTime']"
   ]
  },
  {
   "cell_type": "code",
   "execution_count": 15,
   "metadata": {},
   "outputs": [],
   "source": [
    "ev_df = ev_df.set_index('connectionTime')"
   ]
  },
  {
   "cell_type": "code",
   "execution_count": 19,
   "metadata": {},
   "outputs": [
    {
     "data": {
      "text/plain": [
       "<AxesSubplot:xlabel='connectionTime'>"
      ]
     },
     "execution_count": 19,
     "metadata": {},
     "output_type": "execute_result"
    },
    {
     "data": {
      "image/png": "[encoded data removed]",
      "text/plain": [
       "<Figure size 432x288 with 1 Axes>"
      ]
     },
     "metadata": {
      "needs_background": "light"
     },
     "output_type": "display_data"
    }
   ],
   "source": [
    "ev_df_quarterly = ev_df.resample('15T').sum()\n",
    "ev_df_quarterly.kWhDelivered.plot()"
   ]
  },
  {
   "cell_type": "code",
   "execution_count": 20,
   "metadata": {},
   "outputs": [
    {
     "data": {
      "text/html": [
       "<div>\n",
       "<style scoped>\n",
       "    .dataframe tbody tr th:only-of-type {\n",
       "        vertical-align: middle;\n",
       "    }\n",
       "\n",
       "    .dataframe tbody tr th {\n",
       "        vertical-align: top;\n",
       "    }\n",
       "\n",
       "    .dataframe thead th {\n",
       "        text-align: right;\n",
       "    }\n",
       "</style>\n",
       "<table border=\"1\" class=\"dataframe\">\n",
       "  <thead>\n",
       "    <tr style=\"text-align: right;\">\n",
       "      <th></th>\n",
       "      <th>kWhDelivered</th>\n",
       "      <th>chargeTime</th>\n",
       "      <th>parkTime</th>\n",
       "      <th>chargeRate</th>\n",
       "    </tr>\n",
       "    <tr>\n",
       "      <th>connectionTime</th>\n",
       "      <th></th>\n",
       "      <th></th>\n",
       "      <th></th>\n",
       "      <th></th>\n",
       "    </tr>\n",
       "  </thead>\n",
       "  <tbody>\n",
       "    <tr>\n",
       "      <th>2018-04-25 11:00:00+00:00</th>\n",
       "      <td>7.932</td>\n",
       "      <td>2.218333</td>\n",
       "      <td>2.201667</td>\n",
       "      <td>3.575657</td>\n",
       "    </tr>\n",
       "    <tr>\n",
       "      <th>2018-04-25 11:15:00+00:00</th>\n",
       "      <td>0.000</td>\n",
       "      <td>0.000000</td>\n",
       "      <td>0.000000</td>\n",
       "      <td>0.000000</td>\n",
       "    </tr>\n",
       "    <tr>\n",
       "      <th>2018-04-25 11:30:00+00:00</th>\n",
       "      <td>0.000</td>\n",
       "      <td>0.000000</td>\n",
       "      <td>0.000000</td>\n",
       "      <td>0.000000</td>\n",
       "    </tr>\n",
       "    <tr>\n",
       "      <th>2018-04-25 11:45:00+00:00</th>\n",
       "      <td>0.000</td>\n",
       "      <td>0.000000</td>\n",
       "      <td>0.000000</td>\n",
       "      <td>0.000000</td>\n",
       "    </tr>\n",
       "    <tr>\n",
       "      <th>2018-04-25 12:00:00+00:00</th>\n",
       "      <td>0.000</td>\n",
       "      <td>0.000000</td>\n",
       "      <td>0.000000</td>\n",
       "      <td>0.000000</td>\n",
       "    </tr>\n",
       "  </tbody>\n",
       "</table>\n",
       "</div>"
      ],
      "text/plain": [
       "                           kWhDelivered  chargeTime  parkTime  chargeRate\n",
       "connectionTime                                                           \n",
       "2018-04-25 11:00:00+00:00         7.932    2.218333  2.201667    3.575657\n",
       "2018-04-25 11:15:00+00:00         0.000    0.000000  0.000000    0.000000\n",
       "2018-04-25 11:30:00+00:00         0.000    0.000000  0.000000    0.000000\n",
       "2018-04-25 11:45:00+00:00         0.000    0.000000  0.000000    0.000000\n",
       "2018-04-25 12:00:00+00:00         0.000    0.000000  0.000000    0.000000"
      ]
     },
     "execution_count": 20,
     "metadata": {},
     "output_type": "execute_result"
    }
   ],
   "source": [
    "ev_df_quarterly.head()"
   ]
  },
  {
   "cell_type": "code",
   "execution_count": 21,
   "metadata": {},
   "outputs": [
    {
     "data": {
      "text/plain": [
       "<AxesSubplot:xlabel='connectionTime'>"
      ]
     },
     "execution_count": 21,
     "metadata": {},
     "output_type": "execute_result"
    },
    {
     "data": {
      "image/png": "[encoded data removed]",
      "text/plain": [
       "<Figure size 432x288 with 1 Axes>"
      ]
     },
     "metadata": {
      "needs_background": "light"
     },
     "output_type": "display_data"
    }
   ],
   "source": [
    "ev_df_quarterly.chargeTime.plot()"
   ]
  }
 ],
 "metadata": {
  "interpreter": {
   "hash": "654a99252f77905fc9ce114bb088d066cddcc8a35836ac2d439acab7fb9bc0c8"
  },
  "kernelspec": {
   "display_name": "Python 3.8.13 ('myenv')",
   "language": "python",
   "name": "python3"
  },
  "language_info": {
   "codemirror_mode": {
    "name": "ipython",
    "version": 3
   },
   "file_extension": ".py",
   "mimetype": "text/x-python",
   "name": "python",
   "nbconvert_exporter": "python",
   "pygments_lexer": "ipython3",
   "version": "3.8.13"
  },
  "orig_nbformat": 4
 },
 "nbformat": 4,
 "nbformat_minor": 2
}
