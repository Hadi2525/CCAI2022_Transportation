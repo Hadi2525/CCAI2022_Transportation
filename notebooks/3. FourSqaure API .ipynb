{
 "cells": [
  {
   "cell_type": "code",
   "execution_count": 1,
   "id": "a326f4bc",
   "metadata": {},
   "outputs": [],
   "source": [
    "import pandas as pd\n",
    "import json\n",
    "import os\n",
    "import uuid\n",
    "\n",
    "import geopandas as gpd"
   ]
  },
  {
   "cell_type": "code",
   "execution_count": 2,
   "id": "35eae95f",
   "metadata": {},
   "outputs": [
    {
     "data": {
      "text/plain": [
       "{'token': 'fsq3D/VHyHU4HVfbaRITsOl0pIswAP2pr//Ac/m+gD5H1TI=',\n",
       " 'client_id': 'Q1B4DZHK1Q4YYMMQXYH1J4N3CKDH5DLR5FGNTHILBZD0BXVO',\n",
       " 'client_secret': 'AJWWWAR2WHOQDLLESW4DHRQTXUFEPBOILFHR5XJSATEQZR5D'}"
      ]
     },
     "execution_count": 2,
     "metadata": {},
     "output_type": "execute_result"
    }
   ],
   "source": [
    "with open('../.foursquare_API.json', 'r') as file:\n",
    "    secrets = json.load(file)\n",
    "\n",
    "secrets"
   ]
  },
  {
   "cell_type": "markdown",
   "id": "74cc8796",
   "metadata": {},
   "source": [
    "1. Read dataset"
   ]
  },
  {
   "cell_type": "code",
   "execution_count": 3,
   "id": "b871244e",
   "metadata": {},
   "outputs": [],
   "source": [
    "dirName = '/Users/mikhailgasanov/Downloads/EVdatasets/PaloAlto/'\n",
    "fnames = os.listdir(dirName)\n",
    "df = pd.read_csv(os.path.join(dirName, fnames[0]))"
   ]
  },
  {
   "cell_type": "code",
   "execution_count": 4,
   "id": "8eb6c93c",
   "metadata": {},
   "outputs": [],
   "source": [
    "coords = df[['Latitude', 'Longitude']].drop_duplicates()"
   ]
  },
  {
   "cell_type": "code",
   "execution_count": 20,
   "id": "24c98226",
   "metadata": {},
   "outputs": [],
   "source": [
    "# LIMIT = 49\n",
    "# RADIUS = 1000\n",
    "\n",
    "# Latitude = coords.iloc[0, :]['Latitude']\n",
    "\n",
    "# Longitude = coords.iloc[0, :]['Longitude']\n",
    "\n",
    "# session_token = str(uuid.uuid4())\n",
    "\n",
    "# url = f\"https://api.foursquare.com/v3/places/search?ll={Latitude},{Longitude}&radius={RADIUS}&limit={LIMIT}&session_token={session_token}\"\n",
    "\n",
    "# headers = {\n",
    "\n",
    "#     \"Accept\": \"application/json\",\n",
    "\n",
    "#     \"Authorization\": secrets['token']\n",
    "\n",
    "# }\n",
    "\n",
    "# response = requests.get(url, headers=headers)\n",
    "\n"
   ]
  },
  {
   "cell_type": "code",
   "execution_count": null,
   "id": "8b5add65",
   "metadata": {},
   "outputs": [],
   "source": [
    "results = response.json()"
   ]
  },
  {
   "cell_type": "code",
   "execution_count": null,
   "id": "70e23fb8",
   "metadata": {},
   "outputs": [],
   "source": [
    "import pandas as pd # for data processing\n",
    "import folium   #for creating maps\n",
    "import requests  #for retreiving Information from URL\n",
    "from geopy.geocoders import Nominatim  #converting address to cordinates\n",
    "from pandas.io.json import json_normalize #converting json to DataFrame "
   ]
  },
  {
   "cell_type": "code",
   "execution_count": null,
   "id": "18ea35b6",
   "metadata": {},
   "outputs": [],
   "source": []
  },
  {
   "cell_type": "code",
   "execution_count": 6,
   "id": "41999377",
   "metadata": {},
   "outputs": [],
   "source": [
    "def getCategory(resp:dict):\n",
    "    categories = [i['categories'][0]['name'] for i in results['results']]\n",
    "    latitude = [i['geocodes']['main']['latitude'] for i in results['results']]\n",
    "    longitude = [i['geocodes']['main']['longitude'] for i in results['results']]\n",
    "    df = pd.DataFrame(data=[categories, latitude, longitude]).T\n",
    "    df.columns=['category_building', 'latitude', 'longitude']\n",
    "    return df\n",
    "\n",
    "# def getDistance(source_point:dict)"
   ]
  },
  {
   "cell_type": "code",
   "execution_count": 7,
   "id": "68592a81",
   "metadata": {},
   "outputs": [],
   "source": [
    "from shapely.geometry import Point"
   ]
  },
  {
   "cell_type": "code",
   "execution_count": 8,
   "id": "7a9a53be",
   "metadata": {},
   "outputs": [
    {
     "name": "stdout",
     "output_type": "stream",
     "text": [
      "279352.90160430095\n"
     ]
    }
   ],
   "source": [
    "import geopy.distance\n",
    "\n",
    "coords_1 = (52.2296756, 21.0122287)\n",
    "coords_2 = (52.406374, 16.9251681)\n",
    "\n",
    "print(geopy.distance.geodesic(coords_1, coords_2).m)\n"
   ]
  },
  {
   "cell_type": "code",
   "execution_count": 9,
   "id": "48d41dcf",
   "metadata": {},
   "outputs": [
    {
     "ename": "NameError",
     "evalue": "name 'results' is not defined",
     "output_type": "error",
     "traceback": [
      "\u001b[0;31m---------------------------------------------------------------------------\u001b[0m",
      "\u001b[0;31mNameError\u001b[0m                                 Traceback (most recent call last)",
      "\u001b[0;32m/var/folders/1f/xyznj37x1n337kxt0v5533rw0000gn/T/ipykernel_2455/2463914318.py\u001b[0m in \u001b[0;36m<module>\u001b[0;34m\u001b[0m\n\u001b[0;32m----> 1\u001b[0;31m \u001b[0mdf_cat\u001b[0m \u001b[0;34m=\u001b[0m \u001b[0mgetCategory\u001b[0m\u001b[0;34m(\u001b[0m\u001b[0mresp\u001b[0m\u001b[0;34m=\u001b[0m\u001b[0mresults\u001b[0m\u001b[0;34m)\u001b[0m\u001b[0;34m\u001b[0m\u001b[0;34m\u001b[0m\u001b[0m\n\u001b[0m",
      "\u001b[0;31mNameError\u001b[0m: name 'results' is not defined"
     ]
    }
   ],
   "source": [
    "df_cat = getCategory(resp=results)"
   ]
  },
  {
   "cell_type": "code",
   "execution_count": 10,
   "id": "623937a7",
   "metadata": {},
   "outputs": [
    {
     "ename": "NameError",
     "evalue": "name 'df_cat' is not defined",
     "output_type": "error",
     "traceback": [
      "\u001b[0;31m---------------------------------------------------------------------------\u001b[0m",
      "\u001b[0;31mNameError\u001b[0m                                 Traceback (most recent call last)",
      "\u001b[0;32m/var/folders/1f/xyznj37x1n337kxt0v5533rw0000gn/T/ipykernel_2455/4168528263.py\u001b[0m in \u001b[0;36m<module>\u001b[0;34m\u001b[0m\n\u001b[0;32m----> 1\u001b[0;31m \u001b[0mdf_cat\u001b[0m\u001b[0;34m\u001b[0m\u001b[0;34m\u001b[0m\u001b[0m\n\u001b[0m",
      "\u001b[0;31mNameError\u001b[0m: name 'df_cat' is not defined"
     ]
    }
   ],
   "source": [
    "df_cat"
   ]
  },
  {
   "cell_type": "code",
   "execution_count": 11,
   "id": "723bef32",
   "metadata": {},
   "outputs": [],
   "source": [
    "def getDistance(coords_1:set, coords_2:set):\n",
    "    return geopy.distance.geodesic(coords_1, coords_2).m"
   ]
  },
  {
   "cell_type": "code",
   "execution_count": null,
   "id": "1f1b316e",
   "metadata": {},
   "outputs": [],
   "source": []
  },
  {
   "cell_type": "code",
   "execution_count": 12,
   "id": "8cffbb8a",
   "metadata": {},
   "outputs": [
    {
     "ename": "NameError",
     "evalue": "name 'df_cat' is not defined",
     "output_type": "error",
     "traceback": [
      "\u001b[0;31m---------------------------------------------------------------------------\u001b[0m",
      "\u001b[0;31mNameError\u001b[0m                                 Traceback (most recent call last)",
      "\u001b[0;32m/var/folders/1f/xyznj37x1n337kxt0v5533rw0000gn/T/ipykernel_2455/654870329.py\u001b[0m in \u001b[0;36m<module>\u001b[0;34m\u001b[0m\n\u001b[0;32m----> 1\u001b[0;31m \u001b[0mdf_cat\u001b[0m\u001b[0;34m.\u001b[0m\u001b[0mloc\u001b[0m\u001b[0;34m[\u001b[0m\u001b[0;34m:\u001b[0m\u001b[0;34m,\u001b[0m \u001b[0;34m'distance'\u001b[0m\u001b[0;34m]\u001b[0m \u001b[0;34m=\u001b[0m \u001b[0mdf_cat\u001b[0m\u001b[0;34m.\u001b[0m\u001b[0mapply\u001b[0m\u001b[0;34m(\u001b[0m\u001b[0;32mlambda\u001b[0m \u001b[0mx\u001b[0m\u001b[0;34m:\u001b[0m \u001b[0mgetDistance\u001b[0m\u001b[0;34m(\u001b[0m\u001b[0mcoords_1\u001b[0m\u001b[0;34m=\u001b[0m\u001b[0;34m(\u001b[0m\u001b[0mLatitude\u001b[0m\u001b[0;34m,\u001b[0m \u001b[0mLongitude\u001b[0m\u001b[0;34m)\u001b[0m\u001b[0;34m,\u001b[0m \u001b[0mcoords_2\u001b[0m\u001b[0;34m=\u001b[0m\u001b[0;34m(\u001b[0m\u001b[0mx\u001b[0m\u001b[0;34m.\u001b[0m\u001b[0mlatitude\u001b[0m\u001b[0;34m,\u001b[0m \u001b[0mx\u001b[0m\u001b[0;34m.\u001b[0m\u001b[0mlongitude\u001b[0m\u001b[0;34m)\u001b[0m\u001b[0;34m)\u001b[0m\u001b[0;34m,\u001b[0m \u001b[0maxis\u001b[0m\u001b[0;34m=\u001b[0m\u001b[0;36m1\u001b[0m\u001b[0;34m)\u001b[0m\u001b[0;34m\u001b[0m\u001b[0;34m\u001b[0m\u001b[0m\n\u001b[0m",
      "\u001b[0;31mNameError\u001b[0m: name 'df_cat' is not defined"
     ]
    }
   ],
   "source": [
    "df_cat.loc[:, 'distance'] = df_cat.apply(lambda x: getDistance(coords_1=(Latitude, Longitude), coords_2=(x.latitude, x.longitude)), axis=1)"
   ]
  },
  {
   "cell_type": "code",
   "execution_count": 13,
   "id": "06bef0b6",
   "metadata": {},
   "outputs": [
    {
     "ename": "NameError",
     "evalue": "name 'df_cat' is not defined",
     "output_type": "error",
     "traceback": [
      "\u001b[0;31m---------------------------------------------------------------------------\u001b[0m",
      "\u001b[0;31mNameError\u001b[0m                                 Traceback (most recent call last)",
      "\u001b[0;32m/var/folders/1f/xyznj37x1n337kxt0v5533rw0000gn/T/ipykernel_2455/175403463.py\u001b[0m in \u001b[0;36m<module>\u001b[0;34m\u001b[0m\n\u001b[0;32m----> 1\u001b[0;31m \u001b[0mgdf\u001b[0m \u001b[0;34m=\u001b[0m \u001b[0mgpd\u001b[0m\u001b[0;34m.\u001b[0m\u001b[0mGeoDataFrame\u001b[0m\u001b[0;34m(\u001b[0m\u001b[0mdata\u001b[0m\u001b[0;34m=\u001b[0m\u001b[0mdf_cat\u001b[0m\u001b[0;34m,\u001b[0m \u001b[0mgeometry\u001b[0m\u001b[0;34m=\u001b[0m\u001b[0mgpd\u001b[0m\u001b[0;34m.\u001b[0m\u001b[0mpoints_from_xy\u001b[0m\u001b[0;34m(\u001b[0m\u001b[0mx\u001b[0m\u001b[0;34m=\u001b[0m\u001b[0mdf_cat\u001b[0m\u001b[0;34m[\u001b[0m\u001b[0;34m'latitude'\u001b[0m\u001b[0;34m]\u001b[0m\u001b[0;34m,\u001b[0m \u001b[0my\u001b[0m\u001b[0;34m=\u001b[0m\u001b[0mdf_cat\u001b[0m\u001b[0;34m[\u001b[0m\u001b[0;34m'longitude'\u001b[0m\u001b[0;34m]\u001b[0m\u001b[0;34m)\u001b[0m\u001b[0;34m)\u001b[0m\u001b[0;34m\u001b[0m\u001b[0;34m\u001b[0m\u001b[0m\n\u001b[0m",
      "\u001b[0;31mNameError\u001b[0m: name 'df_cat' is not defined"
     ]
    }
   ],
   "source": [
    "gdf = gpd.GeoDataFrame(data=df_cat, geometry=gpd.points_from_xy(x=df_cat['latitude'], y=df_cat['longitude']))"
   ]
  },
  {
   "cell_type": "code",
   "execution_count": 14,
   "id": "9fea3822",
   "metadata": {},
   "outputs": [
    {
     "ename": "NameError",
     "evalue": "name 'fig' is not defined",
     "output_type": "error",
     "traceback": [
      "\u001b[0;31m---------------------------------------------------------------------------\u001b[0m",
      "\u001b[0;31mNameError\u001b[0m                                 Traceback (most recent call last)",
      "\u001b[0;32m/var/folders/1f/xyznj37x1n337kxt0v5533rw0000gn/T/ipykernel_2455/3767812368.py\u001b[0m in \u001b[0;36m<module>\u001b[0;34m\u001b[0m\n\u001b[1;32m      3\u001b[0m \u001b[0;34m\u001b[0m\u001b[0m\n\u001b[1;32m      4\u001b[0m \u001b[0;34m\u001b[0m\u001b[0m\n\u001b[0;32m----> 5\u001b[0;31m fig.add_trace(go.Scattermapbox(\n\u001b[0m\u001b[1;32m      6\u001b[0m         \u001b[0mlat\u001b[0m\u001b[0;34m=\u001b[0m\u001b[0msite_lat\u001b[0m\u001b[0;34m,\u001b[0m\u001b[0;34m\u001b[0m\u001b[0;34m\u001b[0m\u001b[0m\n\u001b[1;32m      7\u001b[0m         \u001b[0mlon\u001b[0m\u001b[0;34m=\u001b[0m\u001b[0msite_lon\u001b[0m\u001b[0;34m,\u001b[0m\u001b[0;34m\u001b[0m\u001b[0;34m\u001b[0m\u001b[0m\n",
      "\u001b[0;31mNameError\u001b[0m: name 'fig' is not defined"
     ]
    }
   ],
   "source": [
    "import plotly.graph_objects as go\n",
    "import pandas as pd\n",
    "\n",
    "\n",
    "fig.add_trace(go.Scattermapbox(\n",
    "        lat=site_lat,\n",
    "        lon=site_lon,\n",
    "        mode='markers',\n",
    "        marker=go.scattermapbox.Marker(\n",
    "            size=17,\n",
    "            color='rgb(255, 0, 0)',\n",
    "            opacity=0.7\n",
    "        ),\n",
    "        text=locations_name,\n",
    "        hoverinfo='text'\n",
    "    ))\n",
    "\n",
    "fig.add_trace(go.Scattermapbox(\n",
    "        lat=site_lat,\n",
    "        lon=site_lon,\n",
    "        mode='markers',\n",
    "        marker=go.scattermapbox.Marker(\n",
    "            size=8,\n",
    "            color='rgb(242, 177, 172)',\n",
    "            opacity=0.7\n",
    "        ),\n",
    "        hoverinfo='none'\n",
    "    ))"
   ]
  },
  {
   "cell_type": "code",
   "execution_count": 15,
   "id": "58c780e3",
   "metadata": {},
   "outputs": [
    {
     "data": {
      "text/plain": [
       "shapely.geometry.point.Point"
      ]
     },
     "execution_count": 15,
     "metadata": {},
     "output_type": "execute_result"
    }
   ],
   "source": [
    "Point"
   ]
  },
  {
   "cell_type": "code",
   "execution_count": 16,
   "id": "7b7dd8c1",
   "metadata": {},
   "outputs": [
    {
     "data": {
      "image/svg+xml": [
       "<svg xmlns=\"http://www.w3.org/2000/svg\" xmlns:xlink=\"http://www.w3.org/1999/xlink\" width=\"100.0\" height=\"100.0\" viewBox=\"-123.160309 36.444572 2.0 2.0\" preserveAspectRatio=\"xMinYMin meet\"><g transform=\"matrix(1,0,0,-1,0,74.889144)\"><circle cx=\"-122.160309\" cy=\"37.444572\" r=\"0.06\" stroke=\"#555555\" stroke-width=\"0.02\" fill=\"#66cc99\" opacity=\"0.6\" /></g></svg>"
      ],
      "text/plain": [
       "<shapely.geometry.point.Point at 0x123f01700>"
      ]
     },
     "execution_count": 16,
     "metadata": {},
     "output_type": "execute_result"
    }
   ],
   "source": [
    "Point(Longitude, Latitude)"
   ]
  },
  {
   "cell_type": "code",
   "execution_count": 17,
   "id": "213f8856",
   "metadata": {},
   "outputs": [],
   "source": [
    "point_gdf = gpd.GeoDataFrame(data=['Charger'], geometry=[Point(Longitude, Latitude)])"
   ]
  },
  {
   "cell_type": "code",
   "execution_count": 18,
   "id": "0d853c5f",
   "metadata": {},
   "outputs": [],
   "source": [
    "point_gdf.loc[:, 'latitude'] = Latitude\n",
    "point_gdf.loc[:, 'longitude'] = Longitude"
   ]
  },
  {
   "cell_type": "code",
   "execution_count": 19,
   "id": "116c0dc3",
   "metadata": {},
   "outputs": [
    {
     "ename": "NameError",
     "evalue": "name 'gdf' is not defined",
     "output_type": "error",
     "traceback": [
      "\u001b[0;31m---------------------------------------------------------------------------\u001b[0m",
      "\u001b[0;31mNameError\u001b[0m                                 Traceback (most recent call last)",
      "\u001b[0;32m/var/folders/1f/xyznj37x1n337kxt0v5533rw0000gn/T/ipykernel_2455/1176164475.py\u001b[0m in \u001b[0;36m<module>\u001b[0;34m\u001b[0m\n\u001b[1;32m      6\u001b[0m \u001b[0;34m\u001b[0m\u001b[0m\n\u001b[1;32m      7\u001b[0m \u001b[0;34m\u001b[0m\u001b[0m\n\u001b[0;32m----> 8\u001b[0;31m fig_1 = px.scatter_mapbox(gdf, lat='latitude', lon='longitude',\n\u001b[0m\u001b[1;32m      9\u001b[0m                           \u001b[0mcolor\u001b[0m\u001b[0;34m=\u001b[0m\u001b[0;34m'distance'\u001b[0m\u001b[0;34m,\u001b[0m\u001b[0;34m\u001b[0m\u001b[0;34m\u001b[0m\u001b[0m\n\u001b[1;32m     10\u001b[0m                          \u001b[0mcolor_continuous_scale\u001b[0m\u001b[0;34m=\u001b[0m\u001b[0;34m'reds'\u001b[0m\u001b[0;34m,\u001b[0m\u001b[0;34m\u001b[0m\u001b[0;34m\u001b[0m\u001b[0m\n",
      "\u001b[0;31mNameError\u001b[0m: name 'gdf' is not defined"
     ]
    }
   ],
   "source": [
    "import plotly.express as px\n",
    "import base64\n",
    "import plotly.graph_objects as go\n",
    "\n",
    "token = open('../.mapbox_token').read()\n",
    "\n",
    "\n",
    "fig_1 = px.scatter_mapbox(gdf, lat='latitude', lon='longitude',\n",
    "                          color='distance',\n",
    "                         color_continuous_scale='reds',\n",
    "                          zoom=16, height=600)\n",
    "\n",
    "# fig_1.add_trace(px.scatter_mapbox(point_gdf, lat='latitude', lon='longitude'))\n",
    "\n",
    "fig_1.update_layout(mapbox_style=\"satellite\",mapbox_accesstoken=token )\n",
    "\n",
    "fig_1.update_layout(margin={\"r\":0,\"t\":0,\"l\":0,\"b\":0})\n",
    "\n",
    "fig_1.update_traces(marker=dict(size=16))"
   ]
  },
  {
   "cell_type": "code",
   "execution_count": null,
   "id": "050a49fa",
   "metadata": {},
   "outputs": [],
   "source": []
  },
  {
   "cell_type": "code",
   "execution_count": null,
   "id": "0b425a07",
   "metadata": {},
   "outputs": [],
   "source": []
  },
  {
   "cell_type": "code",
   "execution_count": null,
   "id": "1df92e87",
   "metadata": {},
   "outputs": [],
   "source": []
  },
  {
   "cell_type": "code",
   "execution_count": null,
   "id": "0ddcb16c",
   "metadata": {},
   "outputs": [],
   "source": [
    "def get_category_type(row):\n",
    "    try:\n",
    "        categories_list = row['categories']\n",
    "    except:\n",
    "        categories_list = row['venue.categories']\n",
    "        \n",
    "    if len(categories_list) == 0:\n",
    "        return None\n",
    "    else:\n",
    "        return categories_list[0]['name']\n",
    "\n",
    "#flatten JSON, Normalize JSON to Dataframe\n",
    "dataframe = json_normalize(items) \n",
    "\n",
    "# filter columns,consider only required columns\n",
    "filtered_columns = ['venue.name', 'venue.categories'] + [col for col in dataframe.columns if col.startswith('venue.location.')] + ['venue.id']\n",
    "nearby = dataframe.loc[:, filtered_columns]\n",
    "\n",
    "# filter the category for each row\n",
    "nearby['venue.categories'] = nearby.apply(get_category_type, axis=1)\n",
    "\n",
    "# clean columns\n",
    "nearby.columns = [col.split('.')[-1] for col in nearby.columns]\n",
    "\n",
    "#replce NaN values with Not found in address\n",
    "nearby['address'] = nearby['address'].fillna(\"Not found\")\n",
    "nearby.head(10)      "
   ]
  },
  {
   "cell_type": "code",
   "execution_count": null,
   "id": "c84c9af5",
   "metadata": {},
   "outputs": [],
   "source": [
    "# creating map zoom at present Location\n",
    "map = folium.Map(location=[latitude,longitude],zoom_start=14)\n",
    "\n",
    "# adding the current location to map\n",
    "folium.CircleMarker(location=[latitude,longitude],radius=5,color='red',fill=True,fill_color='red').add_to(map)\n",
    "folium.Marker(location=[latitude,longitude],popup=\"<strong> Current Location</strong>\",icon = folium.Icon(color='red')).add_to(map)\n",
    "\n",
    "# drawing radius of search\n",
    "folium.Circle(location=[latitude,longitude],radius=radius,color='blue',opacity=0.5,fill=True,fill_color='blue').add_to(map)\n",
    "\n",
    "# adding all the popular places around\n",
    "for lat,lon,name,cate,addr,dist in zip(nearby.lat,nearby.lng,nearby.name,nearby.categories,nearby.address,nearby.distance):\n",
    "    folium.CircleMarker(location=[lat,lon],radius=5,color=\"red\",fill=True,fill_color='red').add_to(map)\n",
    "    folium.Marker(location=[lat,lon],\n",
    "              popup= folium.Popup(('<strong><font color =\"red\">Name :     </font>'+name+'</strong><br>'+\n",
    "                                   '<strong><font color =\"red\">Categorie :    </font>'+cate+'</strong><br>'+\n",
    "                                   '<strong><font color =\"red\">Address :    </font>'+addr+'</strong><br>'+\n",
    "                                   '<strong><font color =\"red\">Distance :    </font>'+str(dist)+' mts</strong>'\n",
    "                                   ),max_width=250)).add_to(map)\n",
    "\n",
    "map"
   ]
  }
 ],
 "metadata": {
  "kernelspec": {
   "display_name": "Python 3 (ipykernel)",
   "language": "python",
   "name": "python3"
  },
  "language_info": {
   "codemirror_mode": {
    "name": "ipython",
    "version": 3
   },
   "file_extension": ".py",
   "mimetype": "text/x-python",
   "name": "python",
   "nbconvert_exporter": "python",
   "pygments_lexer": "ipython3",
   "version": "3.8.9"
  }
 },
 "nbformat": 4,
 "nbformat_minor": 5
}
