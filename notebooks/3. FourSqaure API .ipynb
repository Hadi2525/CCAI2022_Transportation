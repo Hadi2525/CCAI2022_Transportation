{
 "cells": [
  {
   "cell_type": "code",
   "execution_count": 89,
   "id": "a326f4bc",
   "metadata": {},
   "outputs": [],
   "source": [
    "import pandas as pd\n",
    "import json\n",
    "import os\n",
    "import uuid\n",
    "\n",
    "import geopandas as gpd"
   ]
  },
  {
   "cell_type": "code",
   "execution_count": 2,
   "id": "35eae95f",
   "metadata": {},
   "outputs": [
    {
     "data": {
      "text/plain": [
       "{'token': 'fsq3D/VHyHU4HVfbaRITsOl0pIswAP2pr//Ac/m+gD5H1TI=',\n",
       " 'client_id': 'Q1B4DZHK1Q4YYMMQXYH1J4N3CKDH5DLR5FGNTHILBZD0BXVO',\n",
       " 'client_secret': 'AJWWWAR2WHOQDLLESW4DHRQTXUFEPBOILFHR5XJSATEQZR5D'}"
      ]
     },
     "execution_count": 2,
     "metadata": {},
     "output_type": "execute_result"
    }
   ],
   "source": [
    "with open('../.foursquare_API.json', 'r') as file:\n",
    "    secrets = json.load(file)\n",
    "\n",
    "secrets"
   ]
  },
  {
   "cell_type": "markdown",
   "id": "74cc8796",
   "metadata": {},
   "source": [
    "1. Read dataset"
   ]
  },
  {
   "cell_type": "code",
   "execution_count": 3,
   "id": "b871244e",
   "metadata": {},
   "outputs": [],
   "source": [
    "dirName = '/Users/mikhailgasanov/Downloads/EVdatasets/PaloAlto/'\n",
    "fnames = os.listdir(dirName)\n",
    "df = pd.read_csv(os.path.join(dirName, fnames[0]))"
   ]
  },
  {
   "cell_type": "code",
   "execution_count": 8,
   "id": "8eb6c93c",
   "metadata": {},
   "outputs": [],
   "source": [
    "coords = df[['Latitude', 'Longitude']].drop_duplicates()"
   ]
  },
  {
   "cell_type": "code",
   "execution_count": 35,
   "id": "24c98226",
   "metadata": {},
   "outputs": [],
   "source": [
    "LIMIT = 49\n",
    "RADIUS = 1000\n",
    "\n",
    "Latitude = coords.iloc[0, :]['Latitude']\n",
    "\n",
    "Longitude = coords.iloc[0, :]['Longitude']\n",
    "\n",
    "session_token = str(uuid.uuid4())\n",
    "\n",
    "url = f\"https://api.foursquare.com/v3/places/search?ll={Latitude},{Longitude}&radius={RADIUS}&limit={LIMIT}&session_token={session_token}\"\n",
    "\n",
    "headers = {\n",
    "\n",
    "    \"Accept\": \"application/json\",\n",
    "\n",
    "    \"Authorization\": secrets['token']\n",
    "\n",
    "}\n",
    "\n",
    "response = requests.get(url, headers=headers)\n",
    "\n"
   ]
  },
  {
   "cell_type": "code",
   "execution_count": 40,
   "id": "8b5add65",
   "metadata": {},
   "outputs": [],
   "source": [
    "results = response.json()"
   ]
  },
  {
   "cell_type": "code",
   "execution_count": 41,
   "id": "70e23fb8",
   "metadata": {},
   "outputs": [],
   "source": [
    "import pandas as pd # for data processing\n",
    "import folium   #for creating maps\n",
    "import requests  #for retreiving Information from URL\n",
    "from geopy.geocoders import Nominatim  #converting address to cordinates\n",
    "from pandas.io.json import json_normalize #converting json to DataFrame "
   ]
  },
  {
   "cell_type": "code",
   "execution_count": null,
   "id": "18ea35b6",
   "metadata": {},
   "outputs": [],
   "source": []
  },
  {
   "cell_type": "code",
   "execution_count": 78,
   "id": "41999377",
   "metadata": {},
   "outputs": [],
   "source": [
    "def getCategory(resp:dict):\n",
    "    categories = [i['categories'][0]['name'] for i in results['results']]\n",
    "    latitude = [i['geocodes']['main']['latitude'] for i in results['results']]\n",
    "    longitude = [i['geocodes']['main']['longitude'] for i in results['results']]\n",
    "    df = pd.DataFrame(data=[categories, latitude, longitude]).T\n",
    "    df.columns=['category_building', 'latitude', 'longitude']\n",
    "    return df\n",
    "\n",
    "# def getDistance(source_point:dict)"
   ]
  },
  {
   "cell_type": "code",
   "execution_count": 79,
   "id": "68592a81",
   "metadata": {},
   "outputs": [],
   "source": [
    "from shapely.geometry import Point"
   ]
  },
  {
   "cell_type": "code",
   "execution_count": 80,
   "id": "7a9a53be",
   "metadata": {},
   "outputs": [
    {
     "name": "stdout",
     "output_type": "stream",
     "text": [
      "279352.90160430095\n"
     ]
    }
   ],
   "source": [
    "import geopy.distance\n",
    "\n",
    "coords_1 = (52.2296756, 21.0122287)\n",
    "coords_2 = (52.406374, 16.9251681)\n",
    "\n",
    "print(geopy.distance.geodesic(coords_1, coords_2).m)\n"
   ]
  },
  {
   "cell_type": "code",
   "execution_count": 105,
   "id": "48d41dcf",
   "metadata": {},
   "outputs": [],
   "source": [
    "df_cat = getCategory(resp=results)"
   ]
  },
  {
   "cell_type": "code",
   "execution_count": 106,
   "id": "623937a7",
   "metadata": {},
   "outputs": [
    {
     "data": {
      "text/html": [
       "<div>\n",
       "<style scoped>\n",
       "    .dataframe tbody tr th:only-of-type {\n",
       "        vertical-align: middle;\n",
       "    }\n",
       "\n",
       "    .dataframe tbody tr th {\n",
       "        vertical-align: top;\n",
       "    }\n",
       "\n",
       "    .dataframe thead th {\n",
       "        text-align: right;\n",
       "    }\n",
       "</style>\n",
       "<table border=\"1\" class=\"dataframe\">\n",
       "  <thead>\n",
       "    <tr style=\"text-align: right;\">\n",
       "      <th></th>\n",
       "      <th>category_building</th>\n",
       "      <th>latitude</th>\n",
       "      <th>longitude</th>\n",
       "    </tr>\n",
       "  </thead>\n",
       "  <tbody>\n",
       "    <tr>\n",
       "      <th>0</th>\n",
       "      <td>Restaurant</td>\n",
       "      <td>37.44476</td>\n",
       "      <td>-122.161114</td>\n",
       "    </tr>\n",
       "    <tr>\n",
       "      <th>1</th>\n",
       "      <td>Ramen Restaurant</td>\n",
       "      <td>37.445575</td>\n",
       "      <td>-122.16073</td>\n",
       "    </tr>\n",
       "    <tr>\n",
       "      <th>2</th>\n",
       "      <td>Caribbean Restaurant</td>\n",
       "      <td>37.443964</td>\n",
       "      <td>-122.160353</td>\n",
       "    </tr>\n",
       "    <tr>\n",
       "      <th>3</th>\n",
       "      <td>Restaurant</td>\n",
       "      <td>37.445581</td>\n",
       "      <td>-122.160786</td>\n",
       "    </tr>\n",
       "    <tr>\n",
       "      <th>4</th>\n",
       "      <td>Mexican Restaurant</td>\n",
       "      <td>37.444107</td>\n",
       "      <td>-122.161077</td>\n",
       "    </tr>\n",
       "    <tr>\n",
       "      <th>5</th>\n",
       "      <td>Restaurant</td>\n",
       "      <td>37.445455</td>\n",
       "      <td>-122.160581</td>\n",
       "    </tr>\n",
       "    <tr>\n",
       "      <th>6</th>\n",
       "      <td>Bistro</td>\n",
       "      <td>37.444663</td>\n",
       "      <td>-122.161538</td>\n",
       "    </tr>\n",
       "    <tr>\n",
       "      <th>7</th>\n",
       "      <td>Art Gallery</td>\n",
       "      <td>37.444423</td>\n",
       "      <td>-122.161238</td>\n",
       "    </tr>\n",
       "    <tr>\n",
       "      <th>8</th>\n",
       "      <td>Bar</td>\n",
       "      <td>37.445131</td>\n",
       "      <td>-122.161421</td>\n",
       "    </tr>\n",
       "    <tr>\n",
       "      <th>9</th>\n",
       "      <td>Barbershop</td>\n",
       "      <td>37.444478</td>\n",
       "      <td>-122.161384</td>\n",
       "    </tr>\n",
       "    <tr>\n",
       "      <th>10</th>\n",
       "      <td>Pizzeria</td>\n",
       "      <td>37.443458</td>\n",
       "      <td>-122.16054</td>\n",
       "    </tr>\n",
       "    <tr>\n",
       "      <th>11</th>\n",
       "      <td>Tea Room</td>\n",
       "      <td>37.444756</td>\n",
       "      <td>-122.161614</td>\n",
       "    </tr>\n",
       "    <tr>\n",
       "      <th>12</th>\n",
       "      <td>Diner</td>\n",
       "      <td>37.443979</td>\n",
       "      <td>-122.161928</td>\n",
       "    </tr>\n",
       "    <tr>\n",
       "      <th>13</th>\n",
       "      <td>Fast Food Restaurant</td>\n",
       "      <td>37.445551</td>\n",
       "      <td>-122.160157</td>\n",
       "    </tr>\n",
       "    <tr>\n",
       "      <th>14</th>\n",
       "      <td>Wine Bar</td>\n",
       "      <td>37.444876</td>\n",
       "      <td>-122.161764</td>\n",
       "    </tr>\n",
       "    <tr>\n",
       "      <th>15</th>\n",
       "      <td>Café</td>\n",
       "      <td>37.444718</td>\n",
       "      <td>-122.161684</td>\n",
       "    </tr>\n",
       "    <tr>\n",
       "      <th>16</th>\n",
       "      <td>Indian Restaurant</td>\n",
       "      <td>37.44531</td>\n",
       "      <td>-122.161216</td>\n",
       "    </tr>\n",
       "    <tr>\n",
       "      <th>17</th>\n",
       "      <td>Ice Cream Parlor</td>\n",
       "      <td>37.445333</td>\n",
       "      <td>-122.16179</td>\n",
       "    </tr>\n",
       "    <tr>\n",
       "      <th>18</th>\n",
       "      <td>Mediterranean Restaurant</td>\n",
       "      <td>37.445563</td>\n",
       "      <td>-122.162232</td>\n",
       "    </tr>\n",
       "    <tr>\n",
       "      <th>19</th>\n",
       "      <td>Cosmetics Store</td>\n",
       "      <td>37.443873</td>\n",
       "      <td>-122.161135</td>\n",
       "    </tr>\n",
       "    <tr>\n",
       "      <th>20</th>\n",
       "      <td>Candy Store</td>\n",
       "      <td>37.445533</td>\n",
       "      <td>-122.1613</td>\n",
       "    </tr>\n",
       "    <tr>\n",
       "      <th>21</th>\n",
       "      <td>Movie Theater</td>\n",
       "      <td>37.445167</td>\n",
       "      <td>-122.162711</td>\n",
       "    </tr>\n",
       "    <tr>\n",
       "      <th>22</th>\n",
       "      <td>Bookstore</td>\n",
       "      <td>37.444181</td>\n",
       "      <td>-122.162298</td>\n",
       "    </tr>\n",
       "    <tr>\n",
       "      <th>23</th>\n",
       "      <td>Electronics Store</td>\n",
       "      <td>37.446303</td>\n",
       "      <td>-122.160628</td>\n",
       "    </tr>\n",
       "    <tr>\n",
       "      <th>24</th>\n",
       "      <td>Café</td>\n",
       "      <td>37.444274</td>\n",
       "      <td>-122.162374</td>\n",
       "    </tr>\n",
       "    <tr>\n",
       "      <th>25</th>\n",
       "      <td>Latin American Restaurant</td>\n",
       "      <td>37.443324</td>\n",
       "      <td>-122.161033</td>\n",
       "    </tr>\n",
       "    <tr>\n",
       "      <th>26</th>\n",
       "      <td>Farmers' Market</td>\n",
       "      <td>37.445734</td>\n",
       "      <td>-122.159451</td>\n",
       "    </tr>\n",
       "    <tr>\n",
       "      <th>27</th>\n",
       "      <td>Pub</td>\n",
       "      <td>37.444419</td>\n",
       "      <td>-122.161739</td>\n",
       "    </tr>\n",
       "    <tr>\n",
       "      <th>28</th>\n",
       "      <td>Restaurant</td>\n",
       "      <td>37.443639</td>\n",
       "      <td>-122.161996</td>\n",
       "    </tr>\n",
       "    <tr>\n",
       "      <th>29</th>\n",
       "      <td>Electronics Store</td>\n",
       "      <td>37.445588</td>\n",
       "      <td>-122.161447</td>\n",
       "    </tr>\n",
       "    <tr>\n",
       "      <th>30</th>\n",
       "      <td>Bank</td>\n",
       "      <td>37.445235</td>\n",
       "      <td>-122.159996</td>\n",
       "    </tr>\n",
       "    <tr>\n",
       "      <th>31</th>\n",
       "      <td>Ice Cream Parlor</td>\n",
       "      <td>37.444999</td>\n",
       "      <td>-122.159195</td>\n",
       "    </tr>\n",
       "    <tr>\n",
       "      <th>32</th>\n",
       "      <td>Gift Store</td>\n",
       "      <td>37.443941</td>\n",
       "      <td>-122.161998</td>\n",
       "    </tr>\n",
       "    <tr>\n",
       "      <th>33</th>\n",
       "      <td>Dim Sum Restaurant</td>\n",
       "      <td>37.446469</td>\n",
       "      <td>-122.159707</td>\n",
       "    </tr>\n",
       "    <tr>\n",
       "      <th>34</th>\n",
       "      <td>Café</td>\n",
       "      <td>37.444314</td>\n",
       "      <td>-122.160946</td>\n",
       "    </tr>\n",
       "    <tr>\n",
       "      <th>35</th>\n",
       "      <td>Breakfast Spot</td>\n",
       "      <td>37.443998</td>\n",
       "      <td>-122.162982</td>\n",
       "    </tr>\n",
       "    <tr>\n",
       "      <th>36</th>\n",
       "      <td>Ice Cream Parlor</td>\n",
       "      <td>37.44495</td>\n",
       "      <td>-122.162985</td>\n",
       "    </tr>\n",
       "    <tr>\n",
       "      <th>37</th>\n",
       "      <td>Sushi Restaurant</td>\n",
       "      <td>37.443608</td>\n",
       "      <td>-122.161621</td>\n",
       "    </tr>\n",
       "    <tr>\n",
       "      <th>38</th>\n",
       "      <td>Shoe Store</td>\n",
       "      <td>37.445708</td>\n",
       "      <td>-122.161597</td>\n",
       "    </tr>\n",
       "    <tr>\n",
       "      <th>39</th>\n",
       "      <td>Cafes, Coffee, and Tea Houses</td>\n",
       "      <td>37.444184</td>\n",
       "      <td>-122.163079</td>\n",
       "    </tr>\n",
       "    <tr>\n",
       "      <th>40</th>\n",
       "      <td>Nail Salon</td>\n",
       "      <td>37.444099</td>\n",
       "      <td>-122.162078</td>\n",
       "    </tr>\n",
       "    <tr>\n",
       "      <th>41</th>\n",
       "      <td>Asian Restaurant</td>\n",
       "      <td>37.444343</td>\n",
       "      <td>-122.161877</td>\n",
       "    </tr>\n",
       "    <tr>\n",
       "      <th>42</th>\n",
       "      <td>Clothing Store</td>\n",
       "      <td>37.444937</td>\n",
       "      <td>-122.162269</td>\n",
       "    </tr>\n",
       "    <tr>\n",
       "      <th>43</th>\n",
       "      <td>Grocery Store / Supermarket</td>\n",
       "      <td>37.442357</td>\n",
       "      <td>-122.159476</td>\n",
       "    </tr>\n",
       "    <tr>\n",
       "      <th>44</th>\n",
       "      <td>Greek Restaurant</td>\n",
       "      <td>37.442127</td>\n",
       "      <td>-122.159034</td>\n",
       "    </tr>\n",
       "    <tr>\n",
       "      <th>45</th>\n",
       "      <td>Lounge</td>\n",
       "      <td>37.446381</td>\n",
       "      <td>-122.161348</td>\n",
       "    </tr>\n",
       "    <tr>\n",
       "      <th>46</th>\n",
       "      <td>Cafes, Coffee, and Tea Houses</td>\n",
       "      <td>37.442162</td>\n",
       "      <td>-122.161683</td>\n",
       "    </tr>\n",
       "    <tr>\n",
       "      <th>47</th>\n",
       "      <td>American Restaurant</td>\n",
       "      <td>37.445778</td>\n",
       "      <td>-122.163318</td>\n",
       "    </tr>\n",
       "    <tr>\n",
       "      <th>48</th>\n",
       "      <td>Restaurant</td>\n",
       "      <td>37.44544</td>\n",
       "      <td>-122.161224</td>\n",
       "    </tr>\n",
       "  </tbody>\n",
       "</table>\n",
       "</div>"
      ],
      "text/plain": [
       "                category_building   latitude   longitude\n",
       "0                      Restaurant   37.44476 -122.161114\n",
       "1                Ramen Restaurant  37.445575  -122.16073\n",
       "2            Caribbean Restaurant  37.443964 -122.160353\n",
       "3                      Restaurant  37.445581 -122.160786\n",
       "4              Mexican Restaurant  37.444107 -122.161077\n",
       "5                      Restaurant  37.445455 -122.160581\n",
       "6                          Bistro  37.444663 -122.161538\n",
       "7                     Art Gallery  37.444423 -122.161238\n",
       "8                             Bar  37.445131 -122.161421\n",
       "9                      Barbershop  37.444478 -122.161384\n",
       "10                       Pizzeria  37.443458  -122.16054\n",
       "11                       Tea Room  37.444756 -122.161614\n",
       "12                          Diner  37.443979 -122.161928\n",
       "13           Fast Food Restaurant  37.445551 -122.160157\n",
       "14                       Wine Bar  37.444876 -122.161764\n",
       "15                           Café  37.444718 -122.161684\n",
       "16              Indian Restaurant   37.44531 -122.161216\n",
       "17               Ice Cream Parlor  37.445333  -122.16179\n",
       "18       Mediterranean Restaurant  37.445563 -122.162232\n",
       "19                Cosmetics Store  37.443873 -122.161135\n",
       "20                    Candy Store  37.445533   -122.1613\n",
       "21                  Movie Theater  37.445167 -122.162711\n",
       "22                      Bookstore  37.444181 -122.162298\n",
       "23              Electronics Store  37.446303 -122.160628\n",
       "24                           Café  37.444274 -122.162374\n",
       "25      Latin American Restaurant  37.443324 -122.161033\n",
       "26                Farmers' Market  37.445734 -122.159451\n",
       "27                            Pub  37.444419 -122.161739\n",
       "28                     Restaurant  37.443639 -122.161996\n",
       "29              Electronics Store  37.445588 -122.161447\n",
       "30                           Bank  37.445235 -122.159996\n",
       "31               Ice Cream Parlor  37.444999 -122.159195\n",
       "32                     Gift Store  37.443941 -122.161998\n",
       "33             Dim Sum Restaurant  37.446469 -122.159707\n",
       "34                           Café  37.444314 -122.160946\n",
       "35                 Breakfast Spot  37.443998 -122.162982\n",
       "36               Ice Cream Parlor   37.44495 -122.162985\n",
       "37               Sushi Restaurant  37.443608 -122.161621\n",
       "38                     Shoe Store  37.445708 -122.161597\n",
       "39  Cafes, Coffee, and Tea Houses  37.444184 -122.163079\n",
       "40                     Nail Salon  37.444099 -122.162078\n",
       "41               Asian Restaurant  37.444343 -122.161877\n",
       "42                 Clothing Store  37.444937 -122.162269\n",
       "43    Grocery Store / Supermarket  37.442357 -122.159476\n",
       "44               Greek Restaurant  37.442127 -122.159034\n",
       "45                         Lounge  37.446381 -122.161348\n",
       "46  Cafes, Coffee, and Tea Houses  37.442162 -122.161683\n",
       "47            American Restaurant  37.445778 -122.163318\n",
       "48                     Restaurant   37.44544 -122.161224"
      ]
     },
     "execution_count": 106,
     "metadata": {},
     "output_type": "execute_result"
    }
   ],
   "source": [
    "df_cat"
   ]
  },
  {
   "cell_type": "code",
   "execution_count": 84,
   "id": "723bef32",
   "metadata": {},
   "outputs": [],
   "source": [
    "def getDistance(coords_1:set, coords_2:set):\n",
    "    return geopy.distance.geodesic(coords_1, coords_2).m"
   ]
  },
  {
   "cell_type": "code",
   "execution_count": null,
   "id": "1f1b316e",
   "metadata": {},
   "outputs": [],
   "source": []
  },
  {
   "cell_type": "code",
   "execution_count": 86,
   "id": "8cffbb8a",
   "metadata": {},
   "outputs": [],
   "source": [
    "df_cat.loc[:, 'distance'] = df_cat.apply(lambda x: getDistance(coords_1=(Latitude, Longitude), coords_2=(x.latitude, x.longitude)), axis=1)"
   ]
  },
  {
   "cell_type": "code",
   "execution_count": 90,
   "id": "06bef0b6",
   "metadata": {},
   "outputs": [],
   "source": [
    "gdf = gpd.GeoDataFrame(data=df_cat, geometry=gpd.points_from_xy(x=df_cat['latitude'], y=df_cat['longitude']))"
   ]
  },
  {
   "cell_type": "code",
   "execution_count": null,
   "id": "9fea3822",
   "metadata": {},
   "outputs": [],
   "source": [
    "import plotly.graph_objects as go\n",
    "import pandas as pd\n",
    "\n",
    "\n",
    "fig.add_trace(go.Scattermapbox(\n",
    "        lat=site_lat,\n",
    "        lon=site_lon,\n",
    "        mode='markers',\n",
    "        marker=go.scattermapbox.Marker(\n",
    "            size=17,\n",
    "            color='rgb(255, 0, 0)',\n",
    "            opacity=0.7\n",
    "        ),\n",
    "        text=locations_name,\n",
    "        hoverinfo='text'\n",
    "    ))\n",
    "\n",
    "fig.add_trace(go.Scattermapbox(\n",
    "        lat=site_lat,\n",
    "        lon=site_lon,\n",
    "        mode='markers',\n",
    "        marker=go.scattermapbox.Marker(\n",
    "            size=8,\n",
    "            color='rgb(242, 177, 172)',\n",
    "            opacity=0.7\n",
    "        ),\n",
    "        hoverinfo='none'\n",
    "    ))"
   ]
  },
  {
   "cell_type": "code",
   "execution_count": null,
   "id": "58c780e3",
   "metadata": {},
   "outputs": [],
   "source": [
    "Point"
   ]
  },
  {
   "cell_type": "code",
   "execution_count": 97,
   "id": "7b7dd8c1",
   "metadata": {},
   "outputs": [
    {
     "data": {
      "image/svg+xml": [
       "<svg xmlns=\"http://www.w3.org/2000/svg\" xmlns:xlink=\"http://www.w3.org/1999/xlink\" width=\"100.0\" height=\"100.0\" viewBox=\"-123.160309 36.444572 2.0 2.0\" preserveAspectRatio=\"xMinYMin meet\"><g transform=\"matrix(1,0,0,-1,0,74.889144)\"><circle cx=\"-122.160309\" cy=\"37.444572\" r=\"0.06\" stroke=\"#555555\" stroke-width=\"0.02\" fill=\"#66cc99\" opacity=\"0.6\" /></g></svg>"
      ],
      "text/plain": [
       "<shapely.geometry.point.Point at 0x1342f8b80>"
      ]
     },
     "execution_count": 97,
     "metadata": {},
     "output_type": "execute_result"
    }
   ],
   "source": [
    "Point(Longitude, Latitude)"
   ]
  },
  {
   "cell_type": "code",
   "execution_count": 99,
   "id": "213f8856",
   "metadata": {},
   "outputs": [],
   "source": [
    "point_gdf = gpd.GeoDataFrame(data=['Charger'], geometry=[Point(Longitude, Latitude)])"
   ]
  },
  {
   "cell_type": "code",
   "execution_count": 101,
   "id": "0d853c5f",
   "metadata": {},
   "outputs": [],
   "source": [
    "point_gdf.loc[:, 'latitude'] = Latitude\n",
    "point_gdf.loc[:, 'longitude'] = Longitude"
   ]
  },
  {
   "cell_type": "code",
   "execution_count": 104,
   "id": "116c0dc3",
   "metadata": {},
   "outputs": [
    {
     "data": {
      "application/vnd.plotly.v1+json": {
       "config": {
        "plotlyServerURL": "https://plot.ly"
       },
       "data": [
        {
         "hovertemplate": "latitude=%{lat}<br>longitude=%{lon}<br>distance=%{marker.color}<extra></extra>",
         "lat": [
          37.44476,
          37.445575,
          37.443964,
          37.445581,
          37.444107,
          37.445455,
          37.444663,
          37.444423,
          37.445131,
          37.444478,
          37.443458,
          37.444756,
          37.443979,
          37.445551,
          37.444876,
          37.444718,
          37.44531,
          37.445333,
          37.445563,
          37.443873,
          37.445533,
          37.445167,
          37.444181,
          37.446303,
          37.444274,
          37.443324,
          37.445734,
          37.444419,
          37.443639,
          37.445588,
          37.445235,
          37.444999,
          37.443941,
          37.446469,
          37.444314,
          37.443998,
          37.44495,
          37.443608,
          37.445708,
          37.444184,
          37.444099,
          37.444343,
          37.444937,
          37.442357,
          37.442127,
          37.446381,
          37.442162,
          37.445778,
          37.44544
         ],
         "legendgroup": "",
         "lon": [
          -122.161114,
          -122.16073,
          -122.160353,
          -122.160786,
          -122.161077,
          -122.160581,
          -122.161538,
          -122.161238,
          -122.161421,
          -122.161384,
          -122.16054,
          -122.161614,
          -122.161928,
          -122.160157,
          -122.161764,
          -122.161684,
          -122.161216,
          -122.16179,
          -122.162232,
          -122.161135,
          -122.1613,
          -122.162711,
          -122.162298,
          -122.160628,
          -122.162374,
          -122.161033,
          -122.159451,
          -122.161739,
          -122.161996,
          -122.161447,
          -122.159996,
          -122.159195,
          -122.161998,
          -122.159707,
          -122.160946,
          -122.162982,
          -122.162985,
          -122.161621,
          -122.161597,
          -122.163079,
          -122.162078,
          -122.161877,
          -122.162269,
          -122.159476,
          -122.159034,
          -122.161348,
          -122.161683,
          -122.163318,
          -122.161224
         ],
         "marker": {
          "color": [
           74.22792880658952,
           117.38738664841969,
           67.59171881736364,
           119.67573166206168,
           85.33550960824807,
           100.91312463565274,
           109.2230412768282,
           83.85478558342484,
           116.3268483762922,
           95.69799981900667,
           125.31682168854344,
           117.27205857188632,
           157.66115336596084,
           109.48465450507403,
           133.10113380854682,
           122.748917360117,
           114.67628683415182,
           155.91261214715377,
           202.6174878877442,
           106.58904098006231,
           138.07980600149222,
           222.57590630819064,
           181.27932786048737,
           194.17953258294017,
           185.70276375038856,
           152.61012006922942,
           149.65523462691067,
           127.67618264633093,
           181.68255869741105,
           151.1822513856301,
           78.62387854490017,
           109.37831622301722,
           165.05529934037207,
           217.1751853139114,
           63.22467828459163,
           244.96544185688822,
           240.4882465489402,
           157.88071596893457,
           169.96043000139795,
           248.87391161208708,
           165.10858839309958,
           141.06225651092942,
           178.10950908042722,
           256.6477321707298,
           293.8820956500078,
           220.82387950041905,
           293.8149358639246,
           298.01589848370554,
           125.84318449805193
          ],
          "coloraxis": "coloraxis",
          "size": 16
         },
         "mode": "markers",
         "name": "",
         "showlegend": false,
         "subplot": "mapbox",
         "type": "scattermapbox"
        }
       ],
       "layout": {
        "coloraxis": {
         "colorbar": {
          "title": {
           "text": "distance"
          }
         },
         "colorscale": [
          [
           0,
           "rgb(255,245,240)"
          ],
          [
           0.125,
           "rgb(254,224,210)"
          ],
          [
           0.25,
           "rgb(252,187,161)"
          ],
          [
           0.375,
           "rgb(252,146,114)"
          ],
          [
           0.5,
           "rgb(251,106,74)"
          ],
          [
           0.625,
           "rgb(239,59,44)"
          ],
          [
           0.75,
           "rgb(203,24,29)"
          ],
          [
           0.875,
           "rgb(165,15,21)"
          ],
          [
           1,
           "rgb(103,0,13)"
          ]
         ]
        },
        "height": 600,
        "legend": {
         "tracegroupgap": 0
        },
        "mapbox": {
         "accesstoken": "pk.eyJ1IjoibWlzaGFncm9sIiwiYSI6ImNrdGtjbHV5aTFrd20ydW11bDdobWtoaTkifQ.4o97K1zdDfY61Sj9377N6Q\n",
         "center": {
          "lat": 37.444668285714286,
          "lon": -122.161340244898
         },
         "domain": {
          "x": [
           0,
           1
          ],
          "y": [
           0,
           1
          ]
         },
         "style": "satellite",
         "zoom": 16
        },
        "margin": {
         "b": 0,
         "l": 0,
         "r": 0,
         "t": 0
        },
        "template": {
         "data": {
          "bar": [
           {
            "error_x": {
             "color": "#2a3f5f"
            },
            "error_y": {
             "color": "#2a3f5f"
            },
            "marker": {
             "line": {
              "color": "#E5ECF6",
              "width": 0.5
             },
             "pattern": {
              "fillmode": "overlay",
              "size": 10,
              "solidity": 0.2
             }
            },
            "type": "bar"
           }
          ],
          "barpolar": [
           {
            "marker": {
             "line": {
              "color": "#E5ECF6",
              "width": 0.5
             },
             "pattern": {
              "fillmode": "overlay",
              "size": 10,
              "solidity": 0.2
             }
            },
            "type": "barpolar"
           }
          ],
          "carpet": [
           {
            "aaxis": {
             "endlinecolor": "#2a3f5f",
             "gridcolor": "white",
             "linecolor": "white",
             "minorgridcolor": "white",
             "startlinecolor": "#2a3f5f"
            },
            "baxis": {
             "endlinecolor": "#2a3f5f",
             "gridcolor": "white",
             "linecolor": "white",
             "minorgridcolor": "white",
             "startlinecolor": "#2a3f5f"
            },
            "type": "carpet"
           }
          ],
          "choropleth": [
           {
            "colorbar": {
             "outlinewidth": 0,
             "ticks": ""
            },
            "type": "choropleth"
           }
          ],
          "contour": [
           {
            "colorbar": {
             "outlinewidth": 0,
             "ticks": ""
            },
            "colorscale": [
             [
              0,
              "#0d0887"
             ],
             [
              0.1111111111111111,
              "#46039f"
             ],
             [
              0.2222222222222222,
              "#7201a8"
             ],
             [
              0.3333333333333333,
              "#9c179e"
             ],
             [
              0.4444444444444444,
              "#bd3786"
             ],
             [
              0.5555555555555556,
              "#d8576b"
             ],
             [
              0.6666666666666666,
              "#ed7953"
             ],
             [
              0.7777777777777778,
              "#fb9f3a"
             ],
             [
              0.8888888888888888,
              "#fdca26"
             ],
             [
              1,
              "#f0f921"
             ]
            ],
            "type": "contour"
           }
          ],
          "contourcarpet": [
           {
            "colorbar": {
             "outlinewidth": 0,
             "ticks": ""
            },
            "type": "contourcarpet"
           }
          ],
          "heatmap": [
           {
            "colorbar": {
             "outlinewidth": 0,
             "ticks": ""
            },
            "colorscale": [
             [
              0,
              "#0d0887"
             ],
             [
              0.1111111111111111,
              "#46039f"
             ],
             [
              0.2222222222222222,
              "#7201a8"
             ],
             [
              0.3333333333333333,
              "#9c179e"
             ],
             [
              0.4444444444444444,
              "#bd3786"
             ],
             [
              0.5555555555555556,
              "#d8576b"
             ],
             [
              0.6666666666666666,
              "#ed7953"
             ],
             [
              0.7777777777777778,
              "#fb9f3a"
             ],
             [
              0.8888888888888888,
              "#fdca26"
             ],
             [
              1,
              "#f0f921"
             ]
            ],
            "type": "heatmap"
           }
          ],
          "heatmapgl": [
           {
            "colorbar": {
             "outlinewidth": 0,
             "ticks": ""
            },
            "colorscale": [
             [
              0,
              "#0d0887"
             ],
             [
              0.1111111111111111,
              "#46039f"
             ],
             [
              0.2222222222222222,
              "#7201a8"
             ],
             [
              0.3333333333333333,
              "#9c179e"
             ],
             [
              0.4444444444444444,
              "#bd3786"
             ],
             [
              0.5555555555555556,
              "#d8576b"
             ],
             [
              0.6666666666666666,
              "#ed7953"
             ],
             [
              0.7777777777777778,
              "#fb9f3a"
             ],
             [
              0.8888888888888888,
              "#fdca26"
             ],
             [
              1,
              "#f0f921"
             ]
            ],
            "type": "heatmapgl"
           }
          ],
          "histogram": [
           {
            "marker": {
             "pattern": {
              "fillmode": "overlay",
              "size": 10,
              "solidity": 0.2
             }
            },
            "type": "histogram"
           }
          ],
          "histogram2d": [
           {
            "colorbar": {
             "outlinewidth": 0,
             "ticks": ""
            },
            "colorscale": [
             [
              0,
              "#0d0887"
             ],
             [
              0.1111111111111111,
              "#46039f"
             ],
             [
              0.2222222222222222,
              "#7201a8"
             ],
             [
              0.3333333333333333,
              "#9c179e"
             ],
             [
              0.4444444444444444,
              "#bd3786"
             ],
             [
              0.5555555555555556,
              "#d8576b"
             ],
             [
              0.6666666666666666,
              "#ed7953"
             ],
             [
              0.7777777777777778,
              "#fb9f3a"
             ],
             [
              0.8888888888888888,
              "#fdca26"
             ],
             [
              1,
              "#f0f921"
             ]
            ],
            "type": "histogram2d"
           }
          ],
          "histogram2dcontour": [
           {
            "colorbar": {
             "outlinewidth": 0,
             "ticks": ""
            },
            "colorscale": [
             [
              0,
              "#0d0887"
             ],
             [
              0.1111111111111111,
              "#46039f"
             ],
             [
              0.2222222222222222,
              "#7201a8"
             ],
             [
              0.3333333333333333,
              "#9c179e"
             ],
             [
              0.4444444444444444,
              "#bd3786"
             ],
             [
              0.5555555555555556,
              "#d8576b"
             ],
             [
              0.6666666666666666,
              "#ed7953"
             ],
             [
              0.7777777777777778,
              "#fb9f3a"
             ],
             [
              0.8888888888888888,
              "#fdca26"
             ],
             [
              1,
              "#f0f921"
             ]
            ],
            "type": "histogram2dcontour"
           }
          ],
          "mesh3d": [
           {
            "colorbar": {
             "outlinewidth": 0,
             "ticks": ""
            },
            "type": "mesh3d"
           }
          ],
          "parcoords": [
           {
            "line": {
             "colorbar": {
              "outlinewidth": 0,
              "ticks": ""
             }
            },
            "type": "parcoords"
           }
          ],
          "pie": [
           {
            "automargin": true,
            "type": "pie"
           }
          ],
          "scatter": [
           {
            "marker": {
             "colorbar": {
              "outlinewidth": 0,
              "ticks": ""
             }
            },
            "type": "scatter"
           }
          ],
          "scatter3d": [
           {
            "line": {
             "colorbar": {
              "outlinewidth": 0,
              "ticks": ""
             }
            },
            "marker": {
             "colorbar": {
              "outlinewidth": 0,
              "ticks": ""
             }
            },
            "type": "scatter3d"
           }
          ],
          "scattercarpet": [
           {
            "marker": {
             "colorbar": {
              "outlinewidth": 0,
              "ticks": ""
             }
            },
            "type": "scattercarpet"
           }
          ],
          "scattergeo": [
           {
            "marker": {
             "colorbar": {
              "outlinewidth": 0,
              "ticks": ""
             }
            },
            "type": "scattergeo"
           }
          ],
          "scattergl": [
           {
            "marker": {
             "colorbar": {
              "outlinewidth": 0,
              "ticks": ""
             }
            },
            "type": "scattergl"
           }
          ],
          "scattermapbox": [
           {
            "marker": {
             "colorbar": {
              "outlinewidth": 0,
              "ticks": ""
             }
            },
            "type": "scattermapbox"
           }
          ],
          "scatterpolar": [
           {
            "marker": {
             "colorbar": {
              "outlinewidth": 0,
              "ticks": ""
             }
            },
            "type": "scatterpolar"
           }
          ],
          "scatterpolargl": [
           {
            "marker": {
             "colorbar": {
              "outlinewidth": 0,
              "ticks": ""
             }
            },
            "type": "scatterpolargl"
           }
          ],
          "scatterternary": [
           {
            "marker": {
             "colorbar": {
              "outlinewidth": 0,
              "ticks": ""
             }
            },
            "type": "scatterternary"
           }
          ],
          "surface": [
           {
            "colorbar": {
             "outlinewidth": 0,
             "ticks": ""
            },
            "colorscale": [
             [
              0,
              "#0d0887"
             ],
             [
              0.1111111111111111,
              "#46039f"
             ],
             [
              0.2222222222222222,
              "#7201a8"
             ],
             [
              0.3333333333333333,
              "#9c179e"
             ],
             [
              0.4444444444444444,
              "#bd3786"
             ],
             [
              0.5555555555555556,
              "#d8576b"
             ],
             [
              0.6666666666666666,
              "#ed7953"
             ],
             [
              0.7777777777777778,
              "#fb9f3a"
             ],
             [
              0.8888888888888888,
              "#fdca26"
             ],
             [
              1,
              "#f0f921"
             ]
            ],
            "type": "surface"
           }
          ],
          "table": [
           {
            "cells": {
             "fill": {
              "color": "#EBF0F8"
             },
             "line": {
              "color": "white"
             }
            },
            "header": {
             "fill": {
              "color": "#C8D4E3"
             },
             "line": {
              "color": "white"
             }
            },
            "type": "table"
           }
          ]
         },
         "layout": {
          "annotationdefaults": {
           "arrowcolor": "#2a3f5f",
           "arrowhead": 0,
           "arrowwidth": 1
          },
          "autotypenumbers": "strict",
          "coloraxis": {
           "colorbar": {
            "outlinewidth": 0,
            "ticks": ""
           }
          },
          "colorscale": {
           "diverging": [
            [
             0,
             "#8e0152"
            ],
            [
             0.1,
             "#c51b7d"
            ],
            [
             0.2,
             "#de77ae"
            ],
            [
             0.3,
             "#f1b6da"
            ],
            [
             0.4,
             "#fde0ef"
            ],
            [
             0.5,
             "#f7f7f7"
            ],
            [
             0.6,
             "#e6f5d0"
            ],
            [
             0.7,
             "#b8e186"
            ],
            [
             0.8,
             "#7fbc41"
            ],
            [
             0.9,
             "#4d9221"
            ],
            [
             1,
             "#276419"
            ]
           ],
           "sequential": [
            [
             0,
             "#0d0887"
            ],
            [
             0.1111111111111111,
             "#46039f"
            ],
            [
             0.2222222222222222,
             "#7201a8"
            ],
            [
             0.3333333333333333,
             "#9c179e"
            ],
            [
             0.4444444444444444,
             "#bd3786"
            ],
            [
             0.5555555555555556,
             "#d8576b"
            ],
            [
             0.6666666666666666,
             "#ed7953"
            ],
            [
             0.7777777777777778,
             "#fb9f3a"
            ],
            [
             0.8888888888888888,
             "#fdca26"
            ],
            [
             1,
             "#f0f921"
            ]
           ],
           "sequentialminus": [
            [
             0,
             "#0d0887"
            ],
            [
             0.1111111111111111,
             "#46039f"
            ],
            [
             0.2222222222222222,
             "#7201a8"
            ],
            [
             0.3333333333333333,
             "#9c179e"
            ],
            [
             0.4444444444444444,
             "#bd3786"
            ],
            [
             0.5555555555555556,
             "#d8576b"
            ],
            [
             0.6666666666666666,
             "#ed7953"
            ],
            [
             0.7777777777777778,
             "#fb9f3a"
            ],
            [
             0.8888888888888888,
             "#fdca26"
            ],
            [
             1,
             "#f0f921"
            ]
           ]
          },
          "colorway": [
           "#636efa",
           "#EF553B",
           "#00cc96",
           "#ab63fa",
           "#FFA15A",
           "#19d3f3",
           "#FF6692",
           "#B6E880",
           "#FF97FF",
           "#FECB52"
          ],
          "font": {
           "color": "#2a3f5f"
          },
          "geo": {
           "bgcolor": "white",
           "lakecolor": "white",
           "landcolor": "#E5ECF6",
           "showlakes": true,
           "showland": true,
           "subunitcolor": "white"
          },
          "hoverlabel": {
           "align": "left"
          },
          "hovermode": "closest",
          "mapbox": {
           "style": "light"
          },
          "paper_bgcolor": "white",
          "plot_bgcolor": "#E5ECF6",
          "polar": {
           "angularaxis": {
            "gridcolor": "white",
            "linecolor": "white",
            "ticks": ""
           },
           "bgcolor": "#E5ECF6",
           "radialaxis": {
            "gridcolor": "white",
            "linecolor": "white",
            "ticks": ""
           }
          },
          "scene": {
           "xaxis": {
            "backgroundcolor": "#E5ECF6",
            "gridcolor": "white",
            "gridwidth": 2,
            "linecolor": "white",
            "showbackground": true,
            "ticks": "",
            "zerolinecolor": "white"
           },
           "yaxis": {
            "backgroundcolor": "#E5ECF6",
            "gridcolor": "white",
            "gridwidth": 2,
            "linecolor": "white",
            "showbackground": true,
            "ticks": "",
            "zerolinecolor": "white"
           },
           "zaxis": {
            "backgroundcolor": "#E5ECF6",
            "gridcolor": "white",
            "gridwidth": 2,
            "linecolor": "white",
            "showbackground": true,
            "ticks": "",
            "zerolinecolor": "white"
           }
          },
          "shapedefaults": {
           "line": {
            "color": "#2a3f5f"
           }
          },
          "ternary": {
           "aaxis": {
            "gridcolor": "white",
            "linecolor": "white",
            "ticks": ""
           },
           "baxis": {
            "gridcolor": "white",
            "linecolor": "white",
            "ticks": ""
           },
           "bgcolor": "#E5ECF6",
           "caxis": {
            "gridcolor": "white",
            "linecolor": "white",
            "ticks": ""
           }
          },
          "title": {
           "x": 0.05
          },
          "xaxis": {
           "automargin": true,
           "gridcolor": "white",
           "linecolor": "white",
           "ticks": "",
           "title": {
            "standoff": 15
           },
           "zerolinecolor": "white",
           "zerolinewidth": 2
          },
          "yaxis": {
           "automargin": true,
           "gridcolor": "white",
           "linecolor": "white",
           "ticks": "",
           "title": {
            "standoff": 15
           },
           "zerolinecolor": "white",
           "zerolinewidth": 2
          }
         }
        }
       }
      },
      "text/html": [
       "<div>                            <div id=\"83ad786d-26cf-4da0-8e4c-608f487df264\" class=\"plotly-graph-div\" style=\"height:600px; width:100%;\"></div>            <script type=\"text/javascript\">                require([\"plotly\"], function(Plotly) {                    window.PLOTLYENV=window.PLOTLYENV || {};                                    if (document.getElementById(\"83ad786d-26cf-4da0-8e4c-608f487df264\")) {                    Plotly.newPlot(                        \"83ad786d-26cf-4da0-8e4c-608f487df264\",                        [{\"hovertemplate\":\"latitude=%{lat}<br>longitude=%{lon}<br>distance=%{marker.color}<extra></extra>\",\"lat\":[37.44476,37.445575,37.443964,37.445581,37.444107,37.445455,37.444663,37.444423,37.445131,37.444478,37.443458,37.444756,37.443979,37.445551,37.444876,37.444718,37.44531,37.445333,37.445563,37.443873,37.445533,37.445167,37.444181,37.446303,37.444274,37.443324,37.445734,37.444419,37.443639,37.445588,37.445235,37.444999,37.443941,37.446469,37.444314,37.443998,37.44495,37.443608,37.445708,37.444184,37.444099,37.444343,37.444937,37.442357,37.442127,37.446381,37.442162,37.445778,37.44544],\"legendgroup\":\"\",\"lon\":[-122.161114,-122.16073,-122.160353,-122.160786,-122.161077,-122.160581,-122.161538,-122.161238,-122.161421,-122.161384,-122.16054,-122.161614,-122.161928,-122.160157,-122.161764,-122.161684,-122.161216,-122.16179,-122.162232,-122.161135,-122.1613,-122.162711,-122.162298,-122.160628,-122.162374,-122.161033,-122.159451,-122.161739,-122.161996,-122.161447,-122.159996,-122.159195,-122.161998,-122.159707,-122.160946,-122.162982,-122.162985,-122.161621,-122.161597,-122.163079,-122.162078,-122.161877,-122.162269,-122.159476,-122.159034,-122.161348,-122.161683,-122.163318,-122.161224],\"marker\":{\"color\":[74.22792880658952,117.38738664841969,67.59171881736364,119.67573166206168,85.33550960824807,100.91312463565274,109.2230412768282,83.85478558342484,116.3268483762922,95.69799981900667,125.31682168854344,117.27205857188632,157.66115336596084,109.48465450507403,133.10113380854682,122.748917360117,114.67628683415182,155.91261214715377,202.6174878877442,106.58904098006231,138.07980600149222,222.57590630819064,181.27932786048737,194.17953258294017,185.70276375038856,152.61012006922942,149.65523462691067,127.67618264633093,181.68255869741105,151.1822513856301,78.62387854490017,109.37831622301722,165.05529934037207,217.1751853139114,63.22467828459163,244.96544185688822,240.4882465489402,157.88071596893457,169.96043000139795,248.87391161208708,165.10858839309958,141.06225651092942,178.10950908042722,256.6477321707298,293.8820956500078,220.82387950041905,293.8149358639246,298.01589848370554,125.84318449805193],\"coloraxis\":\"coloraxis\",\"size\":16},\"mode\":\"markers\",\"name\":\"\",\"showlegend\":false,\"subplot\":\"mapbox\",\"type\":\"scattermapbox\"}],                        {\"template\":{\"data\":{\"bar\":[{\"error_x\":{\"color\":\"#2a3f5f\"},\"error_y\":{\"color\":\"#2a3f5f\"},\"marker\":{\"line\":{\"color\":\"#E5ECF6\",\"width\":0.5},\"pattern\":{\"fillmode\":\"overlay\",\"size\":10,\"solidity\":0.2}},\"type\":\"bar\"}],\"barpolar\":[{\"marker\":{\"line\":{\"color\":\"#E5ECF6\",\"width\":0.5},\"pattern\":{\"fillmode\":\"overlay\",\"size\":10,\"solidity\":0.2}},\"type\":\"barpolar\"}],\"carpet\":[{\"aaxis\":{\"endlinecolor\":\"#2a3f5f\",\"gridcolor\":\"white\",\"linecolor\":\"white\",\"minorgridcolor\":\"white\",\"startlinecolor\":\"#2a3f5f\"},\"baxis\":{\"endlinecolor\":\"#2a3f5f\",\"gridcolor\":\"white\",\"linecolor\":\"white\",\"minorgridcolor\":\"white\",\"startlinecolor\":\"#2a3f5f\"},\"type\":\"carpet\"}],\"choropleth\":[{\"colorbar\":{\"outlinewidth\":0,\"ticks\":\"\"},\"type\":\"choropleth\"}],\"contour\":[{\"colorbar\":{\"outlinewidth\":0,\"ticks\":\"\"},\"colorscale\":[[0.0,\"#0d0887\"],[0.1111111111111111,\"#46039f\"],[0.2222222222222222,\"#7201a8\"],[0.3333333333333333,\"#9c179e\"],[0.4444444444444444,\"#bd3786\"],[0.5555555555555556,\"#d8576b\"],[0.6666666666666666,\"#ed7953\"],[0.7777777777777778,\"#fb9f3a\"],[0.8888888888888888,\"#fdca26\"],[1.0,\"#f0f921\"]],\"type\":\"contour\"}],\"contourcarpet\":[{\"colorbar\":{\"outlinewidth\":0,\"ticks\":\"\"},\"type\":\"contourcarpet\"}],\"heatmap\":[{\"colorbar\":{\"outlinewidth\":0,\"ticks\":\"\"},\"colorscale\":[[0.0,\"#0d0887\"],[0.1111111111111111,\"#46039f\"],[0.2222222222222222,\"#7201a8\"],[0.3333333333333333,\"#9c179e\"],[0.4444444444444444,\"#bd3786\"],[0.5555555555555556,\"#d8576b\"],[0.6666666666666666,\"#ed7953\"],[0.7777777777777778,\"#fb9f3a\"],[0.8888888888888888,\"#fdca26\"],[1.0,\"#f0f921\"]],\"type\":\"heatmap\"}],\"heatmapgl\":[{\"colorbar\":{\"outlinewidth\":0,\"ticks\":\"\"},\"colorscale\":[[0.0,\"#0d0887\"],[0.1111111111111111,\"#46039f\"],[0.2222222222222222,\"#7201a8\"],[0.3333333333333333,\"#9c179e\"],[0.4444444444444444,\"#bd3786\"],[0.5555555555555556,\"#d8576b\"],[0.6666666666666666,\"#ed7953\"],[0.7777777777777778,\"#fb9f3a\"],[0.8888888888888888,\"#fdca26\"],[1.0,\"#f0f921\"]],\"type\":\"heatmapgl\"}],\"histogram\":[{\"marker\":{\"pattern\":{\"fillmode\":\"overlay\",\"size\":10,\"solidity\":0.2}},\"type\":\"histogram\"}],\"histogram2d\":[{\"colorbar\":{\"outlinewidth\":0,\"ticks\":\"\"},\"colorscale\":[[0.0,\"#0d0887\"],[0.1111111111111111,\"#46039f\"],[0.2222222222222222,\"#7201a8\"],[0.3333333333333333,\"#9c179e\"],[0.4444444444444444,\"#bd3786\"],[0.5555555555555556,\"#d8576b\"],[0.6666666666666666,\"#ed7953\"],[0.7777777777777778,\"#fb9f3a\"],[0.8888888888888888,\"#fdca26\"],[1.0,\"#f0f921\"]],\"type\":\"histogram2d\"}],\"histogram2dcontour\":[{\"colorbar\":{\"outlinewidth\":0,\"ticks\":\"\"},\"colorscale\":[[0.0,\"#0d0887\"],[0.1111111111111111,\"#46039f\"],[0.2222222222222222,\"#7201a8\"],[0.3333333333333333,\"#9c179e\"],[0.4444444444444444,\"#bd3786\"],[0.5555555555555556,\"#d8576b\"],[0.6666666666666666,\"#ed7953\"],[0.7777777777777778,\"#fb9f3a\"],[0.8888888888888888,\"#fdca26\"],[1.0,\"#f0f921\"]],\"type\":\"histogram2dcontour\"}],\"mesh3d\":[{\"colorbar\":{\"outlinewidth\":0,\"ticks\":\"\"},\"type\":\"mesh3d\"}],\"parcoords\":[{\"line\":{\"colorbar\":{\"outlinewidth\":0,\"ticks\":\"\"}},\"type\":\"parcoords\"}],\"pie\":[{\"automargin\":true,\"type\":\"pie\"}],\"scatter\":[{\"marker\":{\"colorbar\":{\"outlinewidth\":0,\"ticks\":\"\"}},\"type\":\"scatter\"}],\"scatter3d\":[{\"line\":{\"colorbar\":{\"outlinewidth\":0,\"ticks\":\"\"}},\"marker\":{\"colorbar\":{\"outlinewidth\":0,\"ticks\":\"\"}},\"type\":\"scatter3d\"}],\"scattercarpet\":[{\"marker\":{\"colorbar\":{\"outlinewidth\":0,\"ticks\":\"\"}},\"type\":\"scattercarpet\"}],\"scattergeo\":[{\"marker\":{\"colorbar\":{\"outlinewidth\":0,\"ticks\":\"\"}},\"type\":\"scattergeo\"}],\"scattergl\":[{\"marker\":{\"colorbar\":{\"outlinewidth\":0,\"ticks\":\"\"}},\"type\":\"scattergl\"}],\"scattermapbox\":[{\"marker\":{\"colorbar\":{\"outlinewidth\":0,\"ticks\":\"\"}},\"type\":\"scattermapbox\"}],\"scatterpolar\":[{\"marker\":{\"colorbar\":{\"outlinewidth\":0,\"ticks\":\"\"}},\"type\":\"scatterpolar\"}],\"scatterpolargl\":[{\"marker\":{\"colorbar\":{\"outlinewidth\":0,\"ticks\":\"\"}},\"type\":\"scatterpolargl\"}],\"scatterternary\":[{\"marker\":{\"colorbar\":{\"outlinewidth\":0,\"ticks\":\"\"}},\"type\":\"scatterternary\"}],\"surface\":[{\"colorbar\":{\"outlinewidth\":0,\"ticks\":\"\"},\"colorscale\":[[0.0,\"#0d0887\"],[0.1111111111111111,\"#46039f\"],[0.2222222222222222,\"#7201a8\"],[0.3333333333333333,\"#9c179e\"],[0.4444444444444444,\"#bd3786\"],[0.5555555555555556,\"#d8576b\"],[0.6666666666666666,\"#ed7953\"],[0.7777777777777778,\"#fb9f3a\"],[0.8888888888888888,\"#fdca26\"],[1.0,\"#f0f921\"]],\"type\":\"surface\"}],\"table\":[{\"cells\":{\"fill\":{\"color\":\"#EBF0F8\"},\"line\":{\"color\":\"white\"}},\"header\":{\"fill\":{\"color\":\"#C8D4E3\"},\"line\":{\"color\":\"white\"}},\"type\":\"table\"}]},\"layout\":{\"annotationdefaults\":{\"arrowcolor\":\"#2a3f5f\",\"arrowhead\":0,\"arrowwidth\":1},\"autotypenumbers\":\"strict\",\"coloraxis\":{\"colorbar\":{\"outlinewidth\":0,\"ticks\":\"\"}},\"colorscale\":{\"diverging\":[[0,\"#8e0152\"],[0.1,\"#c51b7d\"],[0.2,\"#de77ae\"],[0.3,\"#f1b6da\"],[0.4,\"#fde0ef\"],[0.5,\"#f7f7f7\"],[0.6,\"#e6f5d0\"],[0.7,\"#b8e186\"],[0.8,\"#7fbc41\"],[0.9,\"#4d9221\"],[1,\"#276419\"]],\"sequential\":[[0.0,\"#0d0887\"],[0.1111111111111111,\"#46039f\"],[0.2222222222222222,\"#7201a8\"],[0.3333333333333333,\"#9c179e\"],[0.4444444444444444,\"#bd3786\"],[0.5555555555555556,\"#d8576b\"],[0.6666666666666666,\"#ed7953\"],[0.7777777777777778,\"#fb9f3a\"],[0.8888888888888888,\"#fdca26\"],[1.0,\"#f0f921\"]],\"sequentialminus\":[[0.0,\"#0d0887\"],[0.1111111111111111,\"#46039f\"],[0.2222222222222222,\"#7201a8\"],[0.3333333333333333,\"#9c179e\"],[0.4444444444444444,\"#bd3786\"],[0.5555555555555556,\"#d8576b\"],[0.6666666666666666,\"#ed7953\"],[0.7777777777777778,\"#fb9f3a\"],[0.8888888888888888,\"#fdca26\"],[1.0,\"#f0f921\"]]},\"colorway\":[\"#636efa\",\"#EF553B\",\"#00cc96\",\"#ab63fa\",\"#FFA15A\",\"#19d3f3\",\"#FF6692\",\"#B6E880\",\"#FF97FF\",\"#FECB52\"],\"font\":{\"color\":\"#2a3f5f\"},\"geo\":{\"bgcolor\":\"white\",\"lakecolor\":\"white\",\"landcolor\":\"#E5ECF6\",\"showlakes\":true,\"showland\":true,\"subunitcolor\":\"white\"},\"hoverlabel\":{\"align\":\"left\"},\"hovermode\":\"closest\",\"mapbox\":{\"style\":\"light\"},\"paper_bgcolor\":\"white\",\"plot_bgcolor\":\"#E5ECF6\",\"polar\":{\"angularaxis\":{\"gridcolor\":\"white\",\"linecolor\":\"white\",\"ticks\":\"\"},\"bgcolor\":\"#E5ECF6\",\"radialaxis\":{\"gridcolor\":\"white\",\"linecolor\":\"white\",\"ticks\":\"\"}},\"scene\":{\"xaxis\":{\"backgroundcolor\":\"#E5ECF6\",\"gridcolor\":\"white\",\"gridwidth\":2,\"linecolor\":\"white\",\"showbackground\":true,\"ticks\":\"\",\"zerolinecolor\":\"white\"},\"yaxis\":{\"backgroundcolor\":\"#E5ECF6\",\"gridcolor\":\"white\",\"gridwidth\":2,\"linecolor\":\"white\",\"showbackground\":true,\"ticks\":\"\",\"zerolinecolor\":\"white\"},\"zaxis\":{\"backgroundcolor\":\"#E5ECF6\",\"gridcolor\":\"white\",\"gridwidth\":2,\"linecolor\":\"white\",\"showbackground\":true,\"ticks\":\"\",\"zerolinecolor\":\"white\"}},\"shapedefaults\":{\"line\":{\"color\":\"#2a3f5f\"}},\"ternary\":{\"aaxis\":{\"gridcolor\":\"white\",\"linecolor\":\"white\",\"ticks\":\"\"},\"baxis\":{\"gridcolor\":\"white\",\"linecolor\":\"white\",\"ticks\":\"\"},\"bgcolor\":\"#E5ECF6\",\"caxis\":{\"gridcolor\":\"white\",\"linecolor\":\"white\",\"ticks\":\"\"}},\"title\":{\"x\":0.05},\"xaxis\":{\"automargin\":true,\"gridcolor\":\"white\",\"linecolor\":\"white\",\"ticks\":\"\",\"title\":{\"standoff\":15},\"zerolinecolor\":\"white\",\"zerolinewidth\":2},\"yaxis\":{\"automargin\":true,\"gridcolor\":\"white\",\"linecolor\":\"white\",\"ticks\":\"\",\"title\":{\"standoff\":15},\"zerolinecolor\":\"white\",\"zerolinewidth\":2}}},\"mapbox\":{\"domain\":{\"x\":[0.0,1.0],\"y\":[0.0,1.0]},\"center\":{\"lat\":37.444668285714286,\"lon\":-122.161340244898},\"zoom\":16,\"style\":\"satellite\",\"accesstoken\":\"pk.eyJ1IjoibWlzaGFncm9sIiwiYSI6ImNrdGtjbHV5aTFrd20ydW11bDdobWtoaTkifQ.4o97K1zdDfY61Sj9377N6Q\\n\"},\"coloraxis\":{\"colorbar\":{\"title\":{\"text\":\"distance\"}},\"colorscale\":[[0.0,\"rgb(255,245,240)\"],[0.125,\"rgb(254,224,210)\"],[0.25,\"rgb(252,187,161)\"],[0.375,\"rgb(252,146,114)\"],[0.5,\"rgb(251,106,74)\"],[0.625,\"rgb(239,59,44)\"],[0.75,\"rgb(203,24,29)\"],[0.875,\"rgb(165,15,21)\"],[1.0,\"rgb(103,0,13)\"]]},\"legend\":{\"tracegroupgap\":0},\"margin\":{\"t\":0,\"r\":0,\"l\":0,\"b\":0},\"height\":600},                        {\"responsive\": true}                    ).then(function(){\n",
       "                            \n",
       "var gd = document.getElementById('83ad786d-26cf-4da0-8e4c-608f487df264');\n",
       "var x = new MutationObserver(function (mutations, observer) {{\n",
       "        var display = window.getComputedStyle(gd).display;\n",
       "        if (!display || display === 'none') {{\n",
       "            console.log([gd, 'removed!']);\n",
       "            Plotly.purge(gd);\n",
       "            observer.disconnect();\n",
       "        }}\n",
       "}});\n",
       "\n",
       "// Listen for the removal of the full notebook cells\n",
       "var notebookContainer = gd.closest('#notebook-container');\n",
       "if (notebookContainer) {{\n",
       "    x.observe(notebookContainer, {childList: true});\n",
       "}}\n",
       "\n",
       "// Listen for the clearing of the current output cell\n",
       "var outputEl = gd.closest('.output');\n",
       "if (outputEl) {{\n",
       "    x.observe(outputEl, {childList: true});\n",
       "}}\n",
       "\n",
       "                        })                };                });            </script>        </div>"
      ]
     },
     "metadata": {},
     "output_type": "display_data"
    }
   ],
   "source": [
    "import plotly.express as px\n",
    "import base64\n",
    "import plotly.graph_objects as go\n",
    "\n",
    "token = open('../.mapbox_token').read()\n",
    "\n",
    "\n",
    "fig_1 = px.scatter_mapbox(gdf, lat='latitude', lon='longitude',\n",
    "                          color='distance',\n",
    "                         color_continuous_scale='reds',\n",
    "                          zoom=16, height=600)\n",
    "\n",
    "# fig_1.add_trace(px.scatter_mapbox(point_gdf, lat='latitude', lon='longitude'))\n",
    "\n",
    "fig_1.update_layout(mapbox_style=\"satellite\",mapbox_accesstoken=token )\n",
    "\n",
    "fig_1.update_layout(margin={\"r\":0,\"t\":0,\"l\":0,\"b\":0})\n",
    "\n",
    "fig_1.update_traces(marker=dict(size=16))"
   ]
  },
  {
   "cell_type": "code",
   "execution_count": null,
   "id": "050a49fa",
   "metadata": {},
   "outputs": [],
   "source": []
  },
  {
   "cell_type": "code",
   "execution_count": null,
   "id": "0b425a07",
   "metadata": {},
   "outputs": [],
   "source": []
  },
  {
   "cell_type": "code",
   "execution_count": null,
   "id": "1df92e87",
   "metadata": {},
   "outputs": [],
   "source": []
  },
  {
   "cell_type": "code",
   "execution_count": null,
   "id": "0ddcb16c",
   "metadata": {},
   "outputs": [],
   "source": [
    "def get_category_type(row):\n",
    "    try:\n",
    "        categories_list = row['categories']\n",
    "    except:\n",
    "        categories_list = row['venue.categories']\n",
    "        \n",
    "    if len(categories_list) == 0:\n",
    "        return None\n",
    "    else:\n",
    "        return categories_list[0]['name']\n",
    "\n",
    "#flatten JSON, Normalize JSON to Dataframe\n",
    "dataframe = json_normalize(items) \n",
    "\n",
    "# filter columns,consider only required columns\n",
    "filtered_columns = ['venue.name', 'venue.categories'] + [col for col in dataframe.columns if col.startswith('venue.location.')] + ['venue.id']\n",
    "nearby = dataframe.loc[:, filtered_columns]\n",
    "\n",
    "# filter the category for each row\n",
    "nearby['venue.categories'] = nearby.apply(get_category_type, axis=1)\n",
    "\n",
    "# clean columns\n",
    "nearby.columns = [col.split('.')[-1] for col in nearby.columns]\n",
    "\n",
    "#replce NaN values with Not found in address\n",
    "nearby['address'] = nearby['address'].fillna(\"Not found\")\n",
    "nearby.head(10)      "
   ]
  },
  {
   "cell_type": "code",
   "execution_count": null,
   "id": "c84c9af5",
   "metadata": {},
   "outputs": [],
   "source": [
    "# creating map zoom at present Location\n",
    "map = folium.Map(location=[latitude,longitude],zoom_start=14)\n",
    "\n",
    "# adding the current location to map\n",
    "folium.CircleMarker(location=[latitude,longitude],radius=5,color='red',fill=True,fill_color='red').add_to(map)\n",
    "folium.Marker(location=[latitude,longitude],popup=\"<strong> Current Location</strong>\",icon = folium.Icon(color='red')).add_to(map)\n",
    "\n",
    "# drawing radius of search\n",
    "folium.Circle(location=[latitude,longitude],radius=radius,color='blue',opacity=0.5,fill=True,fill_color='blue').add_to(map)\n",
    "\n",
    "# adding all the popular places around\n",
    "for lat,lon,name,cate,addr,dist in zip(nearby.lat,nearby.lng,nearby.name,nearby.categories,nearby.address,nearby.distance):\n",
    "    folium.CircleMarker(location=[lat,lon],radius=5,color=\"red\",fill=True,fill_color='red').add_to(map)\n",
    "    folium.Marker(location=[lat,lon],\n",
    "              popup= folium.Popup(('<strong><font color =\"red\">Name :     </font>'+name+'</strong><br>'+\n",
    "                                   '<strong><font color =\"red\">Categorie :    </font>'+cate+'</strong><br>'+\n",
    "                                   '<strong><font color =\"red\">Address :    </font>'+addr+'</strong><br>'+\n",
    "                                   '<strong><font color =\"red\">Distance :    </font>'+str(dist)+' mts</strong>'\n",
    "                                   ),max_width=250)).add_to(map)\n",
    "\n",
    "map"
   ]
  }
 ],
 "metadata": {
  "kernelspec": {
   "display_name": "Python 3 (ipykernel)",
   "language": "python",
   "name": "python3"
  },
  "language_info": {
   "codemirror_mode": {
    "name": "ipython",
    "version": 3
   },
   "file_extension": ".py",
   "mimetype": "text/x-python",
   "name": "python",
   "nbconvert_exporter": "python",
   "pygments_lexer": "ipython3",
   "version": "3.8.9"
  }
 },
 "nbformat": 4,
 "nbformat_minor": 5
}
