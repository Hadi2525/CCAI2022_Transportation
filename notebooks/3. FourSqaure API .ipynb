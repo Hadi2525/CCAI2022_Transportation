{
 "cells": [
  {
   "cell_type": "code",
   "execution_count": 1,
   "id": "a326f4bc",
   "metadata": {},
   "outputs": [],
   "source": [
    "import pandas as pd\n",
    "import json\n",
    "import os"
   ]
  },
  {
   "cell_type": "code",
   "execution_count": 2,
   "id": "35eae95f",
   "metadata": {},
   "outputs": [
    {
     "data": {
      "text/plain": [
       "{'token': 'fsq3D/VHyHU4HVfbaRITsOl0pIswAP2pr//Ac/m+gD5H1TI=',\n",
       " 'client_id': 'Q1B4DZHK1Q4YYMMQXYH1J4N3CKDH5DLR5FGNTHILBZD0BXVO',\n",
       " 'client_secret': 'AJWWWAR2WHOQDLLESW4DHRQTXUFEPBOILFHR5XJSATEQZR5D'}"
      ]
     },
     "execution_count": 2,
     "metadata": {},
     "output_type": "execute_result"
    }
   ],
   "source": [
    "with open('../.foursquare_API.json', 'r') as file:\n",
    "    secrets = json.load(file)\n",
    "\n",
    "secrets"
   ]
  },
  {
   "cell_type": "markdown",
   "id": "fa33c996",
   "metadata": {},
   "source": [
    "1. Read dataset"
   ]
  },
  {
   "cell_type": "code",
   "execution_count": 3,
   "id": "b871244e",
   "metadata": {},
   "outputs": [],
   "source": [
    "dirName = '/Users/mikhailgasanov/Downloads/EVdatasets/PaloAlto/'\n",
    "fnames = os.listdir(dirName)\n",
    "df = pd.read_csv(os.path.join(dirName, fnames[0]))"
   ]
  },
  {
   "cell_type": "code",
   "execution_count": 8,
   "id": "ebb9ff46",
   "metadata": {},
   "outputs": [],
   "source": [
    "coords = df[['Latitude', 'Longitude']].drop_duplicates()"
   ]
  },
  {
   "cell_type": "code",
   "execution_count": 13,
   "id": "24c98226",
   "metadata": {},
   "outputs": [],
   "source": [
    "CLIENT_ID = secrets['client_id']\n",
    "CLIENT_SECRET = secrets['client_secret']\n",
    "\n",
    "LIMIT = 100\n",
    "\n",
    "RADIUS = 1000\n",
    "\n",
    "Latitude = coords.iloc[0, :]['Latitude']\n",
    "\n",
    "Longitude = coords.iloc[0, :]['Longitude']\n",
    "VERSION = '20180604'\n",
    "url = f\"\"\"\n",
    "https://api.foursquare.com/v2/venues/explore?client_id={CLIENT_ID}&client_secret={CLIENT_SECRET}&ll={Latitude},{Longitude}&v={VERSION}&radius={RADIUS}&limit={LIMIT}\n",
    "\"\"\""
   ]
  },
  {
   "cell_type": "code",
   "execution_count": 14,
   "id": "70e23fb8",
   "metadata": {},
   "outputs": [],
   "source": [
    "import pandas as pd # for data processing\n",
    "import folium   #for creating maps\n",
    "import requests  #for retreiving Information from URL\n",
    "from geopy.geocoders import Nominatim  #converting address to cordinates\n",
    "from pandas.io.json import json_normalize #converting json to DataFrame "
   ]
  },
  {
   "cell_type": "code",
   "execution_count": 15,
   "id": "a26f4948",
   "metadata": {},
   "outputs": [],
   "source": [
    "# reading radius from user\n",
    "# radius = input(\"Enter the radius for searching : \")\n",
    "# reading search limit from user\n",
    "# Limit = input(\"enter the Limit for Results to display : \")\n",
    "# url  = 'https://api.foursquare.com/v2/venues/explore?client_id={}&client_secret={}&ll={},{}&v={}&radius={}&limit={}'.format(CLIENT_ID, CLIENT_SECRET, latitude, longitude, VERSION, radius, Limit)\n",
    "results = requests.get(url).json()"
   ]
  },
  {
   "cell_type": "code",
   "execution_count": 16,
   "id": "e1b8a9a7",
   "metadata": {},
   "outputs": [
    {
     "data": {
      "text/plain": [
       "{'meta': {'code': 410,\n",
       "  'errorType': 'deprecated',\n",
       "  'errorDetail': 'Usage of the V2 Places API has been deprecated for new Projects. Please see our updated documentation for V3 for more details: https://docs.foursquare.com/reference',\n",
       "  'requestId': '6304fc3893d61027eb9f61c8'},\n",
       " 'response': {}}"
      ]
     },
     "execution_count": 16,
     "metadata": {},
     "output_type": "execute_result"
    }
   ],
   "source": [
    "results"
   ]
  },
  {
   "cell_type": "code",
   "execution_count": null,
   "id": "ab276244",
   "metadata": {},
   "outputs": [],
   "source": [
    "items = results['response']['groups'][0]['items']\n",
    "items[0]"
   ]
  },
  {
   "cell_type": "code",
   "execution_count": null,
   "id": "0ddcb16c",
   "metadata": {},
   "outputs": [],
   "source": [
    "def get_category_type(row):\n",
    "    try:\n",
    "        categories_list = row['categories']\n",
    "    except:\n",
    "        categories_list = row['venue.categories']\n",
    "        \n",
    "    if len(categories_list) == 0:\n",
    "        return None\n",
    "    else:\n",
    "        return categories_list[0]['name']\n",
    "\n",
    "#flatten JSON, Normalize JSON to Dataframe\n",
    "dataframe = json_normalize(items) \n",
    "\n",
    "# filter columns,consider only required columns\n",
    "filtered_columns = ['venue.name', 'venue.categories'] + [col for col in dataframe.columns if col.startswith('venue.location.')] + ['venue.id']\n",
    "nearby = dataframe.loc[:, filtered_columns]\n",
    "\n",
    "# filter the category for each row\n",
    "nearby['venue.categories'] = nearby.apply(get_category_type, axis=1)\n",
    "\n",
    "# clean columns\n",
    "nearby.columns = [col.split('.')[-1] for col in nearby.columns]\n",
    "\n",
    "#replce NaN values with Not found in address\n",
    "nearby['address'] = nearby['address'].fillna(\"Not found\")\n",
    "nearby.head(10)      "
   ]
  },
  {
   "cell_type": "code",
   "execution_count": null,
   "id": "c84c9af5",
   "metadata": {},
   "outputs": [],
   "source": [
    "# creating map zoom at present Location\n",
    "map = folium.Map(location=[latitude,longitude],zoom_start=14)\n",
    "\n",
    "# adding the current location to map\n",
    "folium.CircleMarker(location=[latitude,longitude],radius=5,color='red',fill=True,fill_color='red').add_to(map)\n",
    "folium.Marker(location=[latitude,longitude],popup=\"<strong> Current Location</strong>\",icon = folium.Icon(color='red')).add_to(map)\n",
    "\n",
    "# drawing radius of search\n",
    "folium.Circle(location=[latitude,longitude],radius=radius,color='blue',opacity=0.5,fill=True,fill_color='blue').add_to(map)\n",
    "\n",
    "# adding all the popular places around\n",
    "for lat,lon,name,cate,addr,dist in zip(nearby.lat,nearby.lng,nearby.name,nearby.categories,nearby.address,nearby.distance):\n",
    "    folium.CircleMarker(location=[lat,lon],radius=5,color=\"red\",fill=True,fill_color='red').add_to(map)\n",
    "    folium.Marker(location=[lat,lon],\n",
    "              popup= folium.Popup(('<strong><font color =\"red\">Name :     </font>'+name+'</strong><br>'+\n",
    "                                   '<strong><font color =\"red\">Categorie :    </font>'+cate+'</strong><br>'+\n",
    "                                   '<strong><font color =\"red\">Address :    </font>'+addr+'</strong><br>'+\n",
    "                                   '<strong><font color =\"red\">Distance :    </font>'+str(dist)+' mts</strong>'\n",
    "                                   ),max_width=250)).add_to(map)\n",
    "\n",
    "map"
   ]
  }
 ],
 "metadata": {
  "kernelspec": {
   "display_name": "Python 3 (ipykernel)",
   "language": "python",
   "name": "python3"
  },
  "language_info": {
   "codemirror_mode": {
    "name": "ipython",
    "version": 3
   },
   "file_extension": ".py",
   "mimetype": "text/x-python",
   "name": "python",
   "nbconvert_exporter": "python",
   "pygments_lexer": "ipython3",
   "version": "3.8.9"
  }
 },
 "nbformat": 4,
 "nbformat_minor": 5
}
