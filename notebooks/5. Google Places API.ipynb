{
 "cells": [
  {
   "cell_type": "markdown",
   "id": "ee9b0845",
   "metadata": {},
   "source": [
    "## 5. Google places API"
   ]
  },
  {
   "cell_type": "code",
   "execution_count": 83,
   "id": "92cd7abe",
   "metadata": {},
   "outputs": [],
   "source": [
    "import pandas as pd\n",
    "import os, time\n",
    "import geopandas as gpd\n",
    "import geopy.distance"
   ]
  },
  {
   "cell_type": "code",
   "execution_count": 2,
   "id": "12f2d295",
   "metadata": {},
   "outputs": [
    {
     "name": "stderr",
     "output_type": "stream",
     "text": [
      "/Users/mikhailgasanov/geo/lib/python3.8/site-packages/IPython/core/interactiveshell.py:3457: DtypeWarning: Columns (29,30,32) have mixed types.Specify dtype option on import or set low_memory=False.\n",
      "  exec(code_obj, self.user_global_ns, self.user_ns)\n"
     ]
    }
   ],
   "source": [
    "df_cal_tech = pd.read_csv('/Users/mikhailgasanov/Downloads/ChargePoint Data CY20Q4.csv')"
   ]
  },
  {
   "cell_type": "markdown",
   "id": "15297522",
   "metadata": {},
   "source": [
    "## 1.Cluster points in groups"
   ]
  },
  {
   "cell_type": "code",
   "execution_count": 180,
   "id": "20c98933",
   "metadata": {},
   "outputs": [],
   "source": [
    "cols_to_plot = ['Latitude', 'Longitude',\n",
    "                'Total Duration (hh:mm:ss)',       \n",
    "                'Charging Time (hh:mm:ss)', \n",
    "                'Energy (kWh)', 'Station Name']\n",
    "\n",
    "gdf = gpd.GeoDataFrame(data=df_cal_tech[cols_to_plot], \n",
    "                       geometry=gpd.points_from_xy(x=df_cal_tech['Latitude'], \n",
    "                                                   y=df_cal_tech['Longitude']))"
   ]
  },
  {
   "cell_type": "code",
   "execution_count": 32,
   "id": "a4434d0d",
   "metadata": {},
   "outputs": [],
   "source": [
    "grouped = gdf.groupby(['Longitude', 'Latitude'], as_index=False).mean()\n",
    "centroids = grouped.round(3).groupby(['Longitude', 'Latitude'], as_index=False).mean()\n",
    "centroids = gpd.GeoDataFrame(data=centroids, \n",
    "                       geometry=gpd.points_from_xy(x=centroids['Latitude'],\n",
    "                                                   y=centroids['Longitude']))"
   ]
  },
  {
   "cell_type": "code",
   "execution_count": 194,
   "id": "a0b2b0fd",
   "metadata": {},
   "outputs": [
    {
     "data": {
      "application/vnd.plotly.v1+json": {
       "config": {
        "plotlyServerURL": "https://plot.ly"
       },
       "data": [
        {
         "hovertemplate": "Latitude=%{lat}<br>Longitude=%{lon}<extra></extra>",
         "lat": [
          37.443,
          37.444,
          37.446,
          37.447,
          37.444,
          37.445,
          37.448,
          37.449,
          37.426,
          37.427,
          37.428,
          37.429,
          37.427,
          37.445,
          37.422,
          37.422,
          37.422
         ],
         "legendgroup": "",
         "lon": [
          -122.163,
          -122.163,
          -122.162,
          -122.162,
          -122.16,
          -122.16,
          -122.158,
          -122.158,
          -122.146,
          -122.146,
          -122.144,
          -122.144,
          -122.143,
          -122.139,
          -122.114,
          -122.113,
          -122.112
         ],
         "marker": {
          "color": "#636efa",
          "size": 16
         },
         "mode": "markers",
         "name": "",
         "showlegend": false,
         "subplot": "mapbox",
         "type": "scattermapbox"
        }
       ],
       "layout": {
        "height": 600,
        "legend": {
         "tracegroupgap": 0
        },
        "mapbox": {
         "accesstoken": "pk.eyJ1IjoibWlzaGFncm9sIiwiYSI6ImNrdGtjbHV5aTFrd20ydW11bDdobWtoaTkifQ.4o97K1zdDfY61Sj9377N6Q\n",
         "center": {
          "lat": 37.43611764705882,
          "lon": -122.14629411764706
         },
         "domain": {
          "x": [
           0,
           1
          ],
          "y": [
           0,
           1
          ]
         },
         "style": "satellite",
         "zoom": 14
        },
        "margin": {
         "b": 0,
         "l": 0,
         "r": 0,
         "t": 0
        },
        "template": {
         "data": {
          "bar": [
           {
            "error_x": {
             "color": "#2a3f5f"
            },
            "error_y": {
             "color": "#2a3f5f"
            },
            "marker": {
             "line": {
              "color": "#E5ECF6",
              "width": 0.5
             },
             "pattern": {
              "fillmode": "overlay",
              "size": 10,
              "solidity": 0.2
             }
            },
            "type": "bar"
           }
          ],
          "barpolar": [
           {
            "marker": {
             "line": {
              "color": "#E5ECF6",
              "width": 0.5
             },
             "pattern": {
              "fillmode": "overlay",
              "size": 10,
              "solidity": 0.2
             }
            },
            "type": "barpolar"
           }
          ],
          "carpet": [
           {
            "aaxis": {
             "endlinecolor": "#2a3f5f",
             "gridcolor": "white",
             "linecolor": "white",
             "minorgridcolor": "white",
             "startlinecolor": "#2a3f5f"
            },
            "baxis": {
             "endlinecolor": "#2a3f5f",
             "gridcolor": "white",
             "linecolor": "white",
             "minorgridcolor": "white",
             "startlinecolor": "#2a3f5f"
            },
            "type": "carpet"
           }
          ],
          "choropleth": [
           {
            "colorbar": {
             "outlinewidth": 0,
             "ticks": ""
            },
            "type": "choropleth"
           }
          ],
          "contour": [
           {
            "colorbar": {
             "outlinewidth": 0,
             "ticks": ""
            },
            "colorscale": [
             [
              0,
              "#0d0887"
             ],
             [
              0.1111111111111111,
              "#46039f"
             ],
             [
              0.2222222222222222,
              "#7201a8"
             ],
             [
              0.3333333333333333,
              "#9c179e"
             ],
             [
              0.4444444444444444,
              "#bd3786"
             ],
             [
              0.5555555555555556,
              "#d8576b"
             ],
             [
              0.6666666666666666,
              "#ed7953"
             ],
             [
              0.7777777777777778,
              "#fb9f3a"
             ],
             [
              0.8888888888888888,
              "#fdca26"
             ],
             [
              1,
              "#f0f921"
             ]
            ],
            "type": "contour"
           }
          ],
          "contourcarpet": [
           {
            "colorbar": {
             "outlinewidth": 0,
             "ticks": ""
            },
            "type": "contourcarpet"
           }
          ],
          "heatmap": [
           {
            "colorbar": {
             "outlinewidth": 0,
             "ticks": ""
            },
            "colorscale": [
             [
              0,
              "#0d0887"
             ],
             [
              0.1111111111111111,
              "#46039f"
             ],
             [
              0.2222222222222222,
              "#7201a8"
             ],
             [
              0.3333333333333333,
              "#9c179e"
             ],
             [
              0.4444444444444444,
              "#bd3786"
             ],
             [
              0.5555555555555556,
              "#d8576b"
             ],
             [
              0.6666666666666666,
              "#ed7953"
             ],
             [
              0.7777777777777778,
              "#fb9f3a"
             ],
             [
              0.8888888888888888,
              "#fdca26"
             ],
             [
              1,
              "#f0f921"
             ]
            ],
            "type": "heatmap"
           }
          ],
          "heatmapgl": [
           {
            "colorbar": {
             "outlinewidth": 0,
             "ticks": ""
            },
            "colorscale": [
             [
              0,
              "#0d0887"
             ],
             [
              0.1111111111111111,
              "#46039f"
             ],
             [
              0.2222222222222222,
              "#7201a8"
             ],
             [
              0.3333333333333333,
              "#9c179e"
             ],
             [
              0.4444444444444444,
              "#bd3786"
             ],
             [
              0.5555555555555556,
              "#d8576b"
             ],
             [
              0.6666666666666666,
              "#ed7953"
             ],
             [
              0.7777777777777778,
              "#fb9f3a"
             ],
             [
              0.8888888888888888,
              "#fdca26"
             ],
             [
              1,
              "#f0f921"
             ]
            ],
            "type": "heatmapgl"
           }
          ],
          "histogram": [
           {
            "marker": {
             "pattern": {
              "fillmode": "overlay",
              "size": 10,
              "solidity": 0.2
             }
            },
            "type": "histogram"
           }
          ],
          "histogram2d": [
           {
            "colorbar": {
             "outlinewidth": 0,
             "ticks": ""
            },
            "colorscale": [
             [
              0,
              "#0d0887"
             ],
             [
              0.1111111111111111,
              "#46039f"
             ],
             [
              0.2222222222222222,
              "#7201a8"
             ],
             [
              0.3333333333333333,
              "#9c179e"
             ],
             [
              0.4444444444444444,
              "#bd3786"
             ],
             [
              0.5555555555555556,
              "#d8576b"
             ],
             [
              0.6666666666666666,
              "#ed7953"
             ],
             [
              0.7777777777777778,
              "#fb9f3a"
             ],
             [
              0.8888888888888888,
              "#fdca26"
             ],
             [
              1,
              "#f0f921"
             ]
            ],
            "type": "histogram2d"
           }
          ],
          "histogram2dcontour": [
           {
            "colorbar": {
             "outlinewidth": 0,
             "ticks": ""
            },
            "colorscale": [
             [
              0,
              "#0d0887"
             ],
             [
              0.1111111111111111,
              "#46039f"
             ],
             [
              0.2222222222222222,
              "#7201a8"
             ],
             [
              0.3333333333333333,
              "#9c179e"
             ],
             [
              0.4444444444444444,
              "#bd3786"
             ],
             [
              0.5555555555555556,
              "#d8576b"
             ],
             [
              0.6666666666666666,
              "#ed7953"
             ],
             [
              0.7777777777777778,
              "#fb9f3a"
             ],
             [
              0.8888888888888888,
              "#fdca26"
             ],
             [
              1,
              "#f0f921"
             ]
            ],
            "type": "histogram2dcontour"
           }
          ],
          "mesh3d": [
           {
            "colorbar": {
             "outlinewidth": 0,
             "ticks": ""
            },
            "type": "mesh3d"
           }
          ],
          "parcoords": [
           {
            "line": {
             "colorbar": {
              "outlinewidth": 0,
              "ticks": ""
             }
            },
            "type": "parcoords"
           }
          ],
          "pie": [
           {
            "automargin": true,
            "type": "pie"
           }
          ],
          "scatter": [
           {
            "marker": {
             "colorbar": {
              "outlinewidth": 0,
              "ticks": ""
             }
            },
            "type": "scatter"
           }
          ],
          "scatter3d": [
           {
            "line": {
             "colorbar": {
              "outlinewidth": 0,
              "ticks": ""
             }
            },
            "marker": {
             "colorbar": {
              "outlinewidth": 0,
              "ticks": ""
             }
            },
            "type": "scatter3d"
           }
          ],
          "scattercarpet": [
           {
            "marker": {
             "colorbar": {
              "outlinewidth": 0,
              "ticks": ""
             }
            },
            "type": "scattercarpet"
           }
          ],
          "scattergeo": [
           {
            "marker": {
             "colorbar": {
              "outlinewidth": 0,
              "ticks": ""
             }
            },
            "type": "scattergeo"
           }
          ],
          "scattergl": [
           {
            "marker": {
             "colorbar": {
              "outlinewidth": 0,
              "ticks": ""
             }
            },
            "type": "scattergl"
           }
          ],
          "scattermapbox": [
           {
            "marker": {
             "colorbar": {
              "outlinewidth": 0,
              "ticks": ""
             }
            },
            "type": "scattermapbox"
           }
          ],
          "scatterpolar": [
           {
            "marker": {
             "colorbar": {
              "outlinewidth": 0,
              "ticks": ""
             }
            },
            "type": "scatterpolar"
           }
          ],
          "scatterpolargl": [
           {
            "marker": {
             "colorbar": {
              "outlinewidth": 0,
              "ticks": ""
             }
            },
            "type": "scatterpolargl"
           }
          ],
          "scatterternary": [
           {
            "marker": {
             "colorbar": {
              "outlinewidth": 0,
              "ticks": ""
             }
            },
            "type": "scatterternary"
           }
          ],
          "surface": [
           {
            "colorbar": {
             "outlinewidth": 0,
             "ticks": ""
            },
            "colorscale": [
             [
              0,
              "#0d0887"
             ],
             [
              0.1111111111111111,
              "#46039f"
             ],
             [
              0.2222222222222222,
              "#7201a8"
             ],
             [
              0.3333333333333333,
              "#9c179e"
             ],
             [
              0.4444444444444444,
              "#bd3786"
             ],
             [
              0.5555555555555556,
              "#d8576b"
             ],
             [
              0.6666666666666666,
              "#ed7953"
             ],
             [
              0.7777777777777778,
              "#fb9f3a"
             ],
             [
              0.8888888888888888,
              "#fdca26"
             ],
             [
              1,
              "#f0f921"
             ]
            ],
            "type": "surface"
           }
          ],
          "table": [
           {
            "cells": {
             "fill": {
              "color": "#EBF0F8"
             },
             "line": {
              "color": "white"
             }
            },
            "header": {
             "fill": {
              "color": "#C8D4E3"
             },
             "line": {
              "color": "white"
             }
            },
            "type": "table"
           }
          ]
         },
         "layout": {
          "annotationdefaults": {
           "arrowcolor": "#2a3f5f",
           "arrowhead": 0,
           "arrowwidth": 1
          },
          "autotypenumbers": "strict",
          "coloraxis": {
           "colorbar": {
            "outlinewidth": 0,
            "ticks": ""
           }
          },
          "colorscale": {
           "diverging": [
            [
             0,
             "#8e0152"
            ],
            [
             0.1,
             "#c51b7d"
            ],
            [
             0.2,
             "#de77ae"
            ],
            [
             0.3,
             "#f1b6da"
            ],
            [
             0.4,
             "#fde0ef"
            ],
            [
             0.5,
             "#f7f7f7"
            ],
            [
             0.6,
             "#e6f5d0"
            ],
            [
             0.7,
             "#b8e186"
            ],
            [
             0.8,
             "#7fbc41"
            ],
            [
             0.9,
             "#4d9221"
            ],
            [
             1,
             "#276419"
            ]
           ],
           "sequential": [
            [
             0,
             "#0d0887"
            ],
            [
             0.1111111111111111,
             "#46039f"
            ],
            [
             0.2222222222222222,
             "#7201a8"
            ],
            [
             0.3333333333333333,
             "#9c179e"
            ],
            [
             0.4444444444444444,
             "#bd3786"
            ],
            [
             0.5555555555555556,
             "#d8576b"
            ],
            [
             0.6666666666666666,
             "#ed7953"
            ],
            [
             0.7777777777777778,
             "#fb9f3a"
            ],
            [
             0.8888888888888888,
             "#fdca26"
            ],
            [
             1,
             "#f0f921"
            ]
           ],
           "sequentialminus": [
            [
             0,
             "#0d0887"
            ],
            [
             0.1111111111111111,
             "#46039f"
            ],
            [
             0.2222222222222222,
             "#7201a8"
            ],
            [
             0.3333333333333333,
             "#9c179e"
            ],
            [
             0.4444444444444444,
             "#bd3786"
            ],
            [
             0.5555555555555556,
             "#d8576b"
            ],
            [
             0.6666666666666666,
             "#ed7953"
            ],
            [
             0.7777777777777778,
             "#fb9f3a"
            ],
            [
             0.8888888888888888,
             "#fdca26"
            ],
            [
             1,
             "#f0f921"
            ]
           ]
          },
          "colorway": [
           "#636efa",
           "#EF553B",
           "#00cc96",
           "#ab63fa",
           "#FFA15A",
           "#19d3f3",
           "#FF6692",
           "#B6E880",
           "#FF97FF",
           "#FECB52"
          ],
          "font": {
           "color": "#2a3f5f"
          },
          "geo": {
           "bgcolor": "white",
           "lakecolor": "white",
           "landcolor": "#E5ECF6",
           "showlakes": true,
           "showland": true,
           "subunitcolor": "white"
          },
          "hoverlabel": {
           "align": "left"
          },
          "hovermode": "closest",
          "mapbox": {
           "style": "light"
          },
          "paper_bgcolor": "white",
          "plot_bgcolor": "#E5ECF6",
          "polar": {
           "angularaxis": {
            "gridcolor": "white",
            "linecolor": "white",
            "ticks": ""
           },
           "bgcolor": "#E5ECF6",
           "radialaxis": {
            "gridcolor": "white",
            "linecolor": "white",
            "ticks": ""
           }
          },
          "scene": {
           "xaxis": {
            "backgroundcolor": "#E5ECF6",
            "gridcolor": "white",
            "gridwidth": 2,
            "linecolor": "white",
            "showbackground": true,
            "ticks": "",
            "zerolinecolor": "white"
           },
           "yaxis": {
            "backgroundcolor": "#E5ECF6",
            "gridcolor": "white",
            "gridwidth": 2,
            "linecolor": "white",
            "showbackground": true,
            "ticks": "",
            "zerolinecolor": "white"
           },
           "zaxis": {
            "backgroundcolor": "#E5ECF6",
            "gridcolor": "white",
            "gridwidth": 2,
            "linecolor": "white",
            "showbackground": true,
            "ticks": "",
            "zerolinecolor": "white"
           }
          },
          "shapedefaults": {
           "line": {
            "color": "#2a3f5f"
           }
          },
          "ternary": {
           "aaxis": {
            "gridcolor": "white",
            "linecolor": "white",
            "ticks": ""
           },
           "baxis": {
            "gridcolor": "white",
            "linecolor": "white",
            "ticks": ""
           },
           "bgcolor": "#E5ECF6",
           "caxis": {
            "gridcolor": "white",
            "linecolor": "white",
            "ticks": ""
           }
          },
          "title": {
           "x": 0.05
          },
          "xaxis": {
           "automargin": true,
           "gridcolor": "white",
           "linecolor": "white",
           "ticks": "",
           "title": {
            "standoff": 15
           },
           "zerolinecolor": "white",
           "zerolinewidth": 2
          },
          "yaxis": {
           "automargin": true,
           "gridcolor": "white",
           "linecolor": "white",
           "ticks": "",
           "title": {
            "standoff": 15
           },
           "zerolinecolor": "white",
           "zerolinewidth": 2
          }
         }
        }
       }
      },
      "text/html": [
       "<div>                            <div id=\"83e81df1-7e9d-4365-a392-42e859313076\" class=\"plotly-graph-div\" style=\"height:600px; width:100%;\"></div>            <script type=\"text/javascript\">                require([\"plotly\"], function(Plotly) {                    window.PLOTLYENV=window.PLOTLYENV || {};                                    if (document.getElementById(\"83e81df1-7e9d-4365-a392-42e859313076\")) {                    Plotly.newPlot(                        \"83e81df1-7e9d-4365-a392-42e859313076\",                        [{\"hovertemplate\":\"Latitude=%{lat}<br>Longitude=%{lon}<extra></extra>\",\"lat\":[37.443,37.444,37.446,37.447,37.444,37.445,37.448,37.449,37.426,37.427,37.428,37.429,37.427,37.445,37.422,37.422,37.422],\"legendgroup\":\"\",\"lon\":[-122.163,-122.163,-122.162,-122.162,-122.16,-122.16,-122.158,-122.158,-122.146,-122.146,-122.144,-122.144,-122.143,-122.139,-122.114,-122.113,-122.112],\"marker\":{\"color\":\"#636efa\",\"size\":16},\"mode\":\"markers\",\"name\":\"\",\"showlegend\":false,\"subplot\":\"mapbox\",\"type\":\"scattermapbox\"}],                        {\"template\":{\"data\":{\"bar\":[{\"error_x\":{\"color\":\"#2a3f5f\"},\"error_y\":{\"color\":\"#2a3f5f\"},\"marker\":{\"line\":{\"color\":\"#E5ECF6\",\"width\":0.5},\"pattern\":{\"fillmode\":\"overlay\",\"size\":10,\"solidity\":0.2}},\"type\":\"bar\"}],\"barpolar\":[{\"marker\":{\"line\":{\"color\":\"#E5ECF6\",\"width\":0.5},\"pattern\":{\"fillmode\":\"overlay\",\"size\":10,\"solidity\":0.2}},\"type\":\"barpolar\"}],\"carpet\":[{\"aaxis\":{\"endlinecolor\":\"#2a3f5f\",\"gridcolor\":\"white\",\"linecolor\":\"white\",\"minorgridcolor\":\"white\",\"startlinecolor\":\"#2a3f5f\"},\"baxis\":{\"endlinecolor\":\"#2a3f5f\",\"gridcolor\":\"white\",\"linecolor\":\"white\",\"minorgridcolor\":\"white\",\"startlinecolor\":\"#2a3f5f\"},\"type\":\"carpet\"}],\"choropleth\":[{\"colorbar\":{\"outlinewidth\":0,\"ticks\":\"\"},\"type\":\"choropleth\"}],\"contour\":[{\"colorbar\":{\"outlinewidth\":0,\"ticks\":\"\"},\"colorscale\":[[0.0,\"#0d0887\"],[0.1111111111111111,\"#46039f\"],[0.2222222222222222,\"#7201a8\"],[0.3333333333333333,\"#9c179e\"],[0.4444444444444444,\"#bd3786\"],[0.5555555555555556,\"#d8576b\"],[0.6666666666666666,\"#ed7953\"],[0.7777777777777778,\"#fb9f3a\"],[0.8888888888888888,\"#fdca26\"],[1.0,\"#f0f921\"]],\"type\":\"contour\"}],\"contourcarpet\":[{\"colorbar\":{\"outlinewidth\":0,\"ticks\":\"\"},\"type\":\"contourcarpet\"}],\"heatmap\":[{\"colorbar\":{\"outlinewidth\":0,\"ticks\":\"\"},\"colorscale\":[[0.0,\"#0d0887\"],[0.1111111111111111,\"#46039f\"],[0.2222222222222222,\"#7201a8\"],[0.3333333333333333,\"#9c179e\"],[0.4444444444444444,\"#bd3786\"],[0.5555555555555556,\"#d8576b\"],[0.6666666666666666,\"#ed7953\"],[0.7777777777777778,\"#fb9f3a\"],[0.8888888888888888,\"#fdca26\"],[1.0,\"#f0f921\"]],\"type\":\"heatmap\"}],\"heatmapgl\":[{\"colorbar\":{\"outlinewidth\":0,\"ticks\":\"\"},\"colorscale\":[[0.0,\"#0d0887\"],[0.1111111111111111,\"#46039f\"],[0.2222222222222222,\"#7201a8\"],[0.3333333333333333,\"#9c179e\"],[0.4444444444444444,\"#bd3786\"],[0.5555555555555556,\"#d8576b\"],[0.6666666666666666,\"#ed7953\"],[0.7777777777777778,\"#fb9f3a\"],[0.8888888888888888,\"#fdca26\"],[1.0,\"#f0f921\"]],\"type\":\"heatmapgl\"}],\"histogram\":[{\"marker\":{\"pattern\":{\"fillmode\":\"overlay\",\"size\":10,\"solidity\":0.2}},\"type\":\"histogram\"}],\"histogram2d\":[{\"colorbar\":{\"outlinewidth\":0,\"ticks\":\"\"},\"colorscale\":[[0.0,\"#0d0887\"],[0.1111111111111111,\"#46039f\"],[0.2222222222222222,\"#7201a8\"],[0.3333333333333333,\"#9c179e\"],[0.4444444444444444,\"#bd3786\"],[0.5555555555555556,\"#d8576b\"],[0.6666666666666666,\"#ed7953\"],[0.7777777777777778,\"#fb9f3a\"],[0.8888888888888888,\"#fdca26\"],[1.0,\"#f0f921\"]],\"type\":\"histogram2d\"}],\"histogram2dcontour\":[{\"colorbar\":{\"outlinewidth\":0,\"ticks\":\"\"},\"colorscale\":[[0.0,\"#0d0887\"],[0.1111111111111111,\"#46039f\"],[0.2222222222222222,\"#7201a8\"],[0.3333333333333333,\"#9c179e\"],[0.4444444444444444,\"#bd3786\"],[0.5555555555555556,\"#d8576b\"],[0.6666666666666666,\"#ed7953\"],[0.7777777777777778,\"#fb9f3a\"],[0.8888888888888888,\"#fdca26\"],[1.0,\"#f0f921\"]],\"type\":\"histogram2dcontour\"}],\"mesh3d\":[{\"colorbar\":{\"outlinewidth\":0,\"ticks\":\"\"},\"type\":\"mesh3d\"}],\"parcoords\":[{\"line\":{\"colorbar\":{\"outlinewidth\":0,\"ticks\":\"\"}},\"type\":\"parcoords\"}],\"pie\":[{\"automargin\":true,\"type\":\"pie\"}],\"scatter\":[{\"marker\":{\"colorbar\":{\"outlinewidth\":0,\"ticks\":\"\"}},\"type\":\"scatter\"}],\"scatter3d\":[{\"line\":{\"colorbar\":{\"outlinewidth\":0,\"ticks\":\"\"}},\"marker\":{\"colorbar\":{\"outlinewidth\":0,\"ticks\":\"\"}},\"type\":\"scatter3d\"}],\"scattercarpet\":[{\"marker\":{\"colorbar\":{\"outlinewidth\":0,\"ticks\":\"\"}},\"type\":\"scattercarpet\"}],\"scattergeo\":[{\"marker\":{\"colorbar\":{\"outlinewidth\":0,\"ticks\":\"\"}},\"type\":\"scattergeo\"}],\"scattergl\":[{\"marker\":{\"colorbar\":{\"outlinewidth\":0,\"ticks\":\"\"}},\"type\":\"scattergl\"}],\"scattermapbox\":[{\"marker\":{\"colorbar\":{\"outlinewidth\":0,\"ticks\":\"\"}},\"type\":\"scattermapbox\"}],\"scatterpolar\":[{\"marker\":{\"colorbar\":{\"outlinewidth\":0,\"ticks\":\"\"}},\"type\":\"scatterpolar\"}],\"scatterpolargl\":[{\"marker\":{\"colorbar\":{\"outlinewidth\":0,\"ticks\":\"\"}},\"type\":\"scatterpolargl\"}],\"scatterternary\":[{\"marker\":{\"colorbar\":{\"outlinewidth\":0,\"ticks\":\"\"}},\"type\":\"scatterternary\"}],\"surface\":[{\"colorbar\":{\"outlinewidth\":0,\"ticks\":\"\"},\"colorscale\":[[0.0,\"#0d0887\"],[0.1111111111111111,\"#46039f\"],[0.2222222222222222,\"#7201a8\"],[0.3333333333333333,\"#9c179e\"],[0.4444444444444444,\"#bd3786\"],[0.5555555555555556,\"#d8576b\"],[0.6666666666666666,\"#ed7953\"],[0.7777777777777778,\"#fb9f3a\"],[0.8888888888888888,\"#fdca26\"],[1.0,\"#f0f921\"]],\"type\":\"surface\"}],\"table\":[{\"cells\":{\"fill\":{\"color\":\"#EBF0F8\"},\"line\":{\"color\":\"white\"}},\"header\":{\"fill\":{\"color\":\"#C8D4E3\"},\"line\":{\"color\":\"white\"}},\"type\":\"table\"}]},\"layout\":{\"annotationdefaults\":{\"arrowcolor\":\"#2a3f5f\",\"arrowhead\":0,\"arrowwidth\":1},\"autotypenumbers\":\"strict\",\"coloraxis\":{\"colorbar\":{\"outlinewidth\":0,\"ticks\":\"\"}},\"colorscale\":{\"diverging\":[[0,\"#8e0152\"],[0.1,\"#c51b7d\"],[0.2,\"#de77ae\"],[0.3,\"#f1b6da\"],[0.4,\"#fde0ef\"],[0.5,\"#f7f7f7\"],[0.6,\"#e6f5d0\"],[0.7,\"#b8e186\"],[0.8,\"#7fbc41\"],[0.9,\"#4d9221\"],[1,\"#276419\"]],\"sequential\":[[0.0,\"#0d0887\"],[0.1111111111111111,\"#46039f\"],[0.2222222222222222,\"#7201a8\"],[0.3333333333333333,\"#9c179e\"],[0.4444444444444444,\"#bd3786\"],[0.5555555555555556,\"#d8576b\"],[0.6666666666666666,\"#ed7953\"],[0.7777777777777778,\"#fb9f3a\"],[0.8888888888888888,\"#fdca26\"],[1.0,\"#f0f921\"]],\"sequentialminus\":[[0.0,\"#0d0887\"],[0.1111111111111111,\"#46039f\"],[0.2222222222222222,\"#7201a8\"],[0.3333333333333333,\"#9c179e\"],[0.4444444444444444,\"#bd3786\"],[0.5555555555555556,\"#d8576b\"],[0.6666666666666666,\"#ed7953\"],[0.7777777777777778,\"#fb9f3a\"],[0.8888888888888888,\"#fdca26\"],[1.0,\"#f0f921\"]]},\"colorway\":[\"#636efa\",\"#EF553B\",\"#00cc96\",\"#ab63fa\",\"#FFA15A\",\"#19d3f3\",\"#FF6692\",\"#B6E880\",\"#FF97FF\",\"#FECB52\"],\"font\":{\"color\":\"#2a3f5f\"},\"geo\":{\"bgcolor\":\"white\",\"lakecolor\":\"white\",\"landcolor\":\"#E5ECF6\",\"showlakes\":true,\"showland\":true,\"subunitcolor\":\"white\"},\"hoverlabel\":{\"align\":\"left\"},\"hovermode\":\"closest\",\"mapbox\":{\"style\":\"light\"},\"paper_bgcolor\":\"white\",\"plot_bgcolor\":\"#E5ECF6\",\"polar\":{\"angularaxis\":{\"gridcolor\":\"white\",\"linecolor\":\"white\",\"ticks\":\"\"},\"bgcolor\":\"#E5ECF6\",\"radialaxis\":{\"gridcolor\":\"white\",\"linecolor\":\"white\",\"ticks\":\"\"}},\"scene\":{\"xaxis\":{\"backgroundcolor\":\"#E5ECF6\",\"gridcolor\":\"white\",\"gridwidth\":2,\"linecolor\":\"white\",\"showbackground\":true,\"ticks\":\"\",\"zerolinecolor\":\"white\"},\"yaxis\":{\"backgroundcolor\":\"#E5ECF6\",\"gridcolor\":\"white\",\"gridwidth\":2,\"linecolor\":\"white\",\"showbackground\":true,\"ticks\":\"\",\"zerolinecolor\":\"white\"},\"zaxis\":{\"backgroundcolor\":\"#E5ECF6\",\"gridcolor\":\"white\",\"gridwidth\":2,\"linecolor\":\"white\",\"showbackground\":true,\"ticks\":\"\",\"zerolinecolor\":\"white\"}},\"shapedefaults\":{\"line\":{\"color\":\"#2a3f5f\"}},\"ternary\":{\"aaxis\":{\"gridcolor\":\"white\",\"linecolor\":\"white\",\"ticks\":\"\"},\"baxis\":{\"gridcolor\":\"white\",\"linecolor\":\"white\",\"ticks\":\"\"},\"bgcolor\":\"#E5ECF6\",\"caxis\":{\"gridcolor\":\"white\",\"linecolor\":\"white\",\"ticks\":\"\"}},\"title\":{\"x\":0.05},\"xaxis\":{\"automargin\":true,\"gridcolor\":\"white\",\"linecolor\":\"white\",\"ticks\":\"\",\"title\":{\"standoff\":15},\"zerolinecolor\":\"white\",\"zerolinewidth\":2},\"yaxis\":{\"automargin\":true,\"gridcolor\":\"white\",\"linecolor\":\"white\",\"ticks\":\"\",\"title\":{\"standoff\":15},\"zerolinecolor\":\"white\",\"zerolinewidth\":2}}},\"mapbox\":{\"domain\":{\"x\":[0.0,1.0],\"y\":[0.0,1.0]},\"center\":{\"lat\":37.43611764705882,\"lon\":-122.14629411764706},\"zoom\":14,\"style\":\"satellite\",\"accesstoken\":\"pk.eyJ1IjoibWlzaGFncm9sIiwiYSI6ImNrdGtjbHV5aTFrd20ydW11bDdobWtoaTkifQ.4o97K1zdDfY61Sj9377N6Q\\n\"},\"legend\":{\"tracegroupgap\":0},\"margin\":{\"t\":0,\"r\":0,\"l\":0,\"b\":0},\"height\":600},                        {\"responsive\": true}                    ).then(function(){\n",
       "                            \n",
       "var gd = document.getElementById('83e81df1-7e9d-4365-a392-42e859313076');\n",
       "var x = new MutationObserver(function (mutations, observer) {{\n",
       "        var display = window.getComputedStyle(gd).display;\n",
       "        if (!display || display === 'none') {{\n",
       "            console.log([gd, 'removed!']);\n",
       "            Plotly.purge(gd);\n",
       "            observer.disconnect();\n",
       "        }}\n",
       "}});\n",
       "\n",
       "// Listen for the removal of the full notebook cells\n",
       "var notebookContainer = gd.closest('#notebook-container');\n",
       "if (notebookContainer) {{\n",
       "    x.observe(notebookContainer, {childList: true});\n",
       "}}\n",
       "\n",
       "// Listen for the clearing of the current output cell\n",
       "var outputEl = gd.closest('.output');\n",
       "if (outputEl) {{\n",
       "    x.observe(outputEl, {childList: true});\n",
       "}}\n",
       "\n",
       "                        })                };                });            </script>        </div>"
      ]
     },
     "metadata": {},
     "output_type": "display_data"
    }
   ],
   "source": [
    "import plotly.express as px\n",
    "import base64\n",
    "import plotly.graph_objects as go\n",
    "\n",
    "token = open('../.mapbox_token').read()\n",
    "\n",
    "\n",
    "fig_1 = px.scatter_mapbox(centroids, lat='Latitude', lon='Longitude',\n",
    "                         color_continuous_scale='blues',\n",
    "                          zoom=14, height=600)\n",
    "\n",
    "fig_1.update_layout(mapbox_style=\"satellite\",mapbox_accesstoken=token )\n",
    "\n",
    "fig_1.update_layout(margin={\"r\":0,\"t\":0,\"l\":0,\"b\":0})\n",
    "\n",
    "fig_1.update_traces(marker=dict(size=16))"
   ]
  },
  {
   "cell_type": "markdown",
   "id": "065ce52a",
   "metadata": {},
   "source": [
    "## 2. Request Google Places API"
   ]
  },
  {
   "cell_type": "code",
   "execution_count": null,
   "id": "375489b3",
   "metadata": {},
   "outputs": [],
   "source": [
    "def getDistance(coords_1:tuple, coords_2:tuple) -> float:\n",
    "    return geopy.distance.geodesic(coords_1, coords_2).m\n",
    "\n",
    "def getBuildings(response: dict) -> pd.DataFrame:\n",
    "    buildings_lat = [i['geometry']['location']['lat'] for i in response['results']]\n",
    "    buildings_lon = [i['geometry']['location']['lng'] for i in response['results']]\n",
    "    buildings = [i['types'][0] for i in response['results']]\n",
    "    buildings_id = [i['reference'] for i in response['results']]\n",
    "    df_buildings = pd.DataFrame(data=[buildings, buildings_lat, buildings_lon, buildings_id]).T\n",
    "    df_buildings.columns = ['category', 'latitude_bld', 'longitude_bld', 'id_google']\n",
    "    return df_buildings\n",
    "\n",
    "def getNearby(latitude: float, longitude:float, distance:int=1000) -> pd.DataFrame:\n",
    "    coordinates = (latitude, longitude)\n",
    "    response = client.places_nearby(\n",
    "        location = coordinates,\n",
    "        radius = distance)\n",
    "    next_page_token = response.get('next_page_token')\n",
    "\n",
    "    df_buildings = getBuildings(response=response)\n",
    "\n",
    "    print('Download', end=' ')\n",
    "    while next_page_token:\n",
    "        print('.', end='')\n",
    "        time.sleep(2)\n",
    "        response = client.places_nearby(\n",
    "        location = coordinates,\n",
    "        radius = distance,\n",
    "        page_token = next_page_token)\n",
    "        _df = getBuildings(response=response)\n",
    "        df_buildings = pd.concat([df_buildings, _df])\n",
    "        next_page_token = response.get('next_page_token')\n",
    "    print('Finished')\n",
    "    df_buildings.loc[:, 'Latitude'] = latitude\n",
    "    df_buildings.loc[:, 'Longitude'] = longitude\n",
    "    return df_buildings\n"
   ]
  },
  {
   "cell_type": "code",
   "execution_count": 36,
   "id": "f69cd8b3",
   "metadata": {},
   "outputs": [],
   "source": [
    "token_google = open('/Users/mikhailgasanov/.google_token', 'r').read()"
   ]
  },
  {
   "cell_type": "code",
   "execution_count": 38,
   "id": "3c586757",
   "metadata": {},
   "outputs": [],
   "source": [
    "import googlemaps\n",
    "client = googlemaps.Client(key = token_google)\n"
   ]
  },
  {
   "cell_type": "code",
   "execution_count": 193,
   "id": "0dcfe034",
   "metadata": {},
   "outputs": [
    {
     "data": {
      "text/plain": [
       "17"
      ]
     },
     "execution_count": 193,
     "metadata": {},
     "output_type": "execute_result"
    }
   ],
   "source": [
    "(len(centroids))"
   ]
  },
  {
   "cell_type": "code",
   "execution_count": 94,
   "id": "e92a61a7",
   "metadata": {},
   "outputs": [
    {
     "name": "stdout",
     "output_type": "stream",
     "text": [
      "Download ..Finished\n",
      "Download ..Finished\n",
      "Download ..Finished\n",
      "Download ..Finished\n",
      "Download ..Finished\n",
      "Download ..Finished\n",
      "Download ..Finished\n",
      "Download ..Finished\n",
      "Download ..Finished\n",
      "Download ..Finished\n",
      "Download ..Finished\n",
      "Download ..Finished\n",
      "Download ..Finished\n",
      "Download ..Finished\n",
      "Download ..Finished\n",
      "Download ..Finished\n",
      "Download ..Finished\n"
     ]
    }
   ],
   "source": [
    "spatial_features = pd.DataFrame()\n",
    "for i in range(len(centroids)):\n",
    "    row = centroids.iloc[i,:]\n",
    "    latitude = row['Latitude']\n",
    "    longitude = row['Longitude']\n",
    "    df = getNearby(latitude=latitude, longitude=longitude, distance=1000)\n",
    "    spatial_features = pd.concat([spatial_features, df])"
   ]
  },
  {
   "cell_type": "code",
   "execution_count": 102,
   "id": "99e4870c",
   "metadata": {},
   "outputs": [],
   "source": [
    "spatial_features.loc[:, 'distance'] = spatial_features.apply(lambda x:\n",
    "                                                             getDistance(coords_1=(x.latitude_bld, \n",
    "                                                                                   x.longitude_bld),\n",
    "                                                                        coords_2=(x.latitude, \n",
    "                                                                                   x.longitude)),axis=1)\n"
   ]
  },
  {
   "cell_type": "code",
   "execution_count": 129,
   "id": "3e0211fb",
   "metadata": {},
   "outputs": [
    {
     "data": {
      "text/plain": [
       "316"
      ]
     },
     "execution_count": 129,
     "metadata": {},
     "output_type": "execute_result"
    }
   ],
   "source": [
    "spatial_features['id_google'].unique()"
   ]
  },
  {
   "cell_type": "markdown",
   "id": "842d84a6",
   "metadata": {},
   "source": [
    "## 3. Get Popularity"
   ]
  },
  {
   "cell_type": "code",
   "execution_count": 105,
   "id": "32b82a19",
   "metadata": {},
   "outputs": [],
   "source": [
    "import populartimes"
   ]
  },
  {
   "cell_type": "code",
   "execution_count": 134,
   "id": "db7dc1f0",
   "metadata": {},
   "outputs": [],
   "source": [
    "def getPopularity(id_google: str)->pd.DataFrame:\n",
    "    resp = populartimes.get_id(token_google, id_google)\n",
    "    headers = []\n",
    "    data = []\n",
    "    if 'populartimes' in resp.keys():\n",
    "        for i in resp['populartimes']:\n",
    "            headers.extend([i['name']+ '_'+ str(h) for h in range(1,25)])\n",
    "            data.extend(i['data'])\n",
    "        df = pd.DataFrame(data).T\n",
    "        df.columns = headers\n",
    "        df.loc[:, 'id_google'] = id_google\n",
    "\n",
    "        return df \n",
    "    else: \n",
    "        return None"
   ]
  },
  {
   "cell_type": "code",
   "execution_count": 140,
   "id": "eb8a4beb",
   "metadata": {},
   "outputs": [
    {
     "name": "stdout",
     "output_type": "stream",
     "text": [
      "0\n",
      "1\n",
      "2\n",
      "3\n",
      "4\n",
      "5\n",
      "6\n",
      "7\n",
      "8\n",
      "9\n",
      "10\n",
      "11\n",
      "12\n",
      "13\n",
      "14\n",
      "15\n",
      "16\n",
      "17\n",
      "18\n",
      "19\n",
      "20\n",
      "21\n",
      "22\n",
      "23\n",
      "24\n",
      "25\n",
      "26\n",
      "27\n",
      "28\n",
      "29\n",
      "30\n",
      "31\n",
      "32\n",
      "33\n",
      "34\n",
      "35\n",
      "36\n",
      "37\n",
      "38\n",
      "39\n",
      "40\n",
      "41\n",
      "42\n",
      "43\n",
      "44\n",
      "45\n",
      "46\n",
      "47\n",
      "48\n",
      "49\n",
      "50\n",
      "51\n",
      "52\n",
      "53\n",
      "54\n",
      "55\n",
      "56\n",
      "57\n",
      "58\n",
      "59\n",
      "60\n",
      "61\n",
      "62\n",
      "63\n",
      "64\n",
      "65\n",
      "66\n",
      "67\n",
      "68\n",
      "69\n",
      "70\n",
      "71\n",
      "72\n",
      "73\n",
      "74\n",
      "75\n",
      "76\n",
      "77\n",
      "78\n",
      "79\n",
      "80\n",
      "81\n",
      "82\n",
      "83\n",
      "84\n",
      "85\n",
      "86\n",
      "87\n",
      "88\n",
      "89\n",
      "90\n",
      "91\n",
      "92\n",
      "93\n",
      "94\n",
      "95\n",
      "96\n",
      "97\n",
      "98\n",
      "99\n",
      "100\n",
      "101\n",
      "102\n",
      "103\n",
      "104\n",
      "105\n",
      "106\n",
      "107\n",
      "108\n",
      "109\n",
      "110\n",
      "111\n",
      "112\n",
      "113\n",
      "114\n",
      "115\n",
      "116\n",
      "117\n",
      "118\n",
      "119\n",
      "120\n",
      "121\n",
      "122\n",
      "123\n",
      "124\n",
      "125\n",
      "126\n",
      "127\n",
      "128\n",
      "129\n",
      "130\n",
      "131\n",
      "132\n",
      "133\n",
      "134\n",
      "135\n",
      "136\n",
      "137\n",
      "138\n",
      "139\n",
      "140\n",
      "141\n",
      "142\n",
      "143\n",
      "144\n",
      "145\n",
      "146\n",
      "147\n",
      "148\n",
      "149\n",
      "150\n",
      "151\n",
      "152\n",
      "153\n",
      "154\n",
      "155\n",
      "156\n",
      "157\n",
      "158\n",
      "159\n",
      "160\n",
      "161\n",
      "162\n",
      "163\n",
      "164\n",
      "165\n",
      "166\n",
      "167\n",
      "168\n",
      "169\n",
      "170\n",
      "171\n",
      "172\n",
      "173\n",
      "174\n",
      "175\n",
      "176\n",
      "177\n",
      "178\n",
      "179\n",
      "180\n",
      "181\n",
      "182\n",
      "183\n",
      "184\n",
      "185\n",
      "186\n",
      "187\n",
      "188\n",
      "189\n",
      "190\n",
      "191\n",
      "192\n",
      "193\n",
      "194\n",
      "195\n",
      "196\n",
      "197\n",
      "198\n",
      "199\n",
      "200\n",
      "201\n",
      "202\n",
      "203\n",
      "204\n",
      "205\n",
      "206\n",
      "207\n",
      "208\n",
      "209\n",
      "210\n",
      "211\n",
      "212\n",
      "213\n",
      "214\n",
      "215\n",
      "216\n",
      "217\n",
      "218\n",
      "219\n",
      "220\n",
      "221\n",
      "222\n",
      "223\n",
      "224\n",
      "225\n",
      "226\n",
      "227\n",
      "228\n",
      "229\n",
      "230\n",
      "231\n",
      "232\n",
      "233\n",
      "234\n",
      "235\n",
      "236\n",
      "237\n",
      "238\n",
      "239\n",
      "240\n",
      "241\n",
      "242\n",
      "243\n",
      "244\n",
      "245\n",
      "246\n",
      "247\n",
      "248\n",
      "249\n",
      "250\n",
      "251\n",
      "252\n",
      "253\n",
      "254\n",
      "255\n",
      "256\n",
      "257\n",
      "258\n",
      "259\n",
      "260\n",
      "261\n",
      "262\n",
      "263\n",
      "264\n",
      "265\n",
      "266\n",
      "267\n",
      "268\n",
      "269\n",
      "270\n",
      "271\n",
      "272\n",
      "273\n",
      "274\n",
      "275\n",
      "276\n",
      "277\n",
      "278\n",
      "279\n",
      "280\n",
      "281\n",
      "282\n",
      "283\n",
      "284\n",
      "285\n",
      "286\n",
      "287\n",
      "288\n",
      "289\n",
      "290\n",
      "291\n",
      "292\n",
      "293\n",
      "294\n",
      "295\n",
      "296\n",
      "297\n",
      "298\n",
      "299\n",
      "300\n",
      "301\n",
      "302\n",
      "303\n",
      "304\n",
      "305\n",
      "306\n",
      "307\n",
      "308\n",
      "309\n",
      "310\n",
      "311\n",
      "312\n",
      "313\n",
      "314\n",
      "315\n"
     ]
    }
   ],
   "source": [
    "popularity_df = pd.DataFrame()\n",
    "i = 0\n",
    "for id_google in spatial_features['id_google'].unique():\n",
    "    print(i)\n",
    "    i=i+1\n",
    "    _df = getPopularity(id_google=id_google)\n",
    "    if _df is None:\n",
    "        continue\n",
    "    else:\n",
    "        popularity_df = pd.concat([popularity_df, _df])"
   ]
  },
  {
   "cell_type": "code",
   "execution_count": 141,
   "id": "82bf15c3",
   "metadata": {},
   "outputs": [
    {
     "data": {
      "text/html": [
       "<div>\n",
       "<style scoped>\n",
       "    .dataframe tbody tr th:only-of-type {\n",
       "        vertical-align: middle;\n",
       "    }\n",
       "\n",
       "    .dataframe tbody tr th {\n",
       "        vertical-align: top;\n",
       "    }\n",
       "\n",
       "    .dataframe thead th {\n",
       "        text-align: right;\n",
       "    }\n",
       "</style>\n",
       "<table border=\"1\" class=\"dataframe\">\n",
       "  <thead>\n",
       "    <tr style=\"text-align: right;\">\n",
       "      <th></th>\n",
       "      <th>Monday_1</th>\n",
       "      <th>Monday_2</th>\n",
       "      <th>Monday_3</th>\n",
       "      <th>Monday_4</th>\n",
       "      <th>Monday_5</th>\n",
       "      <th>Monday_6</th>\n",
       "      <th>Monday_7</th>\n",
       "      <th>Monday_8</th>\n",
       "      <th>Monday_9</th>\n",
       "      <th>Monday_10</th>\n",
       "      <th>...</th>\n",
       "      <th>Sunday_16</th>\n",
       "      <th>Sunday_17</th>\n",
       "      <th>Sunday_18</th>\n",
       "      <th>Sunday_19</th>\n",
       "      <th>Sunday_20</th>\n",
       "      <th>Sunday_21</th>\n",
       "      <th>Sunday_22</th>\n",
       "      <th>Sunday_23</th>\n",
       "      <th>Sunday_24</th>\n",
       "      <th>id_google</th>\n",
       "    </tr>\n",
       "  </thead>\n",
       "  <tbody>\n",
       "    <tr>\n",
       "      <th>0</th>\n",
       "      <td>1</td>\n",
       "      <td>0</td>\n",
       "      <td>0</td>\n",
       "      <td>0</td>\n",
       "      <td>1</td>\n",
       "      <td>9</td>\n",
       "      <td>30</td>\n",
       "      <td>55</td>\n",
       "      <td>60</td>\n",
       "      <td>42</td>\n",
       "      <td>...</td>\n",
       "      <td>16</td>\n",
       "      <td>19</td>\n",
       "      <td>22</td>\n",
       "      <td>23</td>\n",
       "      <td>19</td>\n",
       "      <td>15</td>\n",
       "      <td>11</td>\n",
       "      <td>8</td>\n",
       "      <td>4</td>\n",
       "      <td>ChIJORy6nXuwj4ARz3b1NVL1Hw4</td>\n",
       "    </tr>\n",
       "    <tr>\n",
       "      <th>0</th>\n",
       "      <td>0</td>\n",
       "      <td>0</td>\n",
       "      <td>0</td>\n",
       "      <td>0</td>\n",
       "      <td>0</td>\n",
       "      <td>0</td>\n",
       "      <td>0</td>\n",
       "      <td>0</td>\n",
       "      <td>0</td>\n",
       "      <td>0</td>\n",
       "      <td>...</td>\n",
       "      <td>94</td>\n",
       "      <td>84</td>\n",
       "      <td>67</td>\n",
       "      <td>0</td>\n",
       "      <td>0</td>\n",
       "      <td>0</td>\n",
       "      <td>0</td>\n",
       "      <td>0</td>\n",
       "      <td>0</td>\n",
       "      <td>ChIJOXaCcTS7j4AR1Hjo8LCVWAc</td>\n",
       "    </tr>\n",
       "    <tr>\n",
       "      <th>0</th>\n",
       "      <td>0</td>\n",
       "      <td>0</td>\n",
       "      <td>0</td>\n",
       "      <td>0</td>\n",
       "      <td>0</td>\n",
       "      <td>0</td>\n",
       "      <td>0</td>\n",
       "      <td>0</td>\n",
       "      <td>0</td>\n",
       "      <td>0</td>\n",
       "      <td>...</td>\n",
       "      <td>0</td>\n",
       "      <td>0</td>\n",
       "      <td>29</td>\n",
       "      <td>42</td>\n",
       "      <td>52</td>\n",
       "      <td>48</td>\n",
       "      <td>0</td>\n",
       "      <td>0</td>\n",
       "      <td>0</td>\n",
       "      <td>ChIJwWcdxzi7j4ARSPpV37nhr58</td>\n",
       "    </tr>\n",
       "    <tr>\n",
       "      <th>0</th>\n",
       "      <td>0</td>\n",
       "      <td>0</td>\n",
       "      <td>0</td>\n",
       "      <td>0</td>\n",
       "      <td>0</td>\n",
       "      <td>0</td>\n",
       "      <td>0</td>\n",
       "      <td>0</td>\n",
       "      <td>0</td>\n",
       "      <td>0</td>\n",
       "      <td>...</td>\n",
       "      <td>28</td>\n",
       "      <td>34</td>\n",
       "      <td>37</td>\n",
       "      <td>37</td>\n",
       "      <td>33</td>\n",
       "      <td>26</td>\n",
       "      <td>0</td>\n",
       "      <td>0</td>\n",
       "      <td>0</td>\n",
       "      <td>ChIJpf2l3zi7j4ARq9jTYIKdfb0</td>\n",
       "    </tr>\n",
       "    <tr>\n",
       "      <th>0</th>\n",
       "      <td>0</td>\n",
       "      <td>0</td>\n",
       "      <td>0</td>\n",
       "      <td>0</td>\n",
       "      <td>0</td>\n",
       "      <td>0</td>\n",
       "      <td>0</td>\n",
       "      <td>0</td>\n",
       "      <td>0</td>\n",
       "      <td>0</td>\n",
       "      <td>...</td>\n",
       "      <td>46</td>\n",
       "      <td>43</td>\n",
       "      <td>48</td>\n",
       "      <td>54</td>\n",
       "      <td>51</td>\n",
       "      <td>0</td>\n",
       "      <td>0</td>\n",
       "      <td>0</td>\n",
       "      <td>0</td>\n",
       "      <td>ChIJdwmtjjm7j4ARuuLA95wq7wQ</td>\n",
       "    </tr>\n",
       "  </tbody>\n",
       "</table>\n",
       "<p>5 rows × 169 columns</p>\n",
       "</div>"
      ],
      "text/plain": [
       "   Monday_1  Monday_2  Monday_3  Monday_4  Monday_5  Monday_6  Monday_7  \\\n",
       "0         1         0         0         0         1         9        30   \n",
       "0         0         0         0         0         0         0         0   \n",
       "0         0         0         0         0         0         0         0   \n",
       "0         0         0         0         0         0         0         0   \n",
       "0         0         0         0         0         0         0         0   \n",
       "\n",
       "   Monday_8  Monday_9  Monday_10  ...  Sunday_16  Sunday_17  Sunday_18  \\\n",
       "0        55        60         42  ...         16         19         22   \n",
       "0         0         0          0  ...         94         84         67   \n",
       "0         0         0          0  ...          0          0         29   \n",
       "0         0         0          0  ...         28         34         37   \n",
       "0         0         0          0  ...         46         43         48   \n",
       "\n",
       "   Sunday_19  Sunday_20  Sunday_21  Sunday_22  Sunday_23  Sunday_24  \\\n",
       "0         23         19         15         11          8          4   \n",
       "0          0          0          0          0          0          0   \n",
       "0         42         52         48          0          0          0   \n",
       "0         37         33         26          0          0          0   \n",
       "0         54         51          0          0          0          0   \n",
       "\n",
       "                     id_google  \n",
       "0  ChIJORy6nXuwj4ARz3b1NVL1Hw4  \n",
       "0  ChIJOXaCcTS7j4AR1Hjo8LCVWAc  \n",
       "0  ChIJwWcdxzi7j4ARSPpV37nhr58  \n",
       "0  ChIJpf2l3zi7j4ARq9jTYIKdfb0  \n",
       "0  ChIJdwmtjjm7j4ARuuLA95wq7wQ  \n",
       "\n",
       "[5 rows x 169 columns]"
      ]
     },
     "execution_count": 141,
     "metadata": {},
     "output_type": "execute_result"
    }
   ],
   "source": [
    "popularity_df.head()"
   ]
  },
  {
   "cell_type": "markdown",
   "id": "8d03d553",
   "metadata": {},
   "source": [
    "## 4. Merge with initial dataset"
   ]
  },
  {
   "cell_type": "code",
   "execution_count": 144,
   "id": "67f68144",
   "metadata": {},
   "outputs": [],
   "source": [
    "merged_buildings = popularity_df.merge(spatial_features, on='id_google', how='left')"
   ]
  },
  {
   "cell_type": "code",
   "execution_count": 145,
   "id": "92fcfbf1",
   "metadata": {},
   "outputs": [
    {
     "data": {
      "text/html": [
       "<div>\n",
       "<style scoped>\n",
       "    .dataframe tbody tr th:only-of-type {\n",
       "        vertical-align: middle;\n",
       "    }\n",
       "\n",
       "    .dataframe tbody tr th {\n",
       "        vertical-align: top;\n",
       "    }\n",
       "\n",
       "    .dataframe thead th {\n",
       "        text-align: right;\n",
       "    }\n",
       "</style>\n",
       "<table border=\"1\" class=\"dataframe\">\n",
       "  <thead>\n",
       "    <tr style=\"text-align: right;\">\n",
       "      <th></th>\n",
       "      <th>Monday_1</th>\n",
       "      <th>Monday_2</th>\n",
       "      <th>Monday_3</th>\n",
       "      <th>Monday_4</th>\n",
       "      <th>Monday_5</th>\n",
       "      <th>Monday_6</th>\n",
       "      <th>Monday_7</th>\n",
       "      <th>Monday_8</th>\n",
       "      <th>Monday_9</th>\n",
       "      <th>Monday_10</th>\n",
       "      <th>...</th>\n",
       "      <th>Sunday_22</th>\n",
       "      <th>Sunday_23</th>\n",
       "      <th>Sunday_24</th>\n",
       "      <th>id_google</th>\n",
       "      <th>category</th>\n",
       "      <th>latitude_bld</th>\n",
       "      <th>longitude_bld</th>\n",
       "      <th>latitude</th>\n",
       "      <th>longitude</th>\n",
       "      <th>distance</th>\n",
       "    </tr>\n",
       "  </thead>\n",
       "  <tbody>\n",
       "    <tr>\n",
       "      <th>0</th>\n",
       "      <td>1</td>\n",
       "      <td>0</td>\n",
       "      <td>0</td>\n",
       "      <td>0</td>\n",
       "      <td>1</td>\n",
       "      <td>9</td>\n",
       "      <td>30</td>\n",
       "      <td>55</td>\n",
       "      <td>60</td>\n",
       "      <td>42</td>\n",
       "      <td>...</td>\n",
       "      <td>11</td>\n",
       "      <td>8</td>\n",
       "      <td>4</td>\n",
       "      <td>ChIJORy6nXuwj4ARz3b1NVL1Hw4</td>\n",
       "      <td>locality</td>\n",
       "      <td>37.441883</td>\n",
       "      <td>-122.143019</td>\n",
       "      <td>37.443</td>\n",
       "      <td>-122.163</td>\n",
       "      <td>1772.477477</td>\n",
       "    </tr>\n",
       "    <tr>\n",
       "      <th>1</th>\n",
       "      <td>1</td>\n",
       "      <td>0</td>\n",
       "      <td>0</td>\n",
       "      <td>0</td>\n",
       "      <td>1</td>\n",
       "      <td>9</td>\n",
       "      <td>30</td>\n",
       "      <td>55</td>\n",
       "      <td>60</td>\n",
       "      <td>42</td>\n",
       "      <td>...</td>\n",
       "      <td>11</td>\n",
       "      <td>8</td>\n",
       "      <td>4</td>\n",
       "      <td>ChIJORy6nXuwj4ARz3b1NVL1Hw4</td>\n",
       "      <td>locality</td>\n",
       "      <td>37.441883</td>\n",
       "      <td>-122.143019</td>\n",
       "      <td>37.444</td>\n",
       "      <td>-122.163</td>\n",
       "      <td>1783.665043</td>\n",
       "    </tr>\n",
       "    <tr>\n",
       "      <th>2</th>\n",
       "      <td>1</td>\n",
       "      <td>0</td>\n",
       "      <td>0</td>\n",
       "      <td>0</td>\n",
       "      <td>1</td>\n",
       "      <td>9</td>\n",
       "      <td>30</td>\n",
       "      <td>55</td>\n",
       "      <td>60</td>\n",
       "      <td>42</td>\n",
       "      <td>...</td>\n",
       "      <td>11</td>\n",
       "      <td>8</td>\n",
       "      <td>4</td>\n",
       "      <td>ChIJORy6nXuwj4ARz3b1NVL1Hw4</td>\n",
       "      <td>locality</td>\n",
       "      <td>37.441883</td>\n",
       "      <td>-122.143019</td>\n",
       "      <td>37.446</td>\n",
       "      <td>-122.162</td>\n",
       "      <td>1740.644646</td>\n",
       "    </tr>\n",
       "    <tr>\n",
       "      <th>3</th>\n",
       "      <td>1</td>\n",
       "      <td>0</td>\n",
       "      <td>0</td>\n",
       "      <td>0</td>\n",
       "      <td>1</td>\n",
       "      <td>9</td>\n",
       "      <td>30</td>\n",
       "      <td>55</td>\n",
       "      <td>60</td>\n",
       "      <td>42</td>\n",
       "      <td>...</td>\n",
       "      <td>11</td>\n",
       "      <td>8</td>\n",
       "      <td>4</td>\n",
       "      <td>ChIJORy6nXuwj4ARz3b1NVL1Hw4</td>\n",
       "      <td>locality</td>\n",
       "      <td>37.441883</td>\n",
       "      <td>-122.143019</td>\n",
       "      <td>37.447</td>\n",
       "      <td>-122.162</td>\n",
       "      <td>1773.003050</td>\n",
       "    </tr>\n",
       "    <tr>\n",
       "      <th>4</th>\n",
       "      <td>1</td>\n",
       "      <td>0</td>\n",
       "      <td>0</td>\n",
       "      <td>0</td>\n",
       "      <td>1</td>\n",
       "      <td>9</td>\n",
       "      <td>30</td>\n",
       "      <td>55</td>\n",
       "      <td>60</td>\n",
       "      <td>42</td>\n",
       "      <td>...</td>\n",
       "      <td>11</td>\n",
       "      <td>8</td>\n",
       "      <td>4</td>\n",
       "      <td>ChIJORy6nXuwj4ARz3b1NVL1Hw4</td>\n",
       "      <td>locality</td>\n",
       "      <td>37.441883</td>\n",
       "      <td>-122.143019</td>\n",
       "      <td>37.444</td>\n",
       "      <td>-122.160</td>\n",
       "      <td>1520.901437</td>\n",
       "    </tr>\n",
       "    <tr>\n",
       "      <th>...</th>\n",
       "      <td>...</td>\n",
       "      <td>...</td>\n",
       "      <td>...</td>\n",
       "      <td>...</td>\n",
       "      <td>...</td>\n",
       "      <td>...</td>\n",
       "      <td>...</td>\n",
       "      <td>...</td>\n",
       "      <td>...</td>\n",
       "      <td>...</td>\n",
       "      <td>...</td>\n",
       "      <td>...</td>\n",
       "      <td>...</td>\n",
       "      <td>...</td>\n",
       "      <td>...</td>\n",
       "      <td>...</td>\n",
       "      <td>...</td>\n",
       "      <td>...</td>\n",
       "      <td>...</td>\n",
       "      <td>...</td>\n",
       "      <td>...</td>\n",
       "    </tr>\n",
       "    <tr>\n",
       "      <th>312</th>\n",
       "      <td>0</td>\n",
       "      <td>0</td>\n",
       "      <td>0</td>\n",
       "      <td>0</td>\n",
       "      <td>0</td>\n",
       "      <td>0</td>\n",
       "      <td>0</td>\n",
       "      <td>0</td>\n",
       "      <td>9</td>\n",
       "      <td>27</td>\n",
       "      <td>...</td>\n",
       "      <td>0</td>\n",
       "      <td>0</td>\n",
       "      <td>0</td>\n",
       "      <td>ChIJs2q9C226j4ARohCdKz3cBH8</td>\n",
       "      <td>meal_takeaway</td>\n",
       "      <td>37.418736</td>\n",
       "      <td>-122.109067</td>\n",
       "      <td>37.422</td>\n",
       "      <td>-122.112</td>\n",
       "      <td>445.688756</td>\n",
       "    </tr>\n",
       "    <tr>\n",
       "      <th>313</th>\n",
       "      <td>0</td>\n",
       "      <td>0</td>\n",
       "      <td>0</td>\n",
       "      <td>0</td>\n",
       "      <td>0</td>\n",
       "      <td>0</td>\n",
       "      <td>0</td>\n",
       "      <td>0</td>\n",
       "      <td>52</td>\n",
       "      <td>61</td>\n",
       "      <td>...</td>\n",
       "      <td>0</td>\n",
       "      <td>0</td>\n",
       "      <td>0</td>\n",
       "      <td>ChIJL6KAkXK6j4ARywJAtaxPmt4</td>\n",
       "      <td>school</td>\n",
       "      <td>37.417618</td>\n",
       "      <td>-122.10935</td>\n",
       "      <td>37.422</td>\n",
       "      <td>-122.114</td>\n",
       "      <td>637.105602</td>\n",
       "    </tr>\n",
       "    <tr>\n",
       "      <th>314</th>\n",
       "      <td>0</td>\n",
       "      <td>0</td>\n",
       "      <td>0</td>\n",
       "      <td>0</td>\n",
       "      <td>0</td>\n",
       "      <td>0</td>\n",
       "      <td>0</td>\n",
       "      <td>0</td>\n",
       "      <td>52</td>\n",
       "      <td>61</td>\n",
       "      <td>...</td>\n",
       "      <td>0</td>\n",
       "      <td>0</td>\n",
       "      <td>0</td>\n",
       "      <td>ChIJL6KAkXK6j4ARywJAtaxPmt4</td>\n",
       "      <td>school</td>\n",
       "      <td>37.417618</td>\n",
       "      <td>-122.10935</td>\n",
       "      <td>37.422</td>\n",
       "      <td>-122.113</td>\n",
       "      <td>583.843193</td>\n",
       "    </tr>\n",
       "    <tr>\n",
       "      <th>315</th>\n",
       "      <td>0</td>\n",
       "      <td>0</td>\n",
       "      <td>0</td>\n",
       "      <td>0</td>\n",
       "      <td>0</td>\n",
       "      <td>0</td>\n",
       "      <td>0</td>\n",
       "      <td>0</td>\n",
       "      <td>0</td>\n",
       "      <td>0</td>\n",
       "      <td>...</td>\n",
       "      <td>0</td>\n",
       "      <td>0</td>\n",
       "      <td>0</td>\n",
       "      <td>ChIJBVNwaxK6j4ARUPhWmCDHXYk</td>\n",
       "      <td>restaurant</td>\n",
       "      <td>37.42035</td>\n",
       "      <td>-122.102235</td>\n",
       "      <td>37.422</td>\n",
       "      <td>-122.113</td>\n",
       "      <td>970.377547</td>\n",
       "    </tr>\n",
       "    <tr>\n",
       "      <th>316</th>\n",
       "      <td>0</td>\n",
       "      <td>0</td>\n",
       "      <td>0</td>\n",
       "      <td>0</td>\n",
       "      <td>0</td>\n",
       "      <td>0</td>\n",
       "      <td>0</td>\n",
       "      <td>0</td>\n",
       "      <td>0</td>\n",
       "      <td>0</td>\n",
       "      <td>...</td>\n",
       "      <td>0</td>\n",
       "      <td>0</td>\n",
       "      <td>0</td>\n",
       "      <td>ChIJBVNwaxK6j4ARUPhWmCDHXYk</td>\n",
       "      <td>restaurant</td>\n",
       "      <td>37.42035</td>\n",
       "      <td>-122.102235</td>\n",
       "      <td>37.422</td>\n",
       "      <td>-122.112</td>\n",
       "      <td>883.608325</td>\n",
       "    </tr>\n",
       "  </tbody>\n",
       "</table>\n",
       "<p>317 rows × 175 columns</p>\n",
       "</div>"
      ],
      "text/plain": [
       "     Monday_1  Monday_2  Monday_3  Monday_4  Monday_5  Monday_6  Monday_7  \\\n",
       "0           1         0         0         0         1         9        30   \n",
       "1           1         0         0         0         1         9        30   \n",
       "2           1         0         0         0         1         9        30   \n",
       "3           1         0         0         0         1         9        30   \n",
       "4           1         0         0         0         1         9        30   \n",
       "..        ...       ...       ...       ...       ...       ...       ...   \n",
       "312         0         0         0         0         0         0         0   \n",
       "313         0         0         0         0         0         0         0   \n",
       "314         0         0         0         0         0         0         0   \n",
       "315         0         0         0         0         0         0         0   \n",
       "316         0         0         0         0         0         0         0   \n",
       "\n",
       "     Monday_8  Monday_9  Monday_10  ...  Sunday_22  Sunday_23  Sunday_24  \\\n",
       "0          55        60         42  ...         11          8          4   \n",
       "1          55        60         42  ...         11          8          4   \n",
       "2          55        60         42  ...         11          8          4   \n",
       "3          55        60         42  ...         11          8          4   \n",
       "4          55        60         42  ...         11          8          4   \n",
       "..        ...       ...        ...  ...        ...        ...        ...   \n",
       "312         0         9         27  ...          0          0          0   \n",
       "313         0        52         61  ...          0          0          0   \n",
       "314         0        52         61  ...          0          0          0   \n",
       "315         0         0          0  ...          0          0          0   \n",
       "316         0         0          0  ...          0          0          0   \n",
       "\n",
       "                       id_google       category  latitude_bld  longitude_bld  \\\n",
       "0    ChIJORy6nXuwj4ARz3b1NVL1Hw4       locality     37.441883    -122.143019   \n",
       "1    ChIJORy6nXuwj4ARz3b1NVL1Hw4       locality     37.441883    -122.143019   \n",
       "2    ChIJORy6nXuwj4ARz3b1NVL1Hw4       locality     37.441883    -122.143019   \n",
       "3    ChIJORy6nXuwj4ARz3b1NVL1Hw4       locality     37.441883    -122.143019   \n",
       "4    ChIJORy6nXuwj4ARz3b1NVL1Hw4       locality     37.441883    -122.143019   \n",
       "..                           ...            ...           ...            ...   \n",
       "312  ChIJs2q9C226j4ARohCdKz3cBH8  meal_takeaway     37.418736    -122.109067   \n",
       "313  ChIJL6KAkXK6j4ARywJAtaxPmt4         school     37.417618     -122.10935   \n",
       "314  ChIJL6KAkXK6j4ARywJAtaxPmt4         school     37.417618     -122.10935   \n",
       "315  ChIJBVNwaxK6j4ARUPhWmCDHXYk     restaurant      37.42035    -122.102235   \n",
       "316  ChIJBVNwaxK6j4ARUPhWmCDHXYk     restaurant      37.42035    -122.102235   \n",
       "\n",
       "     latitude  longitude     distance  \n",
       "0      37.443   -122.163  1772.477477  \n",
       "1      37.444   -122.163  1783.665043  \n",
       "2      37.446   -122.162  1740.644646  \n",
       "3      37.447   -122.162  1773.003050  \n",
       "4      37.444   -122.160  1520.901437  \n",
       "..        ...        ...          ...  \n",
       "312    37.422   -122.112   445.688756  \n",
       "313    37.422   -122.114   637.105602  \n",
       "314    37.422   -122.113   583.843193  \n",
       "315    37.422   -122.113   970.377547  \n",
       "316    37.422   -122.112   883.608325  \n",
       "\n",
       "[317 rows x 175 columns]"
      ]
     },
     "execution_count": 145,
     "metadata": {},
     "output_type": "execute_result"
    }
   ],
   "source": [
    "merged_buildings"
   ]
  },
  {
   "cell_type": "code",
   "execution_count": 163,
   "id": "b890020d",
   "metadata": {},
   "outputs": [],
   "source": [
    "\n",
    "gdf.loc[:, 'Latitude_src'] = gdf.loc[:, 'Latitude']\n",
    "gdf.loc[:, 'Longitude_src'] = gdf.loc[:, 'Longitude']\n",
    "gdf.loc[:, 'latitude'] = gdf.loc[:, 'Latitude'].round(3)\n",
    "gdf.loc[:, 'longitude'] = gdf.loc[:, 'Longitude'].round(3)\n",
    "\n",
    "final = gdf.merge(merged_buildings, on=['longitude', 'latitude'], how='left')"
   ]
  },
  {
   "cell_type": "code",
   "execution_count": 176,
   "id": "5437abf5",
   "metadata": {},
   "outputs": [
    {
     "data": {
      "text/html": [
       "<div>\n",
       "<style scoped>\n",
       "    .dataframe tbody tr th:only-of-type {\n",
       "        vertical-align: middle;\n",
       "    }\n",
       "\n",
       "    .dataframe tbody tr th {\n",
       "        vertical-align: top;\n",
       "    }\n",
       "\n",
       "    .dataframe thead th {\n",
       "        text-align: right;\n",
       "    }\n",
       "</style>\n",
       "<table border=\"1\" class=\"dataframe\">\n",
       "  <thead>\n",
       "    <tr style=\"text-align: right;\">\n",
       "      <th></th>\n",
       "      <th>Monday_1</th>\n",
       "      <th>Monday_2</th>\n",
       "      <th>Monday_3</th>\n",
       "      <th>Monday_4</th>\n",
       "      <th>Monday_5</th>\n",
       "      <th>Monday_6</th>\n",
       "      <th>Monday_7</th>\n",
       "      <th>Monday_8</th>\n",
       "      <th>Monday_9</th>\n",
       "      <th>Monday_10</th>\n",
       "      <th>...</th>\n",
       "      <th>Sunday_22</th>\n",
       "      <th>Sunday_23</th>\n",
       "      <th>Sunday_24</th>\n",
       "      <th>id_google</th>\n",
       "      <th>category</th>\n",
       "      <th>latitude_bld</th>\n",
       "      <th>longitude_bld</th>\n",
       "      <th>latitude</th>\n",
       "      <th>longitude</th>\n",
       "      <th>distance</th>\n",
       "    </tr>\n",
       "  </thead>\n",
       "  <tbody>\n",
       "    <tr>\n",
       "      <th>0</th>\n",
       "      <td>1</td>\n",
       "      <td>0</td>\n",
       "      <td>0</td>\n",
       "      <td>0</td>\n",
       "      <td>1</td>\n",
       "      <td>9</td>\n",
       "      <td>30</td>\n",
       "      <td>55</td>\n",
       "      <td>60</td>\n",
       "      <td>42</td>\n",
       "      <td>...</td>\n",
       "      <td>11</td>\n",
       "      <td>8</td>\n",
       "      <td>4</td>\n",
       "      <td>ChIJORy6nXuwj4ARz3b1NVL1Hw4</td>\n",
       "      <td>locality</td>\n",
       "      <td>37.441883</td>\n",
       "      <td>-122.143019</td>\n",
       "      <td>37.443</td>\n",
       "      <td>-122.163</td>\n",
       "      <td>1772.477477</td>\n",
       "    </tr>\n",
       "    <tr>\n",
       "      <th>1</th>\n",
       "      <td>1</td>\n",
       "      <td>0</td>\n",
       "      <td>0</td>\n",
       "      <td>0</td>\n",
       "      <td>1</td>\n",
       "      <td>9</td>\n",
       "      <td>30</td>\n",
       "      <td>55</td>\n",
       "      <td>60</td>\n",
       "      <td>42</td>\n",
       "      <td>...</td>\n",
       "      <td>11</td>\n",
       "      <td>8</td>\n",
       "      <td>4</td>\n",
       "      <td>ChIJORy6nXuwj4ARz3b1NVL1Hw4</td>\n",
       "      <td>locality</td>\n",
       "      <td>37.441883</td>\n",
       "      <td>-122.143019</td>\n",
       "      <td>37.444</td>\n",
       "      <td>-122.163</td>\n",
       "      <td>1783.665043</td>\n",
       "    </tr>\n",
       "    <tr>\n",
       "      <th>2</th>\n",
       "      <td>1</td>\n",
       "      <td>0</td>\n",
       "      <td>0</td>\n",
       "      <td>0</td>\n",
       "      <td>1</td>\n",
       "      <td>9</td>\n",
       "      <td>30</td>\n",
       "      <td>55</td>\n",
       "      <td>60</td>\n",
       "      <td>42</td>\n",
       "      <td>...</td>\n",
       "      <td>11</td>\n",
       "      <td>8</td>\n",
       "      <td>4</td>\n",
       "      <td>ChIJORy6nXuwj4ARz3b1NVL1Hw4</td>\n",
       "      <td>locality</td>\n",
       "      <td>37.441883</td>\n",
       "      <td>-122.143019</td>\n",
       "      <td>37.446</td>\n",
       "      <td>-122.162</td>\n",
       "      <td>1740.644646</td>\n",
       "    </tr>\n",
       "    <tr>\n",
       "      <th>3</th>\n",
       "      <td>1</td>\n",
       "      <td>0</td>\n",
       "      <td>0</td>\n",
       "      <td>0</td>\n",
       "      <td>1</td>\n",
       "      <td>9</td>\n",
       "      <td>30</td>\n",
       "      <td>55</td>\n",
       "      <td>60</td>\n",
       "      <td>42</td>\n",
       "      <td>...</td>\n",
       "      <td>11</td>\n",
       "      <td>8</td>\n",
       "      <td>4</td>\n",
       "      <td>ChIJORy6nXuwj4ARz3b1NVL1Hw4</td>\n",
       "      <td>locality</td>\n",
       "      <td>37.441883</td>\n",
       "      <td>-122.143019</td>\n",
       "      <td>37.447</td>\n",
       "      <td>-122.162</td>\n",
       "      <td>1773.003050</td>\n",
       "    </tr>\n",
       "    <tr>\n",
       "      <th>4</th>\n",
       "      <td>1</td>\n",
       "      <td>0</td>\n",
       "      <td>0</td>\n",
       "      <td>0</td>\n",
       "      <td>1</td>\n",
       "      <td>9</td>\n",
       "      <td>30</td>\n",
       "      <td>55</td>\n",
       "      <td>60</td>\n",
       "      <td>42</td>\n",
       "      <td>...</td>\n",
       "      <td>11</td>\n",
       "      <td>8</td>\n",
       "      <td>4</td>\n",
       "      <td>ChIJORy6nXuwj4ARz3b1NVL1Hw4</td>\n",
       "      <td>locality</td>\n",
       "      <td>37.441883</td>\n",
       "      <td>-122.143019</td>\n",
       "      <td>37.444</td>\n",
       "      <td>-122.160</td>\n",
       "      <td>1520.901437</td>\n",
       "    </tr>\n",
       "    <tr>\n",
       "      <th>...</th>\n",
       "      <td>...</td>\n",
       "      <td>...</td>\n",
       "      <td>...</td>\n",
       "      <td>...</td>\n",
       "      <td>...</td>\n",
       "      <td>...</td>\n",
       "      <td>...</td>\n",
       "      <td>...</td>\n",
       "      <td>...</td>\n",
       "      <td>...</td>\n",
       "      <td>...</td>\n",
       "      <td>...</td>\n",
       "      <td>...</td>\n",
       "      <td>...</td>\n",
       "      <td>...</td>\n",
       "      <td>...</td>\n",
       "      <td>...</td>\n",
       "      <td>...</td>\n",
       "      <td>...</td>\n",
       "      <td>...</td>\n",
       "      <td>...</td>\n",
       "    </tr>\n",
       "    <tr>\n",
       "      <th>312</th>\n",
       "      <td>0</td>\n",
       "      <td>0</td>\n",
       "      <td>0</td>\n",
       "      <td>0</td>\n",
       "      <td>0</td>\n",
       "      <td>0</td>\n",
       "      <td>0</td>\n",
       "      <td>0</td>\n",
       "      <td>9</td>\n",
       "      <td>27</td>\n",
       "      <td>...</td>\n",
       "      <td>0</td>\n",
       "      <td>0</td>\n",
       "      <td>0</td>\n",
       "      <td>ChIJs2q9C226j4ARohCdKz3cBH8</td>\n",
       "      <td>meal_takeaway</td>\n",
       "      <td>37.418736</td>\n",
       "      <td>-122.109067</td>\n",
       "      <td>37.422</td>\n",
       "      <td>-122.112</td>\n",
       "      <td>445.688756</td>\n",
       "    </tr>\n",
       "    <tr>\n",
       "      <th>313</th>\n",
       "      <td>0</td>\n",
       "      <td>0</td>\n",
       "      <td>0</td>\n",
       "      <td>0</td>\n",
       "      <td>0</td>\n",
       "      <td>0</td>\n",
       "      <td>0</td>\n",
       "      <td>0</td>\n",
       "      <td>52</td>\n",
       "      <td>61</td>\n",
       "      <td>...</td>\n",
       "      <td>0</td>\n",
       "      <td>0</td>\n",
       "      <td>0</td>\n",
       "      <td>ChIJL6KAkXK6j4ARywJAtaxPmt4</td>\n",
       "      <td>school</td>\n",
       "      <td>37.417618</td>\n",
       "      <td>-122.10935</td>\n",
       "      <td>37.422</td>\n",
       "      <td>-122.114</td>\n",
       "      <td>637.105602</td>\n",
       "    </tr>\n",
       "    <tr>\n",
       "      <th>314</th>\n",
       "      <td>0</td>\n",
       "      <td>0</td>\n",
       "      <td>0</td>\n",
       "      <td>0</td>\n",
       "      <td>0</td>\n",
       "      <td>0</td>\n",
       "      <td>0</td>\n",
       "      <td>0</td>\n",
       "      <td>52</td>\n",
       "      <td>61</td>\n",
       "      <td>...</td>\n",
       "      <td>0</td>\n",
       "      <td>0</td>\n",
       "      <td>0</td>\n",
       "      <td>ChIJL6KAkXK6j4ARywJAtaxPmt4</td>\n",
       "      <td>school</td>\n",
       "      <td>37.417618</td>\n",
       "      <td>-122.10935</td>\n",
       "      <td>37.422</td>\n",
       "      <td>-122.113</td>\n",
       "      <td>583.843193</td>\n",
       "    </tr>\n",
       "    <tr>\n",
       "      <th>315</th>\n",
       "      <td>0</td>\n",
       "      <td>0</td>\n",
       "      <td>0</td>\n",
       "      <td>0</td>\n",
       "      <td>0</td>\n",
       "      <td>0</td>\n",
       "      <td>0</td>\n",
       "      <td>0</td>\n",
       "      <td>0</td>\n",
       "      <td>0</td>\n",
       "      <td>...</td>\n",
       "      <td>0</td>\n",
       "      <td>0</td>\n",
       "      <td>0</td>\n",
       "      <td>ChIJBVNwaxK6j4ARUPhWmCDHXYk</td>\n",
       "      <td>restaurant</td>\n",
       "      <td>37.42035</td>\n",
       "      <td>-122.102235</td>\n",
       "      <td>37.422</td>\n",
       "      <td>-122.113</td>\n",
       "      <td>970.377547</td>\n",
       "    </tr>\n",
       "    <tr>\n",
       "      <th>316</th>\n",
       "      <td>0</td>\n",
       "      <td>0</td>\n",
       "      <td>0</td>\n",
       "      <td>0</td>\n",
       "      <td>0</td>\n",
       "      <td>0</td>\n",
       "      <td>0</td>\n",
       "      <td>0</td>\n",
       "      <td>0</td>\n",
       "      <td>0</td>\n",
       "      <td>...</td>\n",
       "      <td>0</td>\n",
       "      <td>0</td>\n",
       "      <td>0</td>\n",
       "      <td>ChIJBVNwaxK6j4ARUPhWmCDHXYk</td>\n",
       "      <td>restaurant</td>\n",
       "      <td>37.42035</td>\n",
       "      <td>-122.102235</td>\n",
       "      <td>37.422</td>\n",
       "      <td>-122.112</td>\n",
       "      <td>883.608325</td>\n",
       "    </tr>\n",
       "  </tbody>\n",
       "</table>\n",
       "<p>317 rows × 175 columns</p>\n",
       "</div>"
      ],
      "text/plain": [
       "     Monday_1  Monday_2  Monday_3  Monday_4  Monday_5  Monday_6  Monday_7  \\\n",
       "0           1         0         0         0         1         9        30   \n",
       "1           1         0         0         0         1         9        30   \n",
       "2           1         0         0         0         1         9        30   \n",
       "3           1         0         0         0         1         9        30   \n",
       "4           1         0         0         0         1         9        30   \n",
       "..        ...       ...       ...       ...       ...       ...       ...   \n",
       "312         0         0         0         0         0         0         0   \n",
       "313         0         0         0         0         0         0         0   \n",
       "314         0         0         0         0         0         0         0   \n",
       "315         0         0         0         0         0         0         0   \n",
       "316         0         0         0         0         0         0         0   \n",
       "\n",
       "     Monday_8  Monday_9  Monday_10  ...  Sunday_22  Sunday_23  Sunday_24  \\\n",
       "0          55        60         42  ...         11          8          4   \n",
       "1          55        60         42  ...         11          8          4   \n",
       "2          55        60         42  ...         11          8          4   \n",
       "3          55        60         42  ...         11          8          4   \n",
       "4          55        60         42  ...         11          8          4   \n",
       "..        ...       ...        ...  ...        ...        ...        ...   \n",
       "312         0         9         27  ...          0          0          0   \n",
       "313         0        52         61  ...          0          0          0   \n",
       "314         0        52         61  ...          0          0          0   \n",
       "315         0         0          0  ...          0          0          0   \n",
       "316         0         0          0  ...          0          0          0   \n",
       "\n",
       "                       id_google       category  latitude_bld  longitude_bld  \\\n",
       "0    ChIJORy6nXuwj4ARz3b1NVL1Hw4       locality     37.441883    -122.143019   \n",
       "1    ChIJORy6nXuwj4ARz3b1NVL1Hw4       locality     37.441883    -122.143019   \n",
       "2    ChIJORy6nXuwj4ARz3b1NVL1Hw4       locality     37.441883    -122.143019   \n",
       "3    ChIJORy6nXuwj4ARz3b1NVL1Hw4       locality     37.441883    -122.143019   \n",
       "4    ChIJORy6nXuwj4ARz3b1NVL1Hw4       locality     37.441883    -122.143019   \n",
       "..                           ...            ...           ...            ...   \n",
       "312  ChIJs2q9C226j4ARohCdKz3cBH8  meal_takeaway     37.418736    -122.109067   \n",
       "313  ChIJL6KAkXK6j4ARywJAtaxPmt4         school     37.417618     -122.10935   \n",
       "314  ChIJL6KAkXK6j4ARywJAtaxPmt4         school     37.417618     -122.10935   \n",
       "315  ChIJBVNwaxK6j4ARUPhWmCDHXYk     restaurant      37.42035    -122.102235   \n",
       "316  ChIJBVNwaxK6j4ARUPhWmCDHXYk     restaurant      37.42035    -122.102235   \n",
       "\n",
       "     latitude  longitude     distance  \n",
       "0      37.443   -122.163  1772.477477  \n",
       "1      37.444   -122.163  1783.665043  \n",
       "2      37.446   -122.162  1740.644646  \n",
       "3      37.447   -122.162  1773.003050  \n",
       "4      37.444   -122.160  1520.901437  \n",
       "..        ...        ...          ...  \n",
       "312    37.422   -122.112   445.688756  \n",
       "313    37.422   -122.114   637.105602  \n",
       "314    37.422   -122.113   583.843193  \n",
       "315    37.422   -122.113   970.377547  \n",
       "316    37.422   -122.112   883.608325  \n",
       "\n",
       "[317 rows x 175 columns]"
      ]
     },
     "execution_count": 176,
     "metadata": {},
     "output_type": "execute_result"
    }
   ],
   "source": [
    "merged_buildings"
   ]
  },
  {
   "cell_type": "code",
   "execution_count": 181,
   "id": "89a44a27",
   "metadata": {},
   "outputs": [],
   "source": [
    "gdf.loc[:, 'latitude'] = gdf.loc[:, 'Latitude'].round(3)\n",
    "gdf.loc[:, 'longitude'] = gdf.loc[:, 'Longitude'].round(3)"
   ]
  },
  {
   "cell_type": "code",
   "execution_count": 209,
   "id": "ea096100",
   "metadata": {},
   "outputs": [],
   "source": [
    "final = merged_buildings.merge(centroids[['longitude','latitude','cluster']],\n",
    "                               on=['longitude', 'latitude'])"
   ]
  },
  {
   "cell_type": "code",
   "execution_count": 199,
   "id": "a0b5f633",
   "metadata": {},
   "outputs": [],
   "source": [
    "centroids.loc[:, 'cluster'] = range(len(centroids))\n",
    "centroids.loc[:, 'cluster'] = centroids.loc[:, 'cluster'] + 1"
   ]
  },
  {
   "cell_type": "code",
   "execution_count": 206,
   "id": "bae34f54",
   "metadata": {},
   "outputs": [],
   "source": [
    "centroids.columns = ['longitude', 'latitude', 'Energy (kWh)', 'geometry', 'cluster']"
   ]
  },
  {
   "cell_type": "code",
   "execution_count": 211,
   "id": "40f845b2",
   "metadata": {},
   "outputs": [],
   "source": [
    "final.to_csv('../Datasets/spatial_populartimes.csv')"
   ]
  },
  {
   "cell_type": "code",
   "execution_count": 214,
   "id": "76755fe7",
   "metadata": {},
   "outputs": [],
   "source": [
    "df_cal_tech.loc[:, 'latitude'] = df_cal_tech.loc[:, 'Latitude'].round(3)\n",
    "df_cal_tech.loc[:, 'longitude'] = df_cal_tech.loc[:, 'Longitude'].round(3)\n",
    "\n",
    "df_cal_tech = df_cal_tech.merge(centroids[['longitude','latitude','cluster']], on=['longitude','latitude'])"
   ]
  },
  {
   "cell_type": "code",
   "execution_count": 216,
   "id": "af048563",
   "metadata": {},
   "outputs": [],
   "source": [
    "df_cal_tech.to_csv('../Datasets/ChargePoint Data CY20Q4 SPATAIL.csv')"
   ]
  },
  {
   "cell_type": "markdown",
   "id": "87727879",
   "metadata": {},
   "source": [
    "## End "
   ]
  },
  {
   "cell_type": "code",
   "execution_count": null,
   "id": "74754ed1",
   "metadata": {},
   "outputs": [],
   "source": []
  }
 ],
 "metadata": {
  "kernelspec": {
   "display_name": "Python 3 (ipykernel)",
   "language": "python",
   "name": "python3"
  },
  "language_info": {
   "codemirror_mode": {
    "name": "ipython",
    "version": 3
   },
   "file_extension": ".py",
   "mimetype": "text/x-python",
   "name": "python",
   "nbconvert_exporter": "python",
   "pygments_lexer": "ipython3",
   "version": "3.8.9"
  }
 },
 "nbformat": 4,
 "nbformat_minor": 5
}
