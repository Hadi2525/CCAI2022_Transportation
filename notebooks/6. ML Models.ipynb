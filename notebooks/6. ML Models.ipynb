{
 "cells": [
  {
   "cell_type": "markdown",
   "id": "d775273d",
   "metadata": {},
   "source": [
    "## Classic ML models"
   ]
  },
  {
   "cell_type": "code",
   "execution_count": 53,
   "id": "fa1a05b3",
   "metadata": {},
   "outputs": [],
   "source": [
    "import pandas as pd\n",
    "import os\n",
    "import numpy as np\n",
    "import scipy\n",
    "\n",
    "import seaborn as sns\n",
    "from tqdm import tqdm_notebook\n",
    "import matplotlib.pyplot as plt\n",
    "import tqdm"
   ]
  },
  {
   "cell_type": "code",
   "execution_count": 10,
   "id": "a3809193",
   "metadata": {},
   "outputs": [
    {
     "name": "stderr",
     "output_type": "stream",
     "text": [
      "/Users/mikhailgasanov/geo/lib/python3.8/site-packages/IPython/core/interactiveshell.py:3457: DtypeWarning: Columns (30) have mixed types.Specify dtype option on import or set low_memory=False.\n",
      "  exec(code_obj, self.user_global_ns, self.user_ns)\n"
     ]
    }
   ],
   "source": [
    "fname = \"../Datasets/ChargePoint Data CY20Q4 SPATAIL.csv\"\n",
    "df = pd.read_csv(fname, index_col=0)\n",
    "spatial_fname = \"../Datasets/spatial_populartimes.csv\"\n",
    "spatial_features = pd.read_csv(spatial_fname, index_col=0)\n"
   ]
  },
  {
   "cell_type": "markdown",
   "id": "2ae852c4",
   "metadata": {},
   "source": [
    "## 1. Select categories "
   ]
  },
  {
   "cell_type": "code",
   "execution_count": 249,
   "id": "9d0544c7",
   "metadata": {},
   "outputs": [],
   "source": [
    "target_categories = ['shopping_mall', 'restaurant', 'cafe',\n",
    "       'grocery_or_supermarket', 'bar',\n",
    "       'beauty_salon']\n",
    "spatial_features = spatial_features.loc[spatial_features['category'].isin(target_categories)]"
   ]
  },
  {
   "cell_type": "markdown",
   "id": "f2bf48d6",
   "metadata": {},
   "source": [
    "## 2. Prepare spatial features"
   ]
  },
  {
   "cell_type": "code",
   "execution_count": 308,
   "id": "89763f47",
   "metadata": {},
   "outputs": [],
   "source": [
    "def get_spatial_features(row: pd.Series):\n",
    "    target_categories = ['shopping_mall', 'restaurant', 'cafe',\n",
    "       'grocery_or_supermarket', 'bar',\n",
    "       'beauty_salon']\n",
    "    dictPopular = dict.fromkeys(target_categories, 0)\n",
    "    cluster = row['cluster']\n",
    "    select = spatial_features.loc[spatial_features['cluster']==cluster]\n",
    "    weekDays = (\"Monday\",\"Tuesday\",\"Wednesday\",\"Thursday\",\"Friday\",\"Saturday\",\"Sunday\")\n",
    "    dow = weekDays[row['Start Date'].dayofweek]\n",
    "    hour = row['Start Date'].hour + 1\n",
    "    res = select.groupby('category').mean().loc[: ,dow+'_'+str(hour)]\n",
    "    for cat in res.keys(): \n",
    "        dictPopular[cat] = res[cat]        \n",
    "    \n",
    "    return dictPopular"
   ]
  },
  {
   "cell_type": "code",
   "execution_count": 313,
   "id": "3c65de0d",
   "metadata": {},
   "outputs": [
    {
     "data": {
      "application/vnd.jupyter.widget-view+json": {
       "model_id": "a97583529fca4af297ad2acc6e25926c",
       "version_major": 2,
       "version_minor": 0
      },
      "text/plain": [
       "0it [00:00, ?it/s]"
      ]
     },
     "metadata": {},
     "output_type": "display_data"
    }
   ],
   "source": [
    "sp_list = []\n",
    "for row in tqdm.notebook.tqdm(df.iterrows()):\n",
    "    sp_list.append(get_spatial_features(row[1]))"
   ]
  },
  {
   "cell_type": "code",
   "execution_count": 317,
   "id": "44a8feae",
   "metadata": {},
   "outputs": [],
   "source": [
    "res_df = pd.concat([df, pd.DataFrame(sp_list)], axis=1)"
   ]
  },
  {
   "cell_type": "markdown",
   "id": "f8bffcad",
   "metadata": {},
   "source": [
    "## 3. Prepare weather features"
   ]
  },
  {
   "cell_type": "code",
   "execution_count": 319,
   "id": "e0510d07",
   "metadata": {},
   "outputs": [],
   "source": [
    "weather = pd.read_csv('../Datasets/weather_palalto.csv', index_col=0)"
   ]
  },
  {
   "cell_type": "code",
   "execution_count": 320,
   "id": "48783d3d",
   "metadata": {},
   "outputs": [],
   "source": [
    "cols = ['DAY', 'TEMP', 'RAIN']\n",
    "weather = weather[cols]\n",
    "weather.loc[:, 'Start Date'] = pd.to_datetime(weather['DAY'])"
   ]
  },
  {
   "cell_type": "code",
   "execution_count": 321,
   "id": "377085e9",
   "metadata": {},
   "outputs": [],
   "source": [
    "weather['DAY'] = pd.to_datetime(weather['DAY'])"
   ]
  },
  {
   "cell_type": "code",
   "execution_count": 323,
   "id": "e066de9d",
   "metadata": {},
   "outputs": [],
   "source": [
    "res_df.loc[:, 'DAY'] = res_df['Start Date'].dt.floor('D')"
   ]
  },
  {
   "cell_type": "code",
   "execution_count": 324,
   "id": "7d63c9f5",
   "metadata": {},
   "outputs": [],
   "source": [
    "df_weather = res_df.merge(weather, on = 'DAY')"
   ]
  },
  {
   "cell_type": "code",
   "execution_count": 327,
   "id": "19cce893",
   "metadata": {},
   "outputs": [],
   "source": [
    "df_weather = df_weather.drop(columns=['Start Date_y', 'DAY', 'Start'])"
   ]
  },
  {
   "cell_type": "code",
   "execution_count": 328,
   "id": "80755d3f",
   "metadata": {},
   "outputs": [],
   "source": [
    "df_weather.to_csv('../Datasets/PalAlto_Spatial_Weather.csv')"
   ]
  },
  {
   "cell_type": "markdown",
   "id": "47b20538",
   "metadata": {},
   "source": [
    "## End 🙏"
   ]
  },
  {
   "cell_type": "code",
   "execution_count": null,
   "id": "84134f9e",
   "metadata": {},
   "outputs": [],
   "source": []
  },
  {
   "cell_type": "code",
   "execution_count": null,
   "id": "5b6de453",
   "metadata": {},
   "outputs": [],
   "source": []
  },
  {
   "cell_type": "code",
   "execution_count": null,
   "id": "069b5e5e",
   "metadata": {},
   "outputs": [],
   "source": []
  },
  {
   "cell_type": "code",
   "execution_count": 11,
   "id": "3da9f30c",
   "metadata": {},
   "outputs": [],
   "source": [
    "cols = ['Station Name', 'Start Date',\n",
    "       'Start Time Zone', 'End Date', 'End Time Zone', 'Total Duration (hh:mm:ss)',\n",
    "       'Charging Time (hh:mm:ss)', 'Energy (kWh)',\n",
    "       'Latitude', 'Longitude', 'latitude', 'longitude', 'cluster']\n",
    "df = df[cols]"
   ]
  },
  {
   "cell_type": "code",
   "execution_count": 16,
   "id": "348ef1e6",
   "metadata": {},
   "outputs": [],
   "source": [
    "df.loc[:, 'Start Date'] = pd.to_datetime(df.loc[:, 'Start Date'], format='%m/%d/%Y %H:%M')\n",
    "df['Start'] = pd.to_datetime(df['Start Date'], format='%m/%d/%Y %H:%M')\n",
    "df['Start'] = df['Start'].dt.floor('D')\n",
    "\n",
    "df = df.set_index('Start Date')"
   ]
  },
  {
   "cell_type": "code",
   "execution_count": 44,
   "id": "bf3df4cf",
   "metadata": {},
   "outputs": [],
   "source": [
    "def getGrouped(df:pd.DataFrame)->pd.DataFrame:\n",
    "    \"\"\"\n",
    "    Group dataframe daily and hourly\n",
    "    \"\"\"\n",
    "    return df.groupby((df.index.dayofweek) * 24 + (df.index.hour)).sum()"
   ]
  },
  {
   "cell_type": "code",
   "execution_count": 153,
   "id": "b36f1e86",
   "metadata": {},
   "outputs": [],
   "source": [
    "CLUSTER = 4"
   ]
  },
  {
   "cell_type": "code",
   "execution_count": 154,
   "id": "4ae9e05c",
   "metadata": {},
   "outputs": [],
   "source": [
    "cluster_mask = df['cluster'] == CLUSTER\n",
    "cluster_df =  getGrouped(df.loc[cluster_mask])\n",
    "\n",
    "cluster_df = df.loc[cluster_mask]\n",
    "cluster_df = getGrouped(cluster_df)\n",
    "cluster_df = cluster_df.reindex(range(169)).fillna(0.)"
   ]
  },
  {
   "cell_type": "code",
   "execution_count": 155,
   "id": "96c431b9",
   "metadata": {},
   "outputs": [
    {
     "data": {
      "text/plain": [
       "Text(0, 0.5, 'Energy (kWh)')"
      ]
     },
     "execution_count": 155,
     "metadata": {},
     "output_type": "execute_result"
    },
    {
     "data": {
      "image/png": "[encoded data removed]",
      "text/plain": [
       "<Figure size 432x288 with 1 Axes>"
      ]
     },
     "metadata": {
      "needs_background": "light"
     },
     "output_type": "display_data"
    }
   ],
   "source": [
    "cluster_df['Energy (kWh)'].plot()\n",
    "plt.grid()\n",
    "plt.xlabel('Hour of week')\n",
    "plt.ylabel('Energy (kWh)')"
   ]
  },
  {
   "cell_type": "code",
   "execution_count": 156,
   "id": "a8bf7929",
   "metadata": {},
   "outputs": [],
   "source": [
    "mask_spatial = spatial_features['cluster']==CLUSTER\n",
    "spatial_df = spatial_features.loc[mask_spatial]\n",
    "\n",
    "grouped_T = spatial_df.groupby('category').mean().T.iloc[:-6,:]"
   ]
  },
  {
   "cell_type": "code",
   "execution_count": 195,
   "id": "c494ec00",
   "metadata": {},
   "outputs": [
    {
     "data": {
      "text/html": [
       "<div>\n",
       "<style scoped>\n",
       "    .dataframe tbody tr th:only-of-type {\n",
       "        vertical-align: middle;\n",
       "    }\n",
       "\n",
       "    .dataframe tbody tr th {\n",
       "        vertical-align: top;\n",
       "    }\n",
       "\n",
       "    .dataframe thead th {\n",
       "        text-align: right;\n",
       "    }\n",
       "</style>\n",
       "<table border=\"1\" class=\"dataframe\">\n",
       "  <thead>\n",
       "    <tr style=\"text-align: right;\">\n",
       "      <th>category</th>\n",
       "      <th>index</th>\n",
       "      <th>bar</th>\n",
       "      <th>cafe</th>\n",
       "      <th>clothing_store</th>\n",
       "      <th>electronics_store</th>\n",
       "      <th>locality</th>\n",
       "      <th>night_club</th>\n",
       "      <th>point_of_interest</th>\n",
       "      <th>restaurant</th>\n",
       "      <th>shopping_mall</th>\n",
       "      <th>spa</th>\n",
       "      <th>Energy (kWh)</th>\n",
       "    </tr>\n",
       "  </thead>\n",
       "  <tbody>\n",
       "    <tr>\n",
       "      <th>0</th>\n",
       "      <td>Monday_1</td>\n",
       "      <td>0.0</td>\n",
       "      <td>0.0</td>\n",
       "      <td>0.0</td>\n",
       "      <td>0.0</td>\n",
       "      <td>1.0</td>\n",
       "      <td>0.0</td>\n",
       "      <td>0.0</td>\n",
       "      <td>0.00</td>\n",
       "      <td>0.0</td>\n",
       "      <td>0.0</td>\n",
       "      <td>34.907469</td>\n",
       "    </tr>\n",
       "    <tr>\n",
       "      <th>1</th>\n",
       "      <td>Monday_2</td>\n",
       "      <td>0.0</td>\n",
       "      <td>0.0</td>\n",
       "      <td>0.0</td>\n",
       "      <td>0.0</td>\n",
       "      <td>0.0</td>\n",
       "      <td>0.0</td>\n",
       "      <td>0.0</td>\n",
       "      <td>0.00</td>\n",
       "      <td>0.0</td>\n",
       "      <td>0.0</td>\n",
       "      <td>70.984215</td>\n",
       "    </tr>\n",
       "    <tr>\n",
       "      <th>2</th>\n",
       "      <td>Monday_3</td>\n",
       "      <td>0.0</td>\n",
       "      <td>0.0</td>\n",
       "      <td>0.0</td>\n",
       "      <td>0.0</td>\n",
       "      <td>0.0</td>\n",
       "      <td>0.0</td>\n",
       "      <td>0.0</td>\n",
       "      <td>0.00</td>\n",
       "      <td>0.0</td>\n",
       "      <td>0.0</td>\n",
       "      <td>0.000000</td>\n",
       "    </tr>\n",
       "    <tr>\n",
       "      <th>3</th>\n",
       "      <td>Monday_4</td>\n",
       "      <td>0.0</td>\n",
       "      <td>0.0</td>\n",
       "      <td>0.0</td>\n",
       "      <td>0.0</td>\n",
       "      <td>0.0</td>\n",
       "      <td>0.0</td>\n",
       "      <td>0.0</td>\n",
       "      <td>0.00</td>\n",
       "      <td>0.0</td>\n",
       "      <td>0.0</td>\n",
       "      <td>0.000000</td>\n",
       "    </tr>\n",
       "    <tr>\n",
       "      <th>4</th>\n",
       "      <td>Monday_5</td>\n",
       "      <td>0.0</td>\n",
       "      <td>0.0</td>\n",
       "      <td>0.0</td>\n",
       "      <td>0.0</td>\n",
       "      <td>1.0</td>\n",
       "      <td>0.0</td>\n",
       "      <td>0.0</td>\n",
       "      <td>0.00</td>\n",
       "      <td>0.0</td>\n",
       "      <td>0.0</td>\n",
       "      <td>0.000000</td>\n",
       "    </tr>\n",
       "    <tr>\n",
       "      <th>...</th>\n",
       "      <td>...</td>\n",
       "      <td>...</td>\n",
       "      <td>...</td>\n",
       "      <td>...</td>\n",
       "      <td>...</td>\n",
       "      <td>...</td>\n",
       "      <td>...</td>\n",
       "      <td>...</td>\n",
       "      <td>...</td>\n",
       "      <td>...</td>\n",
       "      <td>...</td>\n",
       "      <td>...</td>\n",
       "    </tr>\n",
       "    <tr>\n",
       "      <th>163</th>\n",
       "      <td>Sunday_20</td>\n",
       "      <td>41.5</td>\n",
       "      <td>37.0</td>\n",
       "      <td>0.0</td>\n",
       "      <td>0.0</td>\n",
       "      <td>19.0</td>\n",
       "      <td>36.0</td>\n",
       "      <td>0.0</td>\n",
       "      <td>65.75</td>\n",
       "      <td>0.0</td>\n",
       "      <td>64.0</td>\n",
       "      <td>1245.937247</td>\n",
       "    </tr>\n",
       "    <tr>\n",
       "      <th>164</th>\n",
       "      <td>Sunday_21</td>\n",
       "      <td>38.5</td>\n",
       "      <td>0.0</td>\n",
       "      <td>0.0</td>\n",
       "      <td>0.0</td>\n",
       "      <td>15.0</td>\n",
       "      <td>11.0</td>\n",
       "      <td>0.0</td>\n",
       "      <td>58.75</td>\n",
       "      <td>0.0</td>\n",
       "      <td>61.0</td>\n",
       "      <td>1327.334936</td>\n",
       "    </tr>\n",
       "    <tr>\n",
       "      <th>165</th>\n",
       "      <td>Sunday_22</td>\n",
       "      <td>0.0</td>\n",
       "      <td>0.0</td>\n",
       "      <td>0.0</td>\n",
       "      <td>0.0</td>\n",
       "      <td>11.0</td>\n",
       "      <td>12.0</td>\n",
       "      <td>0.0</td>\n",
       "      <td>41.00</td>\n",
       "      <td>0.0</td>\n",
       "      <td>57.0</td>\n",
       "      <td>1126.898770</td>\n",
       "    </tr>\n",
       "    <tr>\n",
       "      <th>166</th>\n",
       "      <td>Sunday_23</td>\n",
       "      <td>0.0</td>\n",
       "      <td>0.0</td>\n",
       "      <td>0.0</td>\n",
       "      <td>0.0</td>\n",
       "      <td>8.0</td>\n",
       "      <td>11.5</td>\n",
       "      <td>0.0</td>\n",
       "      <td>0.00</td>\n",
       "      <td>0.0</td>\n",
       "      <td>46.0</td>\n",
       "      <td>826.045134</td>\n",
       "    </tr>\n",
       "    <tr>\n",
       "      <th>167</th>\n",
       "      <td>Sunday_24</td>\n",
       "      <td>0.0</td>\n",
       "      <td>0.0</td>\n",
       "      <td>0.0</td>\n",
       "      <td>0.0</td>\n",
       "      <td>4.0</td>\n",
       "      <td>7.5</td>\n",
       "      <td>0.0</td>\n",
       "      <td>0.00</td>\n",
       "      <td>0.0</td>\n",
       "      <td>29.0</td>\n",
       "      <td>322.345995</td>\n",
       "    </tr>\n",
       "  </tbody>\n",
       "</table>\n",
       "<p>168 rows × 12 columns</p>\n",
       "</div>"
      ],
      "text/plain": [
       "category      index   bar  cafe  clothing_store  electronics_store  locality  \\\n",
       "0          Monday_1   0.0   0.0             0.0                0.0       1.0   \n",
       "1          Monday_2   0.0   0.0             0.0                0.0       0.0   \n",
       "2          Monday_3   0.0   0.0             0.0                0.0       0.0   \n",
       "3          Monday_4   0.0   0.0             0.0                0.0       0.0   \n",
       "4          Monday_5   0.0   0.0             0.0                0.0       1.0   \n",
       "..              ...   ...   ...             ...                ...       ...   \n",
       "163       Sunday_20  41.5  37.0             0.0                0.0      19.0   \n",
       "164       Sunday_21  38.5   0.0             0.0                0.0      15.0   \n",
       "165       Sunday_22   0.0   0.0             0.0                0.0      11.0   \n",
       "166       Sunday_23   0.0   0.0             0.0                0.0       8.0   \n",
       "167       Sunday_24   0.0   0.0             0.0                0.0       4.0   \n",
       "\n",
       "category  night_club  point_of_interest  restaurant  shopping_mall   spa  \\\n",
       "0                0.0                0.0        0.00            0.0   0.0   \n",
       "1                0.0                0.0        0.00            0.0   0.0   \n",
       "2                0.0                0.0        0.00            0.0   0.0   \n",
       "3                0.0                0.0        0.00            0.0   0.0   \n",
       "4                0.0                0.0        0.00            0.0   0.0   \n",
       "..               ...                ...         ...            ...   ...   \n",
       "163             36.0                0.0       65.75            0.0  64.0   \n",
       "164             11.0                0.0       58.75            0.0  61.0   \n",
       "165             12.0                0.0       41.00            0.0  57.0   \n",
       "166             11.5                0.0        0.00            0.0  46.0   \n",
       "167              7.5                0.0        0.00            0.0  29.0   \n",
       "\n",
       "category  Energy (kWh)  \n",
       "0            34.907469  \n",
       "1            70.984215  \n",
       "2             0.000000  \n",
       "3             0.000000  \n",
       "4             0.000000  \n",
       "..                 ...  \n",
       "163        1245.937247  \n",
       "164        1327.334936  \n",
       "165        1126.898770  \n",
       "166         826.045134  \n",
       "167         322.345995  \n",
       "\n",
       "[168 rows x 12 columns]"
      ]
     },
     "execution_count": 195,
     "metadata": {},
     "output_type": "execute_result"
    }
   ],
   "source": [
    "grouped_T"
   ]
  },
  {
   "cell_type": "code",
   "execution_count": 196,
   "id": "f4cc020f",
   "metadata": {},
   "outputs": [],
   "source": [
    "sns.set_context('talk')"
   ]
  },
  {
   "cell_type": "code",
   "execution_count": 202,
   "id": "f821ea66",
   "metadata": {},
   "outputs": [
    {
     "data": {
      "text/plain": [
       "Index(['index', 'bar', 'cafe', 'clothing_store', 'electronics_store',\n",
       "       'locality', 'night_club', 'point_of_interest', 'restaurant',\n",
       "       'shopping_mall', 'spa', 'Energy (kWh)'],\n",
       "      dtype='object', name='category')"
      ]
     },
     "execution_count": 202,
     "metadata": {},
     "output_type": "execute_result"
    }
   ],
   "source": [
    "grouped_T.columns"
   ]
  },
  {
   "cell_type": "code",
   "execution_count": 205,
   "id": "b868c333",
   "metadata": {},
   "outputs": [
    {
     "data": {
      "image/png": "[encoded data removed]",
      "text/plain": [
       "<Figure size 576x288 with 1 Axes>"
      ]
     },
     "metadata": {
      "needs_background": "light"
     },
     "output_type": "display_data"
    }
   ],
   "source": [
    "cat = 'spa'\n",
    "plt.figure(figsize=(8,4))\n",
    "grouped_T[cat].plot()\n",
    "plt.xticks(rotation=45)\n",
    "plt.grid()\n",
    "plt.title(f\"Category: {cat}\")\n",
    "plt.xlabel('Week hour')\n",
    "plt.ylabel('Popularity')\n",
    "plt.show()"
   ]
  },
  {
   "cell_type": "code",
   "execution_count": 204,
   "id": "1dadbdd6",
   "metadata": {},
   "outputs": [
    {
     "data": {
      "image/png": "[encoded data removed]",
      "text/plain": [
       "<Figure size 576x288 with 1 Axes>"
      ]
     },
     "metadata": {
      "needs_background": "light"
     },
     "output_type": "display_data"
    }
   ],
   "source": [
    "cat = 'clothing_store'\n",
    "plt.figure(figsize=(8,4))\n",
    "grouped_T[cat].plot()\n",
    "plt.xticks(rotation=45)\n",
    "plt.grid()\n",
    "plt.title(f\"Category: {cat}\")\n",
    "plt.xlabel('Week hour')\n",
    "plt.ylabel('Popularity')\n",
    "plt.show()\n"
   ]
  },
  {
   "cell_type": "code",
   "execution_count": 201,
   "id": "43aae3e1",
   "metadata": {},
   "outputs": [
    {
     "data": {
      "image/png": "[encoded data removed]",
      "text/plain": [
       "<Figure size 576x288 with 1 Axes>"
      ]
     },
     "metadata": {
      "needs_background": "light"
     },
     "output_type": "display_data"
    }
   ],
   "source": [
    "cat = 'cafe'\n",
    "plt.figure(figsize=(8,4))\n",
    "grouped_T['cafe'].plot()\n",
    "plt.xticks(rotation=45)\n",
    "plt.grid()\n",
    "plt.title(f\"Category: {cat}\")\n",
    "plt.xlabel('Week hour')\n",
    "plt.ylabel('Popularity')\n",
    "plt.show()\n"
   ]
  },
  {
   "cell_type": "code",
   "execution_count": 159,
   "id": "863e06b4",
   "metadata": {},
   "outputs": [],
   "source": [
    "grouped_T = grouped_T.reset_index()\n",
    "grouped_T.loc[:, 'Energy (kWh)'] = cluster_df['Energy (kWh)']"
   ]
  },
  {
   "cell_type": "code",
   "execution_count": 161,
   "id": "4ba73a61",
   "metadata": {},
   "outputs": [],
   "source": [
    "def getDayNight(x:str)->bool:\n",
    "    weekDays = (\"Monday\",\"Tuesday\",\"Wednesday\",\"Thursday\",\"Friday\",\"Saturday\",\"Sunday\")\n",
    "    nightHours = [str(i) for i in [21,22,23,24,1,2,3,4,5,6,7,8]]\n",
    "    for day in weekDays:\n",
    "        for hour in nightHours:\n",
    "            if x == day+'_'+hour:\n",
    "                return 'Night'\n",
    "            \n",
    "    return 'Day'\n",
    "        "
   ]
  },
  {
   "cell_type": "code",
   "execution_count": 162,
   "id": "d180ceb6",
   "metadata": {},
   "outputs": [],
   "source": [
    "grouped_T.loc[:, 'night_day'] = grouped_T['index'].apply(lambda x: getDayNight(x))"
   ]
  },
  {
   "cell_type": "code",
   "execution_count": 163,
   "id": "80b1e47e",
   "metadata": {},
   "outputs": [],
   "source": [
    "grouped_T = grouped_T.loc[grouped_T['night_day']=='Day']"
   ]
  },
  {
   "cell_type": "code",
   "execution_count": 164,
   "id": "8f2ea269",
   "metadata": {},
   "outputs": [
    {
     "ename": "ValueError",
     "evalue": "Could not interpret value `grocery_or_supermarket` for parameter `y`",
     "output_type": "error",
     "traceback": [
      "\u001b[0;31m---------------------------------------------------------------------------\u001b[0m",
      "\u001b[0;31mValueError\u001b[0m                                Traceback (most recent call last)",
      "\u001b[0;32m/var/folders/1f/xyznj37x1n337kxt0v5533rw0000gn/T/ipykernel_4957/3533129488.py\u001b[0m in \u001b[0;36m<module>\u001b[0;34m\u001b[0m\n\u001b[1;32m      1\u001b[0m \u001b[0mcat\u001b[0m \u001b[0;34m=\u001b[0m \u001b[0;34m'grocery_or_supermarket'\u001b[0m\u001b[0;34m\u001b[0m\u001b[0;34m\u001b[0m\u001b[0m\n\u001b[0;32m----> 2\u001b[0;31m g = sns.jointplot(x='Energy (kWh)', y=cat, data=grouped_T,\n\u001b[0m\u001b[1;32m      3\u001b[0m                   color=sns.color_palette()[0])#color=\"#5d5d60\")\n\u001b[1;32m      4\u001b[0m \u001b[0;34m\u001b[0m\u001b[0m\n\u001b[1;32m      5\u001b[0m \u001b[0;32mdef\u001b[0m \u001b[0mannotate\u001b[0m\u001b[0;34m(\u001b[0m\u001b[0mdata\u001b[0m\u001b[0;34m,\u001b[0m \u001b[0;34m**\u001b[0m\u001b[0mkws\u001b[0m\u001b[0;34m)\u001b[0m\u001b[0;34m:\u001b[0m\u001b[0;34m\u001b[0m\u001b[0;34m\u001b[0m\u001b[0m\n",
      "\u001b[0;32m~/geo/lib/python3.8/site-packages/seaborn/_decorators.py\u001b[0m in \u001b[0;36minner_f\u001b[0;34m(*args, **kwargs)\u001b[0m\n\u001b[1;32m     44\u001b[0m             )\n\u001b[1;32m     45\u001b[0m         \u001b[0mkwargs\u001b[0m\u001b[0;34m.\u001b[0m\u001b[0mupdate\u001b[0m\u001b[0;34m(\u001b[0m\u001b[0;34m{\u001b[0m\u001b[0mk\u001b[0m\u001b[0;34m:\u001b[0m \u001b[0marg\u001b[0m \u001b[0;32mfor\u001b[0m \u001b[0mk\u001b[0m\u001b[0;34m,\u001b[0m \u001b[0marg\u001b[0m \u001b[0;32min\u001b[0m \u001b[0mzip\u001b[0m\u001b[0;34m(\u001b[0m\u001b[0msig\u001b[0m\u001b[0;34m.\u001b[0m\u001b[0mparameters\u001b[0m\u001b[0;34m,\u001b[0m \u001b[0margs\u001b[0m\u001b[0;34m)\u001b[0m\u001b[0;34m}\u001b[0m\u001b[0;34m)\u001b[0m\u001b[0;34m\u001b[0m\u001b[0;34m\u001b[0m\u001b[0m\n\u001b[0;32m---> 46\u001b[0;31m         \u001b[0;32mreturn\u001b[0m \u001b[0mf\u001b[0m\u001b[0;34m(\u001b[0m\u001b[0;34m**\u001b[0m\u001b[0mkwargs\u001b[0m\u001b[0;34m)\u001b[0m\u001b[0;34m\u001b[0m\u001b[0;34m\u001b[0m\u001b[0m\n\u001b[0m\u001b[1;32m     47\u001b[0m     \u001b[0;32mreturn\u001b[0m \u001b[0minner_f\u001b[0m\u001b[0;34m\u001b[0m\u001b[0;34m\u001b[0m\u001b[0m\n\u001b[1;32m     48\u001b[0m \u001b[0;34m\u001b[0m\u001b[0m\n",
      "\u001b[0;32m~/geo/lib/python3.8/site-packages/seaborn/axisgrid.py\u001b[0m in \u001b[0;36mjointplot\u001b[0;34m(x, y, data, kind, color, height, ratio, space, dropna, xlim, ylim, marginal_ticks, joint_kws, marginal_kws, hue, palette, hue_order, hue_norm, **kwargs)\u001b[0m\n\u001b[1;32m   2228\u001b[0m \u001b[0;34m\u001b[0m\u001b[0m\n\u001b[1;32m   2229\u001b[0m     \u001b[0;31m# Initialize the JointGrid object\u001b[0m\u001b[0;34m\u001b[0m\u001b[0;34m\u001b[0m\u001b[0;34m\u001b[0m\u001b[0m\n\u001b[0;32m-> 2230\u001b[0;31m     grid = JointGrid(\n\u001b[0m\u001b[1;32m   2231\u001b[0m         \u001b[0mdata\u001b[0m\u001b[0;34m=\u001b[0m\u001b[0mdata\u001b[0m\u001b[0;34m,\u001b[0m \u001b[0mx\u001b[0m\u001b[0;34m=\u001b[0m\u001b[0mx\u001b[0m\u001b[0;34m,\u001b[0m \u001b[0my\u001b[0m\u001b[0;34m=\u001b[0m\u001b[0my\u001b[0m\u001b[0;34m,\u001b[0m \u001b[0mhue\u001b[0m\u001b[0;34m=\u001b[0m\u001b[0mhue\u001b[0m\u001b[0;34m,\u001b[0m\u001b[0;34m\u001b[0m\u001b[0;34m\u001b[0m\u001b[0m\n\u001b[1;32m   2232\u001b[0m         \u001b[0mpalette\u001b[0m\u001b[0;34m=\u001b[0m\u001b[0mpalette\u001b[0m\u001b[0;34m,\u001b[0m \u001b[0mhue_order\u001b[0m\u001b[0;34m=\u001b[0m\u001b[0mhue_order\u001b[0m\u001b[0;34m,\u001b[0m \u001b[0mhue_norm\u001b[0m\u001b[0;34m=\u001b[0m\u001b[0mhue_norm\u001b[0m\u001b[0;34m,\u001b[0m\u001b[0;34m\u001b[0m\u001b[0;34m\u001b[0m\u001b[0m\n",
      "\u001b[0;32m~/geo/lib/python3.8/site-packages/seaborn/_decorators.py\u001b[0m in \u001b[0;36minner_f\u001b[0;34m(*args, **kwargs)\u001b[0m\n\u001b[1;32m     44\u001b[0m             )\n\u001b[1;32m     45\u001b[0m         \u001b[0mkwargs\u001b[0m\u001b[0;34m.\u001b[0m\u001b[0mupdate\u001b[0m\u001b[0;34m(\u001b[0m\u001b[0;34m{\u001b[0m\u001b[0mk\u001b[0m\u001b[0;34m:\u001b[0m \u001b[0marg\u001b[0m \u001b[0;32mfor\u001b[0m \u001b[0mk\u001b[0m\u001b[0;34m,\u001b[0m \u001b[0marg\u001b[0m \u001b[0;32min\u001b[0m \u001b[0mzip\u001b[0m\u001b[0;34m(\u001b[0m\u001b[0msig\u001b[0m\u001b[0;34m.\u001b[0m\u001b[0mparameters\u001b[0m\u001b[0;34m,\u001b[0m \u001b[0margs\u001b[0m\u001b[0;34m)\u001b[0m\u001b[0;34m}\u001b[0m\u001b[0;34m)\u001b[0m\u001b[0;34m\u001b[0m\u001b[0;34m\u001b[0m\u001b[0m\n\u001b[0;32m---> 46\u001b[0;31m         \u001b[0;32mreturn\u001b[0m \u001b[0mf\u001b[0m\u001b[0;34m(\u001b[0m\u001b[0;34m**\u001b[0m\u001b[0mkwargs\u001b[0m\u001b[0;34m)\u001b[0m\u001b[0;34m\u001b[0m\u001b[0;34m\u001b[0m\u001b[0m\n\u001b[0m\u001b[1;32m     47\u001b[0m     \u001b[0;32mreturn\u001b[0m \u001b[0minner_f\u001b[0m\u001b[0;34m\u001b[0m\u001b[0;34m\u001b[0m\u001b[0m\n\u001b[1;32m     48\u001b[0m \u001b[0;34m\u001b[0m\u001b[0m\n",
      "\u001b[0;32m~/geo/lib/python3.8/site-packages/seaborn/axisgrid.py\u001b[0m in \u001b[0;36m__init__\u001b[0;34m(self, x, y, data, height, ratio, space, dropna, xlim, ylim, size, marginal_ticks, hue, palette, hue_order, hue_norm)\u001b[0m\n\u001b[1;32m   1700\u001b[0m \u001b[0;34m\u001b[0m\u001b[0m\n\u001b[1;32m   1701\u001b[0m         \u001b[0;31m# Process the input variables\u001b[0m\u001b[0;34m\u001b[0m\u001b[0;34m\u001b[0m\u001b[0;34m\u001b[0m\u001b[0m\n\u001b[0;32m-> 1702\u001b[0;31m         \u001b[0mp\u001b[0m \u001b[0;34m=\u001b[0m \u001b[0mVectorPlotter\u001b[0m\u001b[0;34m(\u001b[0m\u001b[0mdata\u001b[0m\u001b[0;34m=\u001b[0m\u001b[0mdata\u001b[0m\u001b[0;34m,\u001b[0m \u001b[0mvariables\u001b[0m\u001b[0;34m=\u001b[0m\u001b[0mdict\u001b[0m\u001b[0;34m(\u001b[0m\u001b[0mx\u001b[0m\u001b[0;34m=\u001b[0m\u001b[0mx\u001b[0m\u001b[0;34m,\u001b[0m \u001b[0my\u001b[0m\u001b[0;34m=\u001b[0m\u001b[0my\u001b[0m\u001b[0;34m,\u001b[0m \u001b[0mhue\u001b[0m\u001b[0;34m=\u001b[0m\u001b[0mhue\u001b[0m\u001b[0;34m)\u001b[0m\u001b[0;34m)\u001b[0m\u001b[0;34m\u001b[0m\u001b[0;34m\u001b[0m\u001b[0m\n\u001b[0m\u001b[1;32m   1703\u001b[0m         \u001b[0mplot_data\u001b[0m \u001b[0;34m=\u001b[0m \u001b[0mp\u001b[0m\u001b[0;34m.\u001b[0m\u001b[0mplot_data\u001b[0m\u001b[0;34m.\u001b[0m\u001b[0mloc\u001b[0m\u001b[0;34m[\u001b[0m\u001b[0;34m:\u001b[0m\u001b[0;34m,\u001b[0m \u001b[0mp\u001b[0m\u001b[0;34m.\u001b[0m\u001b[0mplot_data\u001b[0m\u001b[0;34m.\u001b[0m\u001b[0mnotna\u001b[0m\u001b[0;34m(\u001b[0m\u001b[0;34m)\u001b[0m\u001b[0;34m.\u001b[0m\u001b[0many\u001b[0m\u001b[0;34m(\u001b[0m\u001b[0;34m)\u001b[0m\u001b[0;34m]\u001b[0m\u001b[0;34m\u001b[0m\u001b[0;34m\u001b[0m\u001b[0m\n\u001b[1;32m   1704\u001b[0m \u001b[0;34m\u001b[0m\u001b[0m\n",
      "\u001b[0;32m~/geo/lib/python3.8/site-packages/seaborn/_core.py\u001b[0m in \u001b[0;36m__init__\u001b[0;34m(self, data, variables)\u001b[0m\n\u001b[1;32m    603\u001b[0m     \u001b[0;32mdef\u001b[0m \u001b[0m__init__\u001b[0m\u001b[0;34m(\u001b[0m\u001b[0mself\u001b[0m\u001b[0;34m,\u001b[0m \u001b[0mdata\u001b[0m\u001b[0;34m=\u001b[0m\u001b[0;32mNone\u001b[0m\u001b[0;34m,\u001b[0m \u001b[0mvariables\u001b[0m\u001b[0;34m=\u001b[0m\u001b[0;34m{\u001b[0m\u001b[0;34m}\u001b[0m\u001b[0;34m)\u001b[0m\u001b[0;34m:\u001b[0m\u001b[0;34m\u001b[0m\u001b[0;34m\u001b[0m\u001b[0m\n\u001b[1;32m    604\u001b[0m \u001b[0;34m\u001b[0m\u001b[0m\n\u001b[0;32m--> 605\u001b[0;31m         \u001b[0mself\u001b[0m\u001b[0;34m.\u001b[0m\u001b[0massign_variables\u001b[0m\u001b[0;34m(\u001b[0m\u001b[0mdata\u001b[0m\u001b[0;34m,\u001b[0m \u001b[0mvariables\u001b[0m\u001b[0;34m)\u001b[0m\u001b[0;34m\u001b[0m\u001b[0;34m\u001b[0m\u001b[0m\n\u001b[0m\u001b[1;32m    606\u001b[0m \u001b[0;34m\u001b[0m\u001b[0m\n\u001b[1;32m    607\u001b[0m         \u001b[0;32mfor\u001b[0m \u001b[0mvar\u001b[0m\u001b[0;34m,\u001b[0m \u001b[0mcls\u001b[0m \u001b[0;32min\u001b[0m \u001b[0mself\u001b[0m\u001b[0;34m.\u001b[0m\u001b[0m_semantic_mappings\u001b[0m\u001b[0;34m.\u001b[0m\u001b[0mitems\u001b[0m\u001b[0;34m(\u001b[0m\u001b[0;34m)\u001b[0m\u001b[0;34m:\u001b[0m\u001b[0;34m\u001b[0m\u001b[0;34m\u001b[0m\u001b[0m\n",
      "\u001b[0;32m~/geo/lib/python3.8/site-packages/seaborn/_core.py\u001b[0m in \u001b[0;36massign_variables\u001b[0;34m(self, data, variables)\u001b[0m\n\u001b[1;32m    666\u001b[0m         \u001b[0;32melse\u001b[0m\u001b[0;34m:\u001b[0m\u001b[0;34m\u001b[0m\u001b[0;34m\u001b[0m\u001b[0m\n\u001b[1;32m    667\u001b[0m             \u001b[0mself\u001b[0m\u001b[0;34m.\u001b[0m\u001b[0minput_format\u001b[0m \u001b[0;34m=\u001b[0m \u001b[0;34m\"long\"\u001b[0m\u001b[0;34m\u001b[0m\u001b[0;34m\u001b[0m\u001b[0m\n\u001b[0;32m--> 668\u001b[0;31m             plot_data, variables = self._assign_variables_longform(\n\u001b[0m\u001b[1;32m    669\u001b[0m                 \u001b[0mdata\u001b[0m\u001b[0;34m,\u001b[0m \u001b[0;34m**\u001b[0m\u001b[0mvariables\u001b[0m\u001b[0;34m,\u001b[0m\u001b[0;34m\u001b[0m\u001b[0;34m\u001b[0m\u001b[0m\n\u001b[1;32m    670\u001b[0m             )\n",
      "\u001b[0;32m~/geo/lib/python3.8/site-packages/seaborn/_core.py\u001b[0m in \u001b[0;36m_assign_variables_longform\u001b[0;34m(self, data, **kwargs)\u001b[0m\n\u001b[1;32m    901\u001b[0m \u001b[0;34m\u001b[0m\u001b[0m\n\u001b[1;32m    902\u001b[0m                 \u001b[0merr\u001b[0m \u001b[0;34m=\u001b[0m \u001b[0;34mf\"Could not interpret value `{val}` for parameter `{key}`\"\u001b[0m\u001b[0;34m\u001b[0m\u001b[0;34m\u001b[0m\u001b[0m\n\u001b[0;32m--> 903\u001b[0;31m                 \u001b[0;32mraise\u001b[0m \u001b[0mValueError\u001b[0m\u001b[0;34m(\u001b[0m\u001b[0merr\u001b[0m\u001b[0;34m)\u001b[0m\u001b[0;34m\u001b[0m\u001b[0;34m\u001b[0m\u001b[0m\n\u001b[0m\u001b[1;32m    904\u001b[0m \u001b[0;34m\u001b[0m\u001b[0m\n\u001b[1;32m    905\u001b[0m             \u001b[0;32melse\u001b[0m\u001b[0;34m:\u001b[0m\u001b[0;34m\u001b[0m\u001b[0;34m\u001b[0m\u001b[0m\n",
      "\u001b[0;31mValueError\u001b[0m: Could not interpret value `grocery_or_supermarket` for parameter `y`"
     ]
    },
    {
     "data": {
      "image/png": "[encoded data removed]",
      "text/plain": [
       "<Figure size 432x432 with 3 Axes>"
      ]
     },
     "metadata": {
      "needs_background": "light"
     },
     "output_type": "display_data"
    }
   ],
   "source": [
    "cat = 'grocery_or_supermarket'\n",
    "g = sns.jointplot(x='Energy (kWh)', y=cat, data=grouped_T,\n",
    "                  color=sns.color_palette()[0])#color=\"#5d5d60\")\n",
    "\n",
    "def annotate(data, **kws):\n",
    "    r, p = scipy.stats.pearsonr(data['Energy (kWh)'], data[cat])\n",
    "    ax = plt.gca()\n",
    "    ax.text(.01, .95, f'$R^2$ = {r:.2f}',\n",
    "            transform=ax.transAxes, size=17)\n",
    "r, p = scipy.stats.pearsonr(grouped_T['Energy (kWh)'], grouped_T[cat])\n",
    "g.ax_joint.tick_params(axis='both', which='major', labelsize=12)\n",
    "sns.regplot(x='Energy (kWh)', y=cat, data=grouped_T, ax=g.ax_joint, scatter=False, color=sns.color_palette()[0])\n",
    "g.set_axis_labels(xlabel = 'Energy (kWh)', ylabel=f'Popular times - {cat}',fontsize=14)\n",
    "g.ax_joint.grid('on')\n",
    "plt.suptitle(f\"Correlation $R^2$:{r:.2f}\")\n",
    "# plt.savefig(f'./scatter_soil.png', dpi=300, bbox_inches='tight')\n",
    "plt.show()"
   ]
  },
  {
   "cell_type": "code",
   "execution_count": 167,
   "id": "2f299cbf",
   "metadata": {},
   "outputs": [
    {
     "name": "stderr",
     "output_type": "stream",
     "text": [
      "/var/folders/1f/xyznj37x1n337kxt0v5533rw0000gn/T/ipykernel_4957/978642386.py:6: FutureWarning: this method is deprecated in favour of `Styler.format(precision=..)`\n",
      "  (corr\n"
     ]
    },
    {
     "data": {
      "text/html": [
       "<style type=\"text/css\">\n",
       "#T_eabe3_row0_col0, #T_eabe3_row0_col1, #T_eabe3_row0_col2, #T_eabe3_row0_col3, #T_eabe3_row0_col4, #T_eabe3_row0_col5, #T_eabe3_row0_col6, #T_eabe3_row0_col7, #T_eabe3_row0_col8, #T_eabe3_row0_col9, #T_eabe3_row0_col10, #T_eabe3_row1_col1, #T_eabe3_row1_col2, #T_eabe3_row1_col3, #T_eabe3_row1_col4, #T_eabe3_row1_col5, #T_eabe3_row1_col6, #T_eabe3_row1_col7, #T_eabe3_row1_col8, #T_eabe3_row1_col9, #T_eabe3_row1_col10, #T_eabe3_row2_col2, #T_eabe3_row2_col3, #T_eabe3_row2_col4, #T_eabe3_row2_col5, #T_eabe3_row2_col6, #T_eabe3_row2_col7, #T_eabe3_row2_col8, #T_eabe3_row2_col9, #T_eabe3_row2_col10, #T_eabe3_row3_col3, #T_eabe3_row3_col4, #T_eabe3_row3_col5, #T_eabe3_row3_col6, #T_eabe3_row3_col7, #T_eabe3_row3_col8, #T_eabe3_row3_col9, #T_eabe3_row3_col10, #T_eabe3_row4_col4, #T_eabe3_row4_col5, #T_eabe3_row4_col6, #T_eabe3_row4_col7, #T_eabe3_row4_col8, #T_eabe3_row4_col9, #T_eabe3_row4_col10, #T_eabe3_row5_col5, #T_eabe3_row5_col6, #T_eabe3_row5_col7, #T_eabe3_row5_col8, #T_eabe3_row5_col9, #T_eabe3_row5_col10, #T_eabe3_row6_col6, #T_eabe3_row6_col7, #T_eabe3_row6_col8, #T_eabe3_row6_col9, #T_eabe3_row6_col10, #T_eabe3_row7_col7, #T_eabe3_row7_col8, #T_eabe3_row7_col9, #T_eabe3_row7_col10, #T_eabe3_row8_col8, #T_eabe3_row8_col9, #T_eabe3_row8_col10, #T_eabe3_row9_col9, #T_eabe3_row9_col10, #T_eabe3_row10_col10 {\n",
       "  background-color: #000000;\n",
       "  color: #f1f1f1;\n",
       "  background-color: #f1f1f1;\n",
       "}\n",
       "#T_eabe3_row1_col0 {\n",
       "  background-color: #7da0f9;\n",
       "  color: #f1f1f1;\n",
       "}\n",
       "#T_eabe3_row2_col0 {\n",
       "  background-color: #bad0f8;\n",
       "  color: #000000;\n",
       "}\n",
       "#T_eabe3_row2_col1 {\n",
       "  background-color: #ee8468;\n",
       "  color: #f1f1f1;\n",
       "}\n",
       "#T_eabe3_row3_col0 {\n",
       "  background-color: #f5c2aa;\n",
       "  color: #000000;\n",
       "}\n",
       "#T_eabe3_row3_col1, #T_eabe3_row8_col7, #T_eabe3_row10_col6 {\n",
       "  background-color: #f6bea4;\n",
       "  color: #000000;\n",
       "}\n",
       "#T_eabe3_row3_col2 {\n",
       "  background-color: #e26952;\n",
       "  color: #f1f1f1;\n",
       "}\n",
       "#T_eabe3_row4_col0 {\n",
       "  background-color: #f7ba9f;\n",
       "  color: #000000;\n",
       "}\n",
       "#T_eabe3_row4_col1 {\n",
       "  background-color: #a1c0ff;\n",
       "  color: #000000;\n",
       "}\n",
       "#T_eabe3_row4_col2 {\n",
       "  background-color: #dadce0;\n",
       "  color: #000000;\n",
       "}\n",
       "#T_eabe3_row4_col3 {\n",
       "  background-color: #ead4c8;\n",
       "  color: #000000;\n",
       "}\n",
       "#T_eabe3_row5_col0 {\n",
       "  background-color: #e16751;\n",
       "  color: #f1f1f1;\n",
       "}\n",
       "#T_eabe3_row5_col1, #T_eabe3_row7_col6 {\n",
       "  background-color: #adc9fd;\n",
       "  color: #000000;\n",
       "}\n",
       "#T_eabe3_row5_col2, #T_eabe3_row7_col2 {\n",
       "  background-color: #f1cdba;\n",
       "  color: #000000;\n",
       "}\n",
       "#T_eabe3_row5_col3 {\n",
       "  background-color: #f18f71;\n",
       "  color: #f1f1f1;\n",
       "}\n",
       "#T_eabe3_row5_col4 {\n",
       "  background-color: #f5c0a7;\n",
       "  color: #000000;\n",
       "}\n",
       "#T_eabe3_row6_col0 {\n",
       "  background-color: #b6cefa;\n",
       "  color: #000000;\n",
       "}\n",
       "#T_eabe3_row6_col1 {\n",
       "  background-color: #f2cbb7;\n",
       "  color: #000000;\n",
       "}\n",
       "#T_eabe3_row6_col2, #T_eabe3_row8_col6 {\n",
       "  background-color: #d7dce3;\n",
       "  color: #000000;\n",
       "}\n",
       "#T_eabe3_row6_col3 {\n",
       "  background-color: #ccd9ed;\n",
       "  color: #000000;\n",
       "}\n",
       "#T_eabe3_row6_col4 {\n",
       "  background-color: #dfdbd9;\n",
       "  color: #000000;\n",
       "}\n",
       "#T_eabe3_row6_col5 {\n",
       "  background-color: #9ebeff;\n",
       "  color: #000000;\n",
       "}\n",
       "#T_eabe3_row7_col0 {\n",
       "  background-color: #df634e;\n",
       "  color: #f1f1f1;\n",
       "}\n",
       "#T_eabe3_row7_col1 {\n",
       "  background-color: #b7cff9;\n",
       "  color: #000000;\n",
       "}\n",
       "#T_eabe3_row7_col3 {\n",
       "  background-color: #f08a6c;\n",
       "  color: #f1f1f1;\n",
       "}\n",
       "#T_eabe3_row7_col4, #T_eabe3_row10_col4 {\n",
       "  background-color: #dddcdc;\n",
       "  color: #000000;\n",
       "}\n",
       "#T_eabe3_row7_col5 {\n",
       "  background-color: #d0473d;\n",
       "  color: #f1f1f1;\n",
       "}\n",
       "#T_eabe3_row8_col0 {\n",
       "  background-color: #c6d6f1;\n",
       "  color: #000000;\n",
       "}\n",
       "#T_eabe3_row8_col1 {\n",
       "  background-color: #ef886b;\n",
       "  color: #f1f1f1;\n",
       "}\n",
       "#T_eabe3_row8_col2 {\n",
       "  background-color: #ca3b37;\n",
       "  color: #f1f1f1;\n",
       "}\n",
       "#T_eabe3_row8_col3 {\n",
       "  background-color: #d1493f;\n",
       "  color: #f1f1f1;\n",
       "}\n",
       "#T_eabe3_row8_col4 {\n",
       "  background-color: #d2dbe8;\n",
       "  color: #000000;\n",
       "}\n",
       "#T_eabe3_row8_col5 {\n",
       "  background-color: #f3c8b2;\n",
       "  color: #000000;\n",
       "}\n",
       "#T_eabe3_row9_col0 {\n",
       "  background-color: #f7ac8e;\n",
       "  color: #000000;\n",
       "}\n",
       "#T_eabe3_row9_col1 {\n",
       "  background-color: #ebd3c6;\n",
       "  color: #000000;\n",
       "}\n",
       "#T_eabe3_row9_col2 {\n",
       "  background-color: #f6a586;\n",
       "  color: #000000;\n",
       "}\n",
       "#T_eabe3_row9_col3 {\n",
       "  background-color: #eb7d62;\n",
       "  color: #f1f1f1;\n",
       "}\n",
       "#T_eabe3_row9_col4 {\n",
       "  background-color: #c7d7f0;\n",
       "  color: #000000;\n",
       "}\n",
       "#T_eabe3_row9_col5 {\n",
       "  background-color: #e57058;\n",
       "  color: #f1f1f1;\n",
       "}\n",
       "#T_eabe3_row9_col6 {\n",
       "  background-color: #a6c4fe;\n",
       "  color: #000000;\n",
       "}\n",
       "#T_eabe3_row9_col7 {\n",
       "  background-color: #e46e56;\n",
       "  color: #f1f1f1;\n",
       "}\n",
       "#T_eabe3_row9_col8 {\n",
       "  background-color: #f59c7d;\n",
       "  color: #000000;\n",
       "}\n",
       "#T_eabe3_row10_col0 {\n",
       "  background-color: #c3d5f4;\n",
       "  color: #000000;\n",
       "}\n",
       "#T_eabe3_row10_col1 {\n",
       "  background-color: #efcfbf;\n",
       "  color: #000000;\n",
       "}\n",
       "#T_eabe3_row10_col2 {\n",
       "  background-color: #cad8ef;\n",
       "  color: #000000;\n",
       "}\n",
       "#T_eabe3_row10_col3 {\n",
       "  background-color: #bcd2f7;\n",
       "  color: #000000;\n",
       "}\n",
       "#T_eabe3_row10_col5 {\n",
       "  background-color: #aac7fd;\n",
       "  color: #000000;\n",
       "}\n",
       "#T_eabe3_row10_col7 {\n",
       "  background-color: #b1cbfc;\n",
       "  color: #000000;\n",
       "}\n",
       "#T_eabe3_row10_col8 {\n",
       "  background-color: #bfd3f6;\n",
       "  color: #000000;\n",
       "}\n",
       "#T_eabe3_row10_col9 {\n",
       "  background-color: #c1d4f4;\n",
       "  color: #000000;\n",
       "}\n",
       "</style>\n",
       "<table id=\"T_eabe3_\">\n",
       "  <thead>\n",
       "    <tr>\n",
       "      <th class=\"index_name level0\" >category</th>\n",
       "      <th class=\"col_heading level0 col0\" >bar</th>\n",
       "      <th class=\"col_heading level0 col1\" >cafe</th>\n",
       "      <th class=\"col_heading level0 col2\" >clothing_store</th>\n",
       "      <th class=\"col_heading level0 col3\" >electronics_store</th>\n",
       "      <th class=\"col_heading level0 col4\" >locality</th>\n",
       "      <th class=\"col_heading level0 col5\" >night_club</th>\n",
       "      <th class=\"col_heading level0 col6\" >point_of_interest</th>\n",
       "      <th class=\"col_heading level0 col7\" >restaurant</th>\n",
       "      <th class=\"col_heading level0 col8\" >shopping_mall</th>\n",
       "      <th class=\"col_heading level0 col9\" >spa</th>\n",
       "      <th class=\"col_heading level0 col10\" >Energy (kWh)</th>\n",
       "    </tr>\n",
       "    <tr>\n",
       "      <th class=\"index_name level0\" >category</th>\n",
       "      <th class=\"blank col0\" >&nbsp;</th>\n",
       "      <th class=\"blank col1\" >&nbsp;</th>\n",
       "      <th class=\"blank col2\" >&nbsp;</th>\n",
       "      <th class=\"blank col3\" >&nbsp;</th>\n",
       "      <th class=\"blank col4\" >&nbsp;</th>\n",
       "      <th class=\"blank col5\" >&nbsp;</th>\n",
       "      <th class=\"blank col6\" >&nbsp;</th>\n",
       "      <th class=\"blank col7\" >&nbsp;</th>\n",
       "      <th class=\"blank col8\" >&nbsp;</th>\n",
       "      <th class=\"blank col9\" >&nbsp;</th>\n",
       "      <th class=\"blank col10\" >&nbsp;</th>\n",
       "    </tr>\n",
       "  </thead>\n",
       "  <tbody>\n",
       "    <tr>\n",
       "      <th id=\"T_eabe3_level0_row0\" class=\"row_heading level0 row0\" >bar</th>\n",
       "      <td id=\"T_eabe3_row0_col0\" class=\"data row0 col0\" >nan</td>\n",
       "      <td id=\"T_eabe3_row0_col1\" class=\"data row0 col1\" >nan</td>\n",
       "      <td id=\"T_eabe3_row0_col2\" class=\"data row0 col2\" >nan</td>\n",
       "      <td id=\"T_eabe3_row0_col3\" class=\"data row0 col3\" >nan</td>\n",
       "      <td id=\"T_eabe3_row0_col4\" class=\"data row0 col4\" >nan</td>\n",
       "      <td id=\"T_eabe3_row0_col5\" class=\"data row0 col5\" >nan</td>\n",
       "      <td id=\"T_eabe3_row0_col6\" class=\"data row0 col6\" >nan</td>\n",
       "      <td id=\"T_eabe3_row0_col7\" class=\"data row0 col7\" >nan</td>\n",
       "      <td id=\"T_eabe3_row0_col8\" class=\"data row0 col8\" >nan</td>\n",
       "      <td id=\"T_eabe3_row0_col9\" class=\"data row0 col9\" >nan</td>\n",
       "      <td id=\"T_eabe3_row0_col10\" class=\"data row0 col10\" >nan</td>\n",
       "    </tr>\n",
       "    <tr>\n",
       "      <th id=\"T_eabe3_level0_row1\" class=\"row_heading level0 row1\" >cafe</th>\n",
       "      <td id=\"T_eabe3_row1_col0\" class=\"data row1 col0\" >-0.59</td>\n",
       "      <td id=\"T_eabe3_row1_col1\" class=\"data row1 col1\" >nan</td>\n",
       "      <td id=\"T_eabe3_row1_col2\" class=\"data row1 col2\" >nan</td>\n",
       "      <td id=\"T_eabe3_row1_col3\" class=\"data row1 col3\" >nan</td>\n",
       "      <td id=\"T_eabe3_row1_col4\" class=\"data row1 col4\" >nan</td>\n",
       "      <td id=\"T_eabe3_row1_col5\" class=\"data row1 col5\" >nan</td>\n",
       "      <td id=\"T_eabe3_row1_col6\" class=\"data row1 col6\" >nan</td>\n",
       "      <td id=\"T_eabe3_row1_col7\" class=\"data row1 col7\" >nan</td>\n",
       "      <td id=\"T_eabe3_row1_col8\" class=\"data row1 col8\" >nan</td>\n",
       "      <td id=\"T_eabe3_row1_col9\" class=\"data row1 col9\" >nan</td>\n",
       "      <td id=\"T_eabe3_row1_col10\" class=\"data row1 col10\" >nan</td>\n",
       "    </tr>\n",
       "    <tr>\n",
       "      <th id=\"T_eabe3_level0_row2\" class=\"row_heading level0 row2\" >clothing_store</th>\n",
       "      <td id=\"T_eabe3_row2_col0\" class=\"data row2 col0\" >-0.24</td>\n",
       "      <td id=\"T_eabe3_row2_col1\" class=\"data row2 col1\" >0.60</td>\n",
       "      <td id=\"T_eabe3_row2_col2\" class=\"data row2 col2\" >nan</td>\n",
       "      <td id=\"T_eabe3_row2_col3\" class=\"data row2 col3\" >nan</td>\n",
       "      <td id=\"T_eabe3_row2_col4\" class=\"data row2 col4\" >nan</td>\n",
       "      <td id=\"T_eabe3_row2_col5\" class=\"data row2 col5\" >nan</td>\n",
       "      <td id=\"T_eabe3_row2_col6\" class=\"data row2 col6\" >nan</td>\n",
       "      <td id=\"T_eabe3_row2_col7\" class=\"data row2 col7\" >nan</td>\n",
       "      <td id=\"T_eabe3_row2_col8\" class=\"data row2 col8\" >nan</td>\n",
       "      <td id=\"T_eabe3_row2_col9\" class=\"data row2 col9\" >nan</td>\n",
       "      <td id=\"T_eabe3_row2_col10\" class=\"data row2 col10\" >nan</td>\n",
       "    </tr>\n",
       "    <tr>\n",
       "      <th id=\"T_eabe3_level0_row3\" class=\"row_heading level0 row3\" >electronics_store</th>\n",
       "      <td id=\"T_eabe3_row3_col0\" class=\"data row3 col0\" >0.26</td>\n",
       "      <td id=\"T_eabe3_row3_col1\" class=\"data row3 col1\" >0.29</td>\n",
       "      <td id=\"T_eabe3_row3_col2\" class=\"data row3 col2\" >0.71</td>\n",
       "      <td id=\"T_eabe3_row3_col3\" class=\"data row3 col3\" >nan</td>\n",
       "      <td id=\"T_eabe3_row3_col4\" class=\"data row3 col4\" >nan</td>\n",
       "      <td id=\"T_eabe3_row3_col5\" class=\"data row3 col5\" >nan</td>\n",
       "      <td id=\"T_eabe3_row3_col6\" class=\"data row3 col6\" >nan</td>\n",
       "      <td id=\"T_eabe3_row3_col7\" class=\"data row3 col7\" >nan</td>\n",
       "      <td id=\"T_eabe3_row3_col8\" class=\"data row3 col8\" >nan</td>\n",
       "      <td id=\"T_eabe3_row3_col9\" class=\"data row3 col9\" >nan</td>\n",
       "      <td id=\"T_eabe3_row3_col10\" class=\"data row3 col10\" >nan</td>\n",
       "    </tr>\n",
       "    <tr>\n",
       "      <th id=\"T_eabe3_level0_row4\" class=\"row_heading level0 row4\" >locality</th>\n",
       "      <td id=\"T_eabe3_row4_col0\" class=\"data row4 col0\" >0.32</td>\n",
       "      <td id=\"T_eabe3_row4_col1\" class=\"data row4 col1\" >-0.39</td>\n",
       "      <td id=\"T_eabe3_row4_col2\" class=\"data row4 col2\" >-0.02</td>\n",
       "      <td id=\"T_eabe3_row4_col3\" class=\"data row4 col3\" >0.11</td>\n",
       "      <td id=\"T_eabe3_row4_col4\" class=\"data row4 col4\" >nan</td>\n",
       "      <td id=\"T_eabe3_row4_col5\" class=\"data row4 col5\" >nan</td>\n",
       "      <td id=\"T_eabe3_row4_col6\" class=\"data row4 col6\" >nan</td>\n",
       "      <td id=\"T_eabe3_row4_col7\" class=\"data row4 col7\" >nan</td>\n",
       "      <td id=\"T_eabe3_row4_col8\" class=\"data row4 col8\" >nan</td>\n",
       "      <td id=\"T_eabe3_row4_col9\" class=\"data row4 col9\" >nan</td>\n",
       "      <td id=\"T_eabe3_row4_col10\" class=\"data row4 col10\" >nan</td>\n",
       "    </tr>\n",
       "    <tr>\n",
       "      <th id=\"T_eabe3_level0_row5\" class=\"row_heading level0 row5\" >night_club</th>\n",
       "      <td id=\"T_eabe3_row5_col0\" class=\"data row5 col0\" >0.72</td>\n",
       "      <td id=\"T_eabe3_row5_col1\" class=\"data row5 col1\" >-0.32</td>\n",
       "      <td id=\"T_eabe3_row5_col2\" class=\"data row5 col2\" >0.18</td>\n",
       "      <td id=\"T_eabe3_row5_col3\" class=\"data row5 col3\" >0.55</td>\n",
       "      <td id=\"T_eabe3_row5_col4\" class=\"data row5 col4\" >0.28</td>\n",
       "      <td id=\"T_eabe3_row5_col5\" class=\"data row5 col5\" >nan</td>\n",
       "      <td id=\"T_eabe3_row5_col6\" class=\"data row5 col6\" >nan</td>\n",
       "      <td id=\"T_eabe3_row5_col7\" class=\"data row5 col7\" >nan</td>\n",
       "      <td id=\"T_eabe3_row5_col8\" class=\"data row5 col8\" >nan</td>\n",
       "      <td id=\"T_eabe3_row5_col9\" class=\"data row5 col9\" >nan</td>\n",
       "      <td id=\"T_eabe3_row5_col10\" class=\"data row5 col10\" >nan</td>\n",
       "    </tr>\n",
       "    <tr>\n",
       "      <th id=\"T_eabe3_level0_row6\" class=\"row_heading level0 row6\" >point_of_interest</th>\n",
       "      <td id=\"T_eabe3_row6_col0\" class=\"data row6 col0\" >-0.26</td>\n",
       "      <td id=\"T_eabe3_row6_col1\" class=\"data row6 col1\" >0.20</td>\n",
       "      <td id=\"T_eabe3_row6_col2\" class=\"data row6 col2\" >-0.04</td>\n",
       "      <td id=\"T_eabe3_row6_col3\" class=\"data row6 col3\" >-0.12</td>\n",
       "      <td id=\"T_eabe3_row6_col4\" class=\"data row6 col4\" >0.02</td>\n",
       "      <td id=\"T_eabe3_row6_col5\" class=\"data row6 col5\" >-0.40</td>\n",
       "      <td id=\"T_eabe3_row6_col6\" class=\"data row6 col6\" >nan</td>\n",
       "      <td id=\"T_eabe3_row6_col7\" class=\"data row6 col7\" >nan</td>\n",
       "      <td id=\"T_eabe3_row6_col8\" class=\"data row6 col8\" >nan</td>\n",
       "      <td id=\"T_eabe3_row6_col9\" class=\"data row6 col9\" >nan</td>\n",
       "      <td id=\"T_eabe3_row6_col10\" class=\"data row6 col10\" >nan</td>\n",
       "    </tr>\n",
       "    <tr>\n",
       "      <th id=\"T_eabe3_level0_row7\" class=\"row_heading level0 row7\" >restaurant</th>\n",
       "      <td id=\"T_eabe3_row7_col0\" class=\"data row7 col0\" >0.74</td>\n",
       "      <td id=\"T_eabe3_row7_col1\" class=\"data row7 col1\" >-0.26</td>\n",
       "      <td id=\"T_eabe3_row7_col2\" class=\"data row7 col2\" >0.18</td>\n",
       "      <td id=\"T_eabe3_row7_col3\" class=\"data row7 col3\" >0.57</td>\n",
       "      <td id=\"T_eabe3_row7_col4\" class=\"data row7 col4\" >0.01</td>\n",
       "      <td id=\"T_eabe3_row7_col5\" class=\"data row7 col5\" >0.84</td>\n",
       "      <td id=\"T_eabe3_row7_col6\" class=\"data row7 col6\" >-0.32</td>\n",
       "      <td id=\"T_eabe3_row7_col7\" class=\"data row7 col7\" >nan</td>\n",
       "      <td id=\"T_eabe3_row7_col8\" class=\"data row7 col8\" >nan</td>\n",
       "      <td id=\"T_eabe3_row7_col9\" class=\"data row7 col9\" >nan</td>\n",
       "      <td id=\"T_eabe3_row7_col10\" class=\"data row7 col10\" >nan</td>\n",
       "    </tr>\n",
       "    <tr>\n",
       "      <th id=\"T_eabe3_level0_row8\" class=\"row_heading level0 row8\" >shopping_mall</th>\n",
       "      <td id=\"T_eabe3_row8_col0\" class=\"data row8 col0\" >-0.16</td>\n",
       "      <td id=\"T_eabe3_row8_col1\" class=\"data row8 col1\" >0.58</td>\n",
       "      <td id=\"T_eabe3_row8_col2\" class=\"data row8 col2\" >0.88</td>\n",
       "      <td id=\"T_eabe3_row8_col3\" class=\"data row8 col3\" >0.84</td>\n",
       "      <td id=\"T_eabe3_row8_col4\" class=\"data row8 col4\" >-0.08</td>\n",
       "      <td id=\"T_eabe3_row8_col5\" class=\"data row8 col5\" >0.22</td>\n",
       "      <td id=\"T_eabe3_row8_col6\" class=\"data row8 col6\" >-0.05</td>\n",
       "      <td id=\"T_eabe3_row8_col7\" class=\"data row8 col7\" >0.29</td>\n",
       "      <td id=\"T_eabe3_row8_col8\" class=\"data row8 col8\" >nan</td>\n",
       "      <td id=\"T_eabe3_row8_col9\" class=\"data row8 col9\" >nan</td>\n",
       "      <td id=\"T_eabe3_row8_col10\" class=\"data row8 col10\" >nan</td>\n",
       "    </tr>\n",
       "    <tr>\n",
       "      <th id=\"T_eabe3_level0_row9\" class=\"row_heading level0 row9\" >spa</th>\n",
       "      <td id=\"T_eabe3_row9_col0\" class=\"data row9 col0\" >0.40</td>\n",
       "      <td id=\"T_eabe3_row9_col1\" class=\"data row9 col1\" >0.12</td>\n",
       "      <td id=\"T_eabe3_row9_col2\" class=\"data row9 col2\" >0.44</td>\n",
       "      <td id=\"T_eabe3_row9_col3\" class=\"data row9 col3\" >0.63</td>\n",
       "      <td id=\"T_eabe3_row9_col4\" class=\"data row9 col4\" >-0.15</td>\n",
       "      <td id=\"T_eabe3_row9_col5\" class=\"data row9 col5\" >0.69</td>\n",
       "      <td id=\"T_eabe3_row9_col6\" class=\"data row9 col6\" >-0.36</td>\n",
       "      <td id=\"T_eabe3_row9_col7\" class=\"data row9 col7\" >0.69</td>\n",
       "      <td id=\"T_eabe3_row9_col8\" class=\"data row9 col8\" >0.49</td>\n",
       "      <td id=\"T_eabe3_row9_col9\" class=\"data row9 col9\" >nan</td>\n",
       "      <td id=\"T_eabe3_row9_col10\" class=\"data row9 col10\" >nan</td>\n",
       "    </tr>\n",
       "    <tr>\n",
       "      <th id=\"T_eabe3_level0_row10\" class=\"row_heading level0 row10\" >Energy (kWh)</th>\n",
       "      <td id=\"T_eabe3_row10_col0\" class=\"data row10 col0\" >-0.18</td>\n",
       "      <td id=\"T_eabe3_row10_col1\" class=\"data row10 col1\" >0.16</td>\n",
       "      <td id=\"T_eabe3_row10_col2\" class=\"data row10 col2\" >-0.14</td>\n",
       "      <td id=\"T_eabe3_row10_col3\" class=\"data row10 col3\" >-0.22</td>\n",
       "      <td id=\"T_eabe3_row10_col4\" class=\"data row10 col4\" >0.00</td>\n",
       "      <td id=\"T_eabe3_row10_col5\" class=\"data row10 col5\" >-0.34</td>\n",
       "      <td id=\"T_eabe3_row10_col6\" class=\"data row10 col6\" >0.30</td>\n",
       "      <td id=\"T_eabe3_row10_col7\" class=\"data row10 col7\" >-0.29</td>\n",
       "      <td id=\"T_eabe3_row10_col8\" class=\"data row10 col8\" >-0.21</td>\n",
       "      <td id=\"T_eabe3_row10_col9\" class=\"data row10 col9\" >-0.19</td>\n",
       "      <td id=\"T_eabe3_row10_col10\" class=\"data row10 col10\" >nan</td>\n",
       "    </tr>\n",
       "  </tbody>\n",
       "</table>\n"
      ],
      "text/plain": [
       "<pandas.io.formats.style.Styler at 0x1402890a0>"
      ]
     },
     "execution_count": 167,
     "metadata": {},
     "output_type": "execute_result"
    }
   ],
   "source": [
    "# Fill diagonal and upper half with NaNs\n",
    "corr = grouped_T.corr()\n",
    "mask = np.zeros_like(corr, dtype=bool)\n",
    "mask[np.triu_indices_from(mask)] = True\n",
    "corr[mask] = np.nan\n",
    "(corr\n",
    " .style\n",
    " .background_gradient(cmap='coolwarm', axis=None, vmin=-1, vmax=1)\n",
    " .highlight_null(null_color='#f1f1f1')  # Color NaNs grey\n",
    " .set_precision(2))"
   ]
  },
  {
   "cell_type": "code",
   "execution_count": 165,
   "id": "515220b3",
   "metadata": {},
   "outputs": [
    {
     "name": "stderr",
     "output_type": "stream",
     "text": [
      "/var/folders/1f/xyznj37x1n337kxt0v5533rw0000gn/T/ipykernel_4957/2031611844.py:1: FutureWarning: Dropping of nuisance columns in DataFrame reductions (with 'numeric_only=None') is deprecated; in a future version this will raise TypeError.  Select only valid columns before calling the reduction.\n",
      "  normalized_df=(grouped_T-grouped_T.mean())/grouped_T.std()\n"
     ]
    }
   ],
   "source": [
    "normalized_df=(grouped_T-grouped_T.mean())/grouped_T.std()"
   ]
  },
  {
   "cell_type": "code",
   "execution_count": 166,
   "id": "456e38a6",
   "metadata": {},
   "outputs": [
    {
     "ename": "KeyError",
     "evalue": "'grocery_or_supermarket'",
     "output_type": "error",
     "traceback": [
      "\u001b[0;31m---------------------------------------------------------------------------\u001b[0m",
      "\u001b[0;31mKeyError\u001b[0m                                  Traceback (most recent call last)",
      "\u001b[0;32m~/geo/lib/python3.8/site-packages/pandas/core/indexes/base.py\u001b[0m in \u001b[0;36mget_loc\u001b[0;34m(self, key, method, tolerance)\u001b[0m\n\u001b[1;32m   3360\u001b[0m             \u001b[0;32mtry\u001b[0m\u001b[0;34m:\u001b[0m\u001b[0;34m\u001b[0m\u001b[0;34m\u001b[0m\u001b[0m\n\u001b[0;32m-> 3361\u001b[0;31m                 \u001b[0;32mreturn\u001b[0m \u001b[0mself\u001b[0m\u001b[0;34m.\u001b[0m\u001b[0m_engine\u001b[0m\u001b[0;34m.\u001b[0m\u001b[0mget_loc\u001b[0m\u001b[0;34m(\u001b[0m\u001b[0mcasted_key\u001b[0m\u001b[0;34m)\u001b[0m\u001b[0;34m\u001b[0m\u001b[0;34m\u001b[0m\u001b[0m\n\u001b[0m\u001b[1;32m   3362\u001b[0m             \u001b[0;32mexcept\u001b[0m \u001b[0mKeyError\u001b[0m \u001b[0;32mas\u001b[0m \u001b[0merr\u001b[0m\u001b[0;34m:\u001b[0m\u001b[0;34m\u001b[0m\u001b[0;34m\u001b[0m\u001b[0m\n",
      "\u001b[0;32m~/geo/lib/python3.8/site-packages/pandas/_libs/index.pyx\u001b[0m in \u001b[0;36mpandas._libs.index.IndexEngine.get_loc\u001b[0;34m()\u001b[0m\n",
      "\u001b[0;32m~/geo/lib/python3.8/site-packages/pandas/_libs/index.pyx\u001b[0m in \u001b[0;36mpandas._libs.index.IndexEngine.get_loc\u001b[0;34m()\u001b[0m\n",
      "\u001b[0;32mpandas/_libs/hashtable_class_helper.pxi\u001b[0m in \u001b[0;36mpandas._libs.hashtable.PyObjectHashTable.get_item\u001b[0;34m()\u001b[0m\n",
      "\u001b[0;32mpandas/_libs/hashtable_class_helper.pxi\u001b[0m in \u001b[0;36mpandas._libs.hashtable.PyObjectHashTable.get_item\u001b[0;34m()\u001b[0m\n",
      "\u001b[0;31mKeyError\u001b[0m: 'grocery_or_supermarket'",
      "\nThe above exception was the direct cause of the following exception:\n",
      "\u001b[0;31mKeyError\u001b[0m                                  Traceback (most recent call last)",
      "\u001b[0;32m/var/folders/1f/xyznj37x1n337kxt0v5533rw0000gn/T/ipykernel_4957/6346604.py\u001b[0m in \u001b[0;36m<module>\u001b[0;34m\u001b[0m\n\u001b[0;32m----> 1\u001b[0;31m \u001b[0mnormalized_df\u001b[0m\u001b[0;34m[\u001b[0m\u001b[0mcat\u001b[0m\u001b[0;34m]\u001b[0m\u001b[0;34m.\u001b[0m\u001b[0mplot\u001b[0m\u001b[0;34m(\u001b[0m\u001b[0mlabel\u001b[0m\u001b[0;34m=\u001b[0m\u001b[0;34mf'Catergory: {cat}'\u001b[0m\u001b[0;34m)\u001b[0m\u001b[0;34m\u001b[0m\u001b[0;34m\u001b[0m\u001b[0m\n\u001b[0m\u001b[1;32m      2\u001b[0m \u001b[0mnormalized_df\u001b[0m\u001b[0;34m[\u001b[0m\u001b[0;34m\"Energy (kWh)\"\u001b[0m\u001b[0;34m]\u001b[0m\u001b[0;34m.\u001b[0m\u001b[0mplot\u001b[0m\u001b[0;34m(\u001b[0m\u001b[0mlabel\u001b[0m\u001b[0;34m=\u001b[0m\u001b[0;34m'Energy (kWh)'\u001b[0m\u001b[0;34m)\u001b[0m\u001b[0;34m\u001b[0m\u001b[0;34m\u001b[0m\u001b[0m\n\u001b[1;32m      3\u001b[0m \u001b[0mplt\u001b[0m\u001b[0;34m.\u001b[0m\u001b[0mgrid\u001b[0m\u001b[0;34m(\u001b[0m\u001b[0;34m)\u001b[0m\u001b[0;34m\u001b[0m\u001b[0;34m\u001b[0m\u001b[0m\n\u001b[1;32m      4\u001b[0m \u001b[0mplt\u001b[0m\u001b[0;34m.\u001b[0m\u001b[0mlegend\u001b[0m\u001b[0;34m(\u001b[0m\u001b[0;34m)\u001b[0m\u001b[0;34m\u001b[0m\u001b[0;34m\u001b[0m\u001b[0m\n",
      "\u001b[0;32m~/geo/lib/python3.8/site-packages/pandas/core/frame.py\u001b[0m in \u001b[0;36m__getitem__\u001b[0;34m(self, key)\u001b[0m\n\u001b[1;32m   3456\u001b[0m             \u001b[0;32mif\u001b[0m \u001b[0mself\u001b[0m\u001b[0;34m.\u001b[0m\u001b[0mcolumns\u001b[0m\u001b[0;34m.\u001b[0m\u001b[0mnlevels\u001b[0m \u001b[0;34m>\u001b[0m \u001b[0;36m1\u001b[0m\u001b[0;34m:\u001b[0m\u001b[0;34m\u001b[0m\u001b[0;34m\u001b[0m\u001b[0m\n\u001b[1;32m   3457\u001b[0m                 \u001b[0;32mreturn\u001b[0m \u001b[0mself\u001b[0m\u001b[0;34m.\u001b[0m\u001b[0m_getitem_multilevel\u001b[0m\u001b[0;34m(\u001b[0m\u001b[0mkey\u001b[0m\u001b[0;34m)\u001b[0m\u001b[0;34m\u001b[0m\u001b[0;34m\u001b[0m\u001b[0m\n\u001b[0;32m-> 3458\u001b[0;31m             \u001b[0mindexer\u001b[0m \u001b[0;34m=\u001b[0m \u001b[0mself\u001b[0m\u001b[0;34m.\u001b[0m\u001b[0mcolumns\u001b[0m\u001b[0;34m.\u001b[0m\u001b[0mget_loc\u001b[0m\u001b[0;34m(\u001b[0m\u001b[0mkey\u001b[0m\u001b[0;34m)\u001b[0m\u001b[0;34m\u001b[0m\u001b[0;34m\u001b[0m\u001b[0m\n\u001b[0m\u001b[1;32m   3459\u001b[0m             \u001b[0;32mif\u001b[0m \u001b[0mis_integer\u001b[0m\u001b[0;34m(\u001b[0m\u001b[0mindexer\u001b[0m\u001b[0;34m)\u001b[0m\u001b[0;34m:\u001b[0m\u001b[0;34m\u001b[0m\u001b[0;34m\u001b[0m\u001b[0m\n\u001b[1;32m   3460\u001b[0m                 \u001b[0mindexer\u001b[0m \u001b[0;34m=\u001b[0m \u001b[0;34m[\u001b[0m\u001b[0mindexer\u001b[0m\u001b[0;34m]\u001b[0m\u001b[0;34m\u001b[0m\u001b[0;34m\u001b[0m\u001b[0m\n",
      "\u001b[0;32m~/geo/lib/python3.8/site-packages/pandas/core/indexes/base.py\u001b[0m in \u001b[0;36mget_loc\u001b[0;34m(self, key, method, tolerance)\u001b[0m\n\u001b[1;32m   3361\u001b[0m                 \u001b[0;32mreturn\u001b[0m \u001b[0mself\u001b[0m\u001b[0;34m.\u001b[0m\u001b[0m_engine\u001b[0m\u001b[0;34m.\u001b[0m\u001b[0mget_loc\u001b[0m\u001b[0;34m(\u001b[0m\u001b[0mcasted_key\u001b[0m\u001b[0;34m)\u001b[0m\u001b[0;34m\u001b[0m\u001b[0;34m\u001b[0m\u001b[0m\n\u001b[1;32m   3362\u001b[0m             \u001b[0;32mexcept\u001b[0m \u001b[0mKeyError\u001b[0m \u001b[0;32mas\u001b[0m \u001b[0merr\u001b[0m\u001b[0;34m:\u001b[0m\u001b[0;34m\u001b[0m\u001b[0;34m\u001b[0m\u001b[0m\n\u001b[0;32m-> 3363\u001b[0;31m                 \u001b[0;32mraise\u001b[0m \u001b[0mKeyError\u001b[0m\u001b[0;34m(\u001b[0m\u001b[0mkey\u001b[0m\u001b[0;34m)\u001b[0m \u001b[0;32mfrom\u001b[0m \u001b[0merr\u001b[0m\u001b[0;34m\u001b[0m\u001b[0;34m\u001b[0m\u001b[0m\n\u001b[0m\u001b[1;32m   3364\u001b[0m \u001b[0;34m\u001b[0m\u001b[0m\n\u001b[1;32m   3365\u001b[0m         \u001b[0;32mif\u001b[0m \u001b[0mis_scalar\u001b[0m\u001b[0;34m(\u001b[0m\u001b[0mkey\u001b[0m\u001b[0;34m)\u001b[0m \u001b[0;32mand\u001b[0m \u001b[0misna\u001b[0m\u001b[0;34m(\u001b[0m\u001b[0mkey\u001b[0m\u001b[0;34m)\u001b[0m \u001b[0;32mand\u001b[0m \u001b[0;32mnot\u001b[0m \u001b[0mself\u001b[0m\u001b[0;34m.\u001b[0m\u001b[0mhasnans\u001b[0m\u001b[0;34m:\u001b[0m\u001b[0;34m\u001b[0m\u001b[0;34m\u001b[0m\u001b[0m\n",
      "\u001b[0;31mKeyError\u001b[0m: 'grocery_or_supermarket'"
     ]
    }
   ],
   "source": [
    "normalized_df[cat].plot(label=f'Catergory: {cat}')\n",
    "normalized_df[\"Energy (kWh)\"].plot(label='Energy (kWh)')\n",
    "plt.grid()\n",
    "plt.legend()"
   ]
  },
  {
   "cell_type": "code",
   "execution_count": 229,
   "id": "b7dbd259",
   "metadata": {},
   "outputs": [
    {
     "name": "stderr",
     "output_type": "stream",
     "text": [
      "/var/folders/1f/xyznj37x1n337kxt0v5533rw0000gn/T/ipykernel_4957/2251395664.py:16: FutureWarning:\n",
      "\n",
      "this method is deprecated in favour of `Styler.format(precision=..)`\n",
      "\n"
     ]
    },
    {
     "data": {
      "text/html": [
       "<style type=\"text/css\">\n",
       "#T_077a3_row0_col0 {\n",
       "  background-color: #f59f80;\n",
       "  color: #000000;\n",
       "}\n",
       "#T_077a3_row0_col1 {\n",
       "  background-color: #e4d9d2;\n",
       "  color: #000000;\n",
       "}\n",
       "#T_077a3_row0_col2 {\n",
       "  background-color: #e0dbd8;\n",
       "  color: #000000;\n",
       "}\n",
       "#T_077a3_row0_col3 {\n",
       "  background-color: #edd1c2;\n",
       "  color: #000000;\n",
       "}\n",
       "#T_077a3_row0_col4 {\n",
       "  background-color: #f7b99e;\n",
       "  color: #000000;\n",
       "}\n",
       "#T_077a3_row0_col5 {\n",
       "  background-color: #f6a385;\n",
       "  color: #000000;\n",
       "}\n",
       "#T_077a3_row0_col6 {\n",
       "  background-color: #d2dbe8;\n",
       "  color: #000000;\n",
       "}\n",
       "#T_077a3_row0_col7 {\n",
       "  background-color: #f18d6f;\n",
       "  color: #f1f1f1;\n",
       "}\n",
       "#T_077a3_row0_col8 {\n",
       "  background-color: #e1dad6;\n",
       "  color: #000000;\n",
       "}\n",
       "#T_077a3_row0_col9 {\n",
       "  background-color: #f7ad90;\n",
       "  color: #000000;\n",
       "}\n",
       "#T_077a3_row0_col10 {\n",
       "  background-color: #000000;\n",
       "  color: #f1f1f1;\n",
       "  background-color: #f1f1f1;\n",
       "}\n",
       "</style>\n",
       "<table id=\"T_077a3_\">\n",
       "  <thead>\n",
       "    <tr>\n",
       "      <th class=\"index_name level0\" >category</th>\n",
       "      <th class=\"col_heading level0 col0\" >bar</th>\n",
       "      <th class=\"col_heading level0 col1\" >cafe</th>\n",
       "      <th class=\"col_heading level0 col2\" >clothing_store</th>\n",
       "      <th class=\"col_heading level0 col3\" >electronics_store</th>\n",
       "      <th class=\"col_heading level0 col4\" >locality</th>\n",
       "      <th class=\"col_heading level0 col5\" >night_club</th>\n",
       "      <th class=\"col_heading level0 col6\" >point_of_interest</th>\n",
       "      <th class=\"col_heading level0 col7\" >restaurant</th>\n",
       "      <th class=\"col_heading level0 col8\" >shopping_mall</th>\n",
       "      <th class=\"col_heading level0 col9\" >spa</th>\n",
       "      <th class=\"col_heading level0 col10\" >Energy (kWh)</th>\n",
       "    </tr>\n",
       "    <tr>\n",
       "      <th class=\"index_name level0\" >category</th>\n",
       "      <th class=\"blank col0\" >&nbsp;</th>\n",
       "      <th class=\"blank col1\" >&nbsp;</th>\n",
       "      <th class=\"blank col2\" >&nbsp;</th>\n",
       "      <th class=\"blank col3\" >&nbsp;</th>\n",
       "      <th class=\"blank col4\" >&nbsp;</th>\n",
       "      <th class=\"blank col5\" >&nbsp;</th>\n",
       "      <th class=\"blank col6\" >&nbsp;</th>\n",
       "      <th class=\"blank col7\" >&nbsp;</th>\n",
       "      <th class=\"blank col8\" >&nbsp;</th>\n",
       "      <th class=\"blank col9\" >&nbsp;</th>\n",
       "      <th class=\"blank col10\" >&nbsp;</th>\n",
       "    </tr>\n",
       "  </thead>\n",
       "  <tbody>\n",
       "    <tr>\n",
       "      <th id=\"T_077a3_level0_row0\" class=\"row_heading level0 row0\" >Energy (kWh)</th>\n",
       "      <td id=\"T_077a3_row0_col0\" class=\"data row0 col0\" >0.47</td>\n",
       "      <td id=\"T_077a3_row0_col1\" class=\"data row0 col1\" >0.06</td>\n",
       "      <td id=\"T_077a3_row0_col2\" class=\"data row0 col2\" >0.03</td>\n",
       "      <td id=\"T_077a3_row0_col3\" class=\"data row0 col3\" >0.15</td>\n",
       "      <td id=\"T_077a3_row0_col4\" class=\"data row0 col4\" >0.32</td>\n",
       "      <td id=\"T_077a3_row0_col5\" class=\"data row0 col5\" >0.45</td>\n",
       "      <td id=\"T_077a3_row0_col6\" class=\"data row0 col6\" >-0.08</td>\n",
       "      <td id=\"T_077a3_row0_col7\" class=\"data row0 col7\" >0.56</td>\n",
       "      <td id=\"T_077a3_row0_col8\" class=\"data row0 col8\" >0.03</td>\n",
       "      <td id=\"T_077a3_row0_col9\" class=\"data row0 col9\" >0.39</td>\n",
       "      <td id=\"T_077a3_row0_col10\" class=\"data row0 col10\" >nan</td>\n",
       "    </tr>\n",
       "  </tbody>\n",
       "</table>\n"
      ],
      "text/plain": [
       "<pandas.io.formats.style.Styler at 0x143e21eb0>"
      ]
     },
     "execution_count": 229,
     "metadata": {},
     "output_type": "execute_result"
    }
   ],
   "source": [
    "\n",
    "cluster_mask = df['cluster'] ==17\n",
    "cluster_df =  getGrouped(df.loc[cluster_mask])\n",
    "cluster_df = df.loc[cluster_mask]\n",
    "cluster_df = getGrouped(cluster_df)\n",
    "cluster_df = cluster_df.reindex(range(169)).fillna(0.)\n",
    "mask_spatial = spatial_features['cluster']==CLUSTER\n",
    "spatial_df = spatial_features.loc[mask_spatial]\n",
    "grouped_T = spatial_df.groupby('category').mean().T.iloc[:-6,:]\n",
    "grouped_T = grouped_T.reset_index()\n",
    "grouped_T.loc[:, 'Energy (kWh)'] = cluster_df['Energy (kWh)']\n",
    "# Fill diagonal and upper half with NaNs\n",
    "corr = grouped_T.corr()\n",
    "mask = np.zeros_like(corr, dtype=bool)\n",
    "mask[np.triu_indices_from(mask)] = True\n",
    "corr[mask] = np.nan\n",
    "(corr.iloc[-1:,:]\n",
    " .style\n",
    " .background_gradient(cmap='coolwarm', axis=None, vmin=-1, vmax=1)\n",
    " .highlight_null(null_color='#f1f1f1')  # Color NaNs grey\n",
    " .set_precision(2))\n"
   ]
  },
  {
   "cell_type": "code",
   "execution_count": 182,
   "id": "c3ba7ca0",
   "metadata": {},
   "outputs": [],
   "source": [
    "import geopandas as gpd"
   ]
  },
  {
   "cell_type": "code",
   "execution_count": 183,
   "id": "1514389d",
   "metadata": {},
   "outputs": [],
   "source": [
    "grp = df.groupby(['latitude', 'longitude'], as_index=False).mean()\n",
    "\n",
    "gdf = gpd.GeoDataFrame(data=grp, geometry=gpd.points_from_xy(x=grp['latitude'],y=grp['longitude' ]))"
   ]
  },
  {
   "cell_type": "code",
   "execution_count": 187,
   "id": "9b2d85a9",
   "metadata": {},
   "outputs": [],
   "source": [
    "gdf['cluster'] = gdf['cluster'].astype(int)\n",
    "gdf['cluster'] = gdf['cluster'].astype(str)"
   ]
  },
  {
   "cell_type": "code",
   "execution_count": 194,
   "id": "37ae23ca",
   "metadata": {},
   "outputs": [
    {
     "data": {
      "text/html": [
       "<div>\n",
       "<style scoped>\n",
       "    .dataframe tbody tr th:only-of-type {\n",
       "        vertical-align: middle;\n",
       "    }\n",
       "\n",
       "    .dataframe tbody tr th {\n",
       "        vertical-align: top;\n",
       "    }\n",
       "\n",
       "    .dataframe thead th {\n",
       "        text-align: right;\n",
       "    }\n",
       "</style>\n",
       "<table border=\"1\" class=\"dataframe\">\n",
       "  <thead>\n",
       "    <tr style=\"text-align: right;\">\n",
       "      <th></th>\n",
       "      <th>latitude</th>\n",
       "      <th>longitude</th>\n",
       "      <th>Energy (kWh)</th>\n",
       "      <th>Latitude</th>\n",
       "      <th>Longitude</th>\n",
       "      <th>cluster</th>\n",
       "      <th>geometry</th>\n",
       "    </tr>\n",
       "  </thead>\n",
       "  <tbody>\n",
       "    <tr>\n",
       "      <th>12</th>\n",
       "      <td>37.445</td>\n",
       "      <td>-122.139</td>\n",
       "      <td>9.402301</td>\n",
       "      <td>37.445497</td>\n",
       "      <td>-122.138897</td>\n",
       "      <td>14</td>\n",
       "      <td>POINT (37.445 -122.139)</td>\n",
       "    </tr>\n",
       "  </tbody>\n",
       "</table>\n",
       "</div>"
      ],
      "text/plain": [
       "    latitude  longitude  Energy (kWh)   Latitude   Longitude cluster  \\\n",
       "12    37.445   -122.139      9.402301  37.445497 -122.138897      14   \n",
       "\n",
       "                   geometry  \n",
       "12  POINT (37.445 -122.139)  "
      ]
     },
     "execution_count": 194,
     "metadata": {},
     "output_type": "execute_result"
    }
   ],
   "source": [
    "\n",
    "gdf.loc[gdf['cluster'] == '14']"
   ]
  },
  {
   "cell_type": "code",
   "execution_count": 191,
   "id": "51a58063",
   "metadata": {},
   "outputs": [
    {
     "data": {
      "application/vnd.plotly.v1+json": {
       "config": {
        "plotlyServerURL": "https://plot.ly"
       },
       "data": [
        {
         "hovertemplate": "cluster=15<br>Latitude=%{lat}<br>Longitude=%{lon}<extra></extra>",
         "lat": [
          37.422104
         ],
         "legendgroup": "15",
         "lon": [
          -122.11351
         ],
         "marker": {
          "color": "#636efa",
          "size": 16
         },
         "mode": "markers",
         "name": "15",
         "showlegend": true,
         "subplot": "mapbox",
         "type": "scattermapbox"
        },
        {
         "hovertemplate": "cluster=16<br>Latitude=%{lat}<br>Longitude=%{lon}<extra></extra>",
         "lat": [
          37.42212970564091
         ],
         "legendgroup": "16",
         "lon": [
          -122.11334749936854
         ],
         "marker": {
          "color": "#EF553B",
          "size": 16
         },
         "mode": "markers",
         "name": "16",
         "showlegend": true,
         "subplot": "mapbox",
         "type": "scattermapbox"
        },
        {
         "hovertemplate": "cluster=17<br>Latitude=%{lat}<br>Longitude=%{lon}<extra></extra>",
         "lat": [
          37.422169
         ],
         "legendgroup": "17",
         "lon": [
          -122.11248
         ],
         "marker": {
          "color": "#00cc96",
          "size": 16
         },
         "mode": "markers",
         "name": "17",
         "showlegend": true,
         "subplot": "mapbox",
         "type": "scattermapbox"
        },
        {
         "hovertemplate": "cluster=9<br>Latitude=%{lat}<br>Longitude=%{lon}<extra></extra>",
         "lat": [
          37.426183016989754
         ],
         "legendgroup": "9",
         "lon": [
          -122.14604166541054
         ],
         "marker": {
          "color": "#ab63fa",
          "size": 16
         },
         "mode": "markers",
         "name": "9",
         "showlegend": true,
         "subplot": "mapbox",
         "type": "scattermapbox"
        },
        {
         "hovertemplate": "cluster=10<br>Latitude=%{lat}<br>Longitude=%{lon}<extra></extra>",
         "lat": [
          37.42733943933589
         ],
         "legendgroup": "10",
         "lon": [
          -122.1456875734355
         ],
         "marker": {
          "color": "#FFA15A",
          "size": 16
         },
         "mode": "markers",
         "name": "10",
         "showlegend": true,
         "subplot": "mapbox",
         "type": "scattermapbox"
        },
        {
         "hovertemplate": "cluster=13<br>Latitude=%{lat}<br>Longitude=%{lon}<extra></extra>",
         "lat": [
          37.42662382051282
         ],
         "legendgroup": "13",
         "lon": [
          -122.1433521025641
         ],
         "marker": {
          "color": "#19d3f3",
          "size": 16
         },
         "mode": "markers",
         "name": "13",
         "showlegend": true,
         "subplot": "mapbox",
         "type": "scattermapbox"
        },
        {
         "hovertemplate": "cluster=11<br>Latitude=%{lat}<br>Longitude=%{lon}<extra></extra>",
         "lat": [
          37.428318
         ],
         "legendgroup": "11",
         "lon": [
          -122.144188
         ],
         "marker": {
          "color": "#FF6692",
          "size": 16
         },
         "mode": "markers",
         "name": "11",
         "showlegend": true,
         "subplot": "mapbox",
         "type": "scattermapbox"
        },
        {
         "hovertemplate": "cluster=12<br>Latitude=%{lat}<br>Longitude=%{lon}<extra></extra>",
         "lat": [
          37.42859854378081
         ],
         "legendgroup": "12",
         "lon": [
          -122.14398925746593
         ],
         "marker": {
          "color": "#B6E880",
          "size": 16
         },
         "mode": "markers",
         "name": "12",
         "showlegend": true,
         "subplot": "mapbox",
         "type": "scattermapbox"
        },
        {
         "hovertemplate": "cluster=1<br>Latitude=%{lat}<br>Longitude=%{lon}<extra></extra>",
         "lat": [
          37.44327541053483
         ],
         "legendgroup": "1",
         "lon": [
          -122.16313332273036
         ],
         "marker": {
          "color": "#FF97FF",
          "size": 16
         },
         "mode": "markers",
         "name": "1",
         "showlegend": true,
         "subplot": "mapbox",
         "type": "scattermapbox"
        },
        {
         "hovertemplate": "cluster=2<br>Latitude=%{lat}<br>Longitude=%{lon}<extra></extra>",
         "lat": [
          37.44362640506792
         ],
         "legendgroup": "2",
         "lon": [
          -122.16286697082293
         ],
         "marker": {
          "color": "#FECB52",
          "size": 16
         },
         "mode": "markers",
         "name": "2",
         "showlegend": true,
         "subplot": "mapbox",
         "type": "scattermapbox"
        },
        {
         "hovertemplate": "cluster=5<br>Latitude=%{lat}<br>Longitude=%{lon}<extra></extra>",
         "lat": [
          37.44444982570622
         ],
         "legendgroup": "5",
         "lon": [
          -122.16022957522387
         ],
         "marker": {
          "color": "#636efa",
          "size": 16
         },
         "mode": "markers",
         "name": "5",
         "showlegend": true,
         "subplot": "mapbox",
         "type": "scattermapbox"
        },
        {
         "hovertemplate": "cluster=6<br>Latitude=%{lat}<br>Longitude=%{lon}<extra></extra>",
         "lat": [
          37.44465845993694
         ],
         "legendgroup": "6",
         "lon": [
          -122.16029752103718
         ],
         "marker": {
          "color": "#EF553B",
          "size": 16
         },
         "mode": "markers",
         "name": "6",
         "showlegend": true,
         "subplot": "mapbox",
         "type": "scattermapbox"
        },
        {
         "hovertemplate": "cluster=14<br>Latitude=%{lat}<br>Longitude=%{lon}<extra></extra>",
         "lat": [
          37.445496684789745
         ],
         "legendgroup": "14",
         "lon": [
          -122.13889701823258
         ],
         "marker": {
          "color": "#00cc96",
          "size": 16
         },
         "mode": "markers",
         "name": "14",
         "showlegend": true,
         "subplot": "mapbox",
         "type": "scattermapbox"
        },
        {
         "hovertemplate": "cluster=3<br>Latitude=%{lat}<br>Longitude=%{lon}<extra></extra>",
         "lat": [
          37.446373
         ],
         "legendgroup": "3",
         "lon": [
          -122.162331
         ],
         "marker": {
          "color": "#ab63fa",
          "size": 16
         },
         "mode": "markers",
         "name": "3",
         "showlegend": true,
         "subplot": "mapbox",
         "type": "scattermapbox"
        },
        {
         "hovertemplate": "cluster=4<br>Latitude=%{lat}<br>Longitude=%{lon}<extra></extra>",
         "lat": [
          37.446607508094964
         ],
         "legendgroup": "4",
         "lon": [
          -122.1622163028519
         ],
         "marker": {
          "color": "#FFA15A",
          "size": 16
         },
         "mode": "markers",
         "name": "4",
         "showlegend": true,
         "subplot": "mapbox",
         "type": "scattermapbox"
        },
        {
         "hovertemplate": "cluster=7<br>Latitude=%{lat}<br>Longitude=%{lon}<extra></extra>",
         "lat": [
          37.448264507317674
         ],
         "legendgroup": "7",
         "lon": [
          -122.15823855577419
         ],
         "marker": {
          "color": "#19d3f3",
          "size": 16
         },
         "mode": "markers",
         "name": "7",
         "showlegend": true,
         "subplot": "mapbox",
         "type": "scattermapbox"
        },
        {
         "hovertemplate": "cluster=8<br>Latitude=%{lat}<br>Longitude=%{lon}<extra></extra>",
         "lat": [
          37.44934896561944
         ],
         "legendgroup": "8",
         "lon": [
          -122.15776910867419
         ],
         "marker": {
          "color": "#FF6692",
          "size": 16
         },
         "mode": "markers",
         "name": "8",
         "showlegend": true,
         "subplot": "mapbox",
         "type": "scattermapbox"
        }
       ],
       "layout": {
        "height": 600,
        "legend": {
         "title": {
          "text": "cluster"
         },
         "tracegroupgap": 0
        },
        "mapbox": {
         "accesstoken": "pk.eyJ1IjoibWlzaGFncm9sIiwiYSI6ImNrdGtjbHV5aTFrd20ydW11bDdobWtoaTkifQ.4o97K1zdDfY61Sj9377N6Q\n",
         "center": {
          "lat": 37.436209781960464,
          "lon": -122.1463867925642
         },
         "domain": {
          "x": [
           0,
           1
          ],
          "y": [
           0,
           1
          ]
         },
         "style": "satellite",
         "zoom": 13
        },
        "margin": {
         "b": 0,
         "l": 0,
         "r": 0,
         "t": 0
        },
        "template": {
         "data": {
          "bar": [
           {
            "error_x": {
             "color": "#2a3f5f"
            },
            "error_y": {
             "color": "#2a3f5f"
            },
            "marker": {
             "line": {
              "color": "#E5ECF6",
              "width": 0.5
             },
             "pattern": {
              "fillmode": "overlay",
              "size": 10,
              "solidity": 0.2
             }
            },
            "type": "bar"
           }
          ],
          "barpolar": [
           {
            "marker": {
             "line": {
              "color": "#E5ECF6",
              "width": 0.5
             },
             "pattern": {
              "fillmode": "overlay",
              "size": 10,
              "solidity": 0.2
             }
            },
            "type": "barpolar"
           }
          ],
          "carpet": [
           {
            "aaxis": {
             "endlinecolor": "#2a3f5f",
             "gridcolor": "white",
             "linecolor": "white",
             "minorgridcolor": "white",
             "startlinecolor": "#2a3f5f"
            },
            "baxis": {
             "endlinecolor": "#2a3f5f",
             "gridcolor": "white",
             "linecolor": "white",
             "minorgridcolor": "white",
             "startlinecolor": "#2a3f5f"
            },
            "type": "carpet"
           }
          ],
          "choropleth": [
           {
            "colorbar": {
             "outlinewidth": 0,
             "ticks": ""
            },
            "type": "choropleth"
           }
          ],
          "contour": [
           {
            "colorbar": {
             "outlinewidth": 0,
             "ticks": ""
            },
            "colorscale": [
             [
              0,
              "#0d0887"
             ],
             [
              0.1111111111111111,
              "#46039f"
             ],
             [
              0.2222222222222222,
              "#7201a8"
             ],
             [
              0.3333333333333333,
              "#9c179e"
             ],
             [
              0.4444444444444444,
              "#bd3786"
             ],
             [
              0.5555555555555556,
              "#d8576b"
             ],
             [
              0.6666666666666666,
              "#ed7953"
             ],
             [
              0.7777777777777778,
              "#fb9f3a"
             ],
             [
              0.8888888888888888,
              "#fdca26"
             ],
             [
              1,
              "#f0f921"
             ]
            ],
            "type": "contour"
           }
          ],
          "contourcarpet": [
           {
            "colorbar": {
             "outlinewidth": 0,
             "ticks": ""
            },
            "type": "contourcarpet"
           }
          ],
          "heatmap": [
           {
            "colorbar": {
             "outlinewidth": 0,
             "ticks": ""
            },
            "colorscale": [
             [
              0,
              "#0d0887"
             ],
             [
              0.1111111111111111,
              "#46039f"
             ],
             [
              0.2222222222222222,
              "#7201a8"
             ],
             [
              0.3333333333333333,
              "#9c179e"
             ],
             [
              0.4444444444444444,
              "#bd3786"
             ],
             [
              0.5555555555555556,
              "#d8576b"
             ],
             [
              0.6666666666666666,
              "#ed7953"
             ],
             [
              0.7777777777777778,
              "#fb9f3a"
             ],
             [
              0.8888888888888888,
              "#fdca26"
             ],
             [
              1,
              "#f0f921"
             ]
            ],
            "type": "heatmap"
           }
          ],
          "heatmapgl": [
           {
            "colorbar": {
             "outlinewidth": 0,
             "ticks": ""
            },
            "colorscale": [
             [
              0,
              "#0d0887"
             ],
             [
              0.1111111111111111,
              "#46039f"
             ],
             [
              0.2222222222222222,
              "#7201a8"
             ],
             [
              0.3333333333333333,
              "#9c179e"
             ],
             [
              0.4444444444444444,
              "#bd3786"
             ],
             [
              0.5555555555555556,
              "#d8576b"
             ],
             [
              0.6666666666666666,
              "#ed7953"
             ],
             [
              0.7777777777777778,
              "#fb9f3a"
             ],
             [
              0.8888888888888888,
              "#fdca26"
             ],
             [
              1,
              "#f0f921"
             ]
            ],
            "type": "heatmapgl"
           }
          ],
          "histogram": [
           {
            "marker": {
             "pattern": {
              "fillmode": "overlay",
              "size": 10,
              "solidity": 0.2
             }
            },
            "type": "histogram"
           }
          ],
          "histogram2d": [
           {
            "colorbar": {
             "outlinewidth": 0,
             "ticks": ""
            },
            "colorscale": [
             [
              0,
              "#0d0887"
             ],
             [
              0.1111111111111111,
              "#46039f"
             ],
             [
              0.2222222222222222,
              "#7201a8"
             ],
             [
              0.3333333333333333,
              "#9c179e"
             ],
             [
              0.4444444444444444,
              "#bd3786"
             ],
             [
              0.5555555555555556,
              "#d8576b"
             ],
             [
              0.6666666666666666,
              "#ed7953"
             ],
             [
              0.7777777777777778,
              "#fb9f3a"
             ],
             [
              0.8888888888888888,
              "#fdca26"
             ],
             [
              1,
              "#f0f921"
             ]
            ],
            "type": "histogram2d"
           }
          ],
          "histogram2dcontour": [
           {
            "colorbar": {
             "outlinewidth": 0,
             "ticks": ""
            },
            "colorscale": [
             [
              0,
              "#0d0887"
             ],
             [
              0.1111111111111111,
              "#46039f"
             ],
             [
              0.2222222222222222,
              "#7201a8"
             ],
             [
              0.3333333333333333,
              "#9c179e"
             ],
             [
              0.4444444444444444,
              "#bd3786"
             ],
             [
              0.5555555555555556,
              "#d8576b"
             ],
             [
              0.6666666666666666,
              "#ed7953"
             ],
             [
              0.7777777777777778,
              "#fb9f3a"
             ],
             [
              0.8888888888888888,
              "#fdca26"
             ],
             [
              1,
              "#f0f921"
             ]
            ],
            "type": "histogram2dcontour"
           }
          ],
          "mesh3d": [
           {
            "colorbar": {
             "outlinewidth": 0,
             "ticks": ""
            },
            "type": "mesh3d"
           }
          ],
          "parcoords": [
           {
            "line": {
             "colorbar": {
              "outlinewidth": 0,
              "ticks": ""
             }
            },
            "type": "parcoords"
           }
          ],
          "pie": [
           {
            "automargin": true,
            "type": "pie"
           }
          ],
          "scatter": [
           {
            "marker": {
             "colorbar": {
              "outlinewidth": 0,
              "ticks": ""
             }
            },
            "type": "scatter"
           }
          ],
          "scatter3d": [
           {
            "line": {
             "colorbar": {
              "outlinewidth": 0,
              "ticks": ""
             }
            },
            "marker": {
             "colorbar": {
              "outlinewidth": 0,
              "ticks": ""
             }
            },
            "type": "scatter3d"
           }
          ],
          "scattercarpet": [
           {
            "marker": {
             "colorbar": {
              "outlinewidth": 0,
              "ticks": ""
             }
            },
            "type": "scattercarpet"
           }
          ],
          "scattergeo": [
           {
            "marker": {
             "colorbar": {
              "outlinewidth": 0,
              "ticks": ""
             }
            },
            "type": "scattergeo"
           }
          ],
          "scattergl": [
           {
            "marker": {
             "colorbar": {
              "outlinewidth": 0,
              "ticks": ""
             }
            },
            "type": "scattergl"
           }
          ],
          "scattermapbox": [
           {
            "marker": {
             "colorbar": {
              "outlinewidth": 0,
              "ticks": ""
             }
            },
            "type": "scattermapbox"
           }
          ],
          "scatterpolar": [
           {
            "marker": {
             "colorbar": {
              "outlinewidth": 0,
              "ticks": ""
             }
            },
            "type": "scatterpolar"
           }
          ],
          "scatterpolargl": [
           {
            "marker": {
             "colorbar": {
              "outlinewidth": 0,
              "ticks": ""
             }
            },
            "type": "scatterpolargl"
           }
          ],
          "scatterternary": [
           {
            "marker": {
             "colorbar": {
              "outlinewidth": 0,
              "ticks": ""
             }
            },
            "type": "scatterternary"
           }
          ],
          "surface": [
           {
            "colorbar": {
             "outlinewidth": 0,
             "ticks": ""
            },
            "colorscale": [
             [
              0,
              "#0d0887"
             ],
             [
              0.1111111111111111,
              "#46039f"
             ],
             [
              0.2222222222222222,
              "#7201a8"
             ],
             [
              0.3333333333333333,
              "#9c179e"
             ],
             [
              0.4444444444444444,
              "#bd3786"
             ],
             [
              0.5555555555555556,
              "#d8576b"
             ],
             [
              0.6666666666666666,
              "#ed7953"
             ],
             [
              0.7777777777777778,
              "#fb9f3a"
             ],
             [
              0.8888888888888888,
              "#fdca26"
             ],
             [
              1,
              "#f0f921"
             ]
            ],
            "type": "surface"
           }
          ],
          "table": [
           {
            "cells": {
             "fill": {
              "color": "#EBF0F8"
             },
             "line": {
              "color": "white"
             }
            },
            "header": {
             "fill": {
              "color": "#C8D4E3"
             },
             "line": {
              "color": "white"
             }
            },
            "type": "table"
           }
          ]
         },
         "layout": {
          "annotationdefaults": {
           "arrowcolor": "#2a3f5f",
           "arrowhead": 0,
           "arrowwidth": 1
          },
          "autotypenumbers": "strict",
          "coloraxis": {
           "colorbar": {
            "outlinewidth": 0,
            "ticks": ""
           }
          },
          "colorscale": {
           "diverging": [
            [
             0,
             "#8e0152"
            ],
            [
             0.1,
             "#c51b7d"
            ],
            [
             0.2,
             "#de77ae"
            ],
            [
             0.3,
             "#f1b6da"
            ],
            [
             0.4,
             "#fde0ef"
            ],
            [
             0.5,
             "#f7f7f7"
            ],
            [
             0.6,
             "#e6f5d0"
            ],
            [
             0.7,
             "#b8e186"
            ],
            [
             0.8,
             "#7fbc41"
            ],
            [
             0.9,
             "#4d9221"
            ],
            [
             1,
             "#276419"
            ]
           ],
           "sequential": [
            [
             0,
             "#0d0887"
            ],
            [
             0.1111111111111111,
             "#46039f"
            ],
            [
             0.2222222222222222,
             "#7201a8"
            ],
            [
             0.3333333333333333,
             "#9c179e"
            ],
            [
             0.4444444444444444,
             "#bd3786"
            ],
            [
             0.5555555555555556,
             "#d8576b"
            ],
            [
             0.6666666666666666,
             "#ed7953"
            ],
            [
             0.7777777777777778,
             "#fb9f3a"
            ],
            [
             0.8888888888888888,
             "#fdca26"
            ],
            [
             1,
             "#f0f921"
            ]
           ],
           "sequentialminus": [
            [
             0,
             "#0d0887"
            ],
            [
             0.1111111111111111,
             "#46039f"
            ],
            [
             0.2222222222222222,
             "#7201a8"
            ],
            [
             0.3333333333333333,
             "#9c179e"
            ],
            [
             0.4444444444444444,
             "#bd3786"
            ],
            [
             0.5555555555555556,
             "#d8576b"
            ],
            [
             0.6666666666666666,
             "#ed7953"
            ],
            [
             0.7777777777777778,
             "#fb9f3a"
            ],
            [
             0.8888888888888888,
             "#fdca26"
            ],
            [
             1,
             "#f0f921"
            ]
           ]
          },
          "colorway": [
           "#636efa",
           "#EF553B",
           "#00cc96",
           "#ab63fa",
           "#FFA15A",
           "#19d3f3",
           "#FF6692",
           "#B6E880",
           "#FF97FF",
           "#FECB52"
          ],
          "font": {
           "color": "#2a3f5f"
          },
          "geo": {
           "bgcolor": "white",
           "lakecolor": "white",
           "landcolor": "#E5ECF6",
           "showlakes": true,
           "showland": true,
           "subunitcolor": "white"
          },
          "hoverlabel": {
           "align": "left"
          },
          "hovermode": "closest",
          "mapbox": {
           "style": "light"
          },
          "paper_bgcolor": "white",
          "plot_bgcolor": "#E5ECF6",
          "polar": {
           "angularaxis": {
            "gridcolor": "white",
            "linecolor": "white",
            "ticks": ""
           },
           "bgcolor": "#E5ECF6",
           "radialaxis": {
            "gridcolor": "white",
            "linecolor": "white",
            "ticks": ""
           }
          },
          "scene": {
           "xaxis": {
            "backgroundcolor": "#E5ECF6",
            "gridcolor": "white",
            "gridwidth": 2,
            "linecolor": "white",
            "showbackground": true,
            "ticks": "",
            "zerolinecolor": "white"
           },
           "yaxis": {
            "backgroundcolor": "#E5ECF6",
            "gridcolor": "white",
            "gridwidth": 2,
            "linecolor": "white",
            "showbackground": true,
            "ticks": "",
            "zerolinecolor": "white"
           },
           "zaxis": {
            "backgroundcolor": "#E5ECF6",
            "gridcolor": "white",
            "gridwidth": 2,
            "linecolor": "white",
            "showbackground": true,
            "ticks": "",
            "zerolinecolor": "white"
           }
          },
          "shapedefaults": {
           "line": {
            "color": "#2a3f5f"
           }
          },
          "ternary": {
           "aaxis": {
            "gridcolor": "white",
            "linecolor": "white",
            "ticks": ""
           },
           "baxis": {
            "gridcolor": "white",
            "linecolor": "white",
            "ticks": ""
           },
           "bgcolor": "#E5ECF6",
           "caxis": {
            "gridcolor": "white",
            "linecolor": "white",
            "ticks": ""
           }
          },
          "title": {
           "x": 0.05
          },
          "xaxis": {
           "automargin": true,
           "gridcolor": "white",
           "linecolor": "white",
           "ticks": "",
           "title": {
            "standoff": 15
           },
           "zerolinecolor": "white",
           "zerolinewidth": 2
          },
          "yaxis": {
           "automargin": true,
           "gridcolor": "white",
           "linecolor": "white",
           "ticks": "",
           "title": {
            "standoff": 15
           },
           "zerolinecolor": "white",
           "zerolinewidth": 2
          }
         }
        }
       }
      },
      "text/html": [
       "<div>                            <div id=\"de8dcfd0-a80a-47eb-b4cb-6c4c85fd451c\" class=\"plotly-graph-div\" style=\"height:600px; width:100%;\"></div>            <script type=\"text/javascript\">                require([\"plotly\"], function(Plotly) {                    window.PLOTLYENV=window.PLOTLYENV || {};                                    if (document.getElementById(\"de8dcfd0-a80a-47eb-b4cb-6c4c85fd451c\")) {                    Plotly.newPlot(                        \"de8dcfd0-a80a-47eb-b4cb-6c4c85fd451c\",                        [{\"hovertemplate\":\"cluster=15<br>Latitude=%{lat}<br>Longitude=%{lon}<extra></extra>\",\"lat\":[37.422104],\"legendgroup\":\"15\",\"lon\":[-122.11351],\"marker\":{\"color\":\"#636efa\",\"size\":16},\"mode\":\"markers\",\"name\":\"15\",\"showlegend\":true,\"subplot\":\"mapbox\",\"type\":\"scattermapbox\"},{\"hovertemplate\":\"cluster=16<br>Latitude=%{lat}<br>Longitude=%{lon}<extra></extra>\",\"lat\":[37.42212970564091],\"legendgroup\":\"16\",\"lon\":[-122.11334749936854],\"marker\":{\"color\":\"#EF553B\",\"size\":16},\"mode\":\"markers\",\"name\":\"16\",\"showlegend\":true,\"subplot\":\"mapbox\",\"type\":\"scattermapbox\"},{\"hovertemplate\":\"cluster=17<br>Latitude=%{lat}<br>Longitude=%{lon}<extra></extra>\",\"lat\":[37.422169],\"legendgroup\":\"17\",\"lon\":[-122.11248],\"marker\":{\"color\":\"#00cc96\",\"size\":16},\"mode\":\"markers\",\"name\":\"17\",\"showlegend\":true,\"subplot\":\"mapbox\",\"type\":\"scattermapbox\"},{\"hovertemplate\":\"cluster=9<br>Latitude=%{lat}<br>Longitude=%{lon}<extra></extra>\",\"lat\":[37.426183016989754],\"legendgroup\":\"9\",\"lon\":[-122.14604166541054],\"marker\":{\"color\":\"#ab63fa\",\"size\":16},\"mode\":\"markers\",\"name\":\"9\",\"showlegend\":true,\"subplot\":\"mapbox\",\"type\":\"scattermapbox\"},{\"hovertemplate\":\"cluster=10<br>Latitude=%{lat}<br>Longitude=%{lon}<extra></extra>\",\"lat\":[37.42733943933589],\"legendgroup\":\"10\",\"lon\":[-122.1456875734355],\"marker\":{\"color\":\"#FFA15A\",\"size\":16},\"mode\":\"markers\",\"name\":\"10\",\"showlegend\":true,\"subplot\":\"mapbox\",\"type\":\"scattermapbox\"},{\"hovertemplate\":\"cluster=13<br>Latitude=%{lat}<br>Longitude=%{lon}<extra></extra>\",\"lat\":[37.42662382051282],\"legendgroup\":\"13\",\"lon\":[-122.1433521025641],\"marker\":{\"color\":\"#19d3f3\",\"size\":16},\"mode\":\"markers\",\"name\":\"13\",\"showlegend\":true,\"subplot\":\"mapbox\",\"type\":\"scattermapbox\"},{\"hovertemplate\":\"cluster=11<br>Latitude=%{lat}<br>Longitude=%{lon}<extra></extra>\",\"lat\":[37.428318],\"legendgroup\":\"11\",\"lon\":[-122.144188],\"marker\":{\"color\":\"#FF6692\",\"size\":16},\"mode\":\"markers\",\"name\":\"11\",\"showlegend\":true,\"subplot\":\"mapbox\",\"type\":\"scattermapbox\"},{\"hovertemplate\":\"cluster=12<br>Latitude=%{lat}<br>Longitude=%{lon}<extra></extra>\",\"lat\":[37.42859854378081],\"legendgroup\":\"12\",\"lon\":[-122.14398925746593],\"marker\":{\"color\":\"#B6E880\",\"size\":16},\"mode\":\"markers\",\"name\":\"12\",\"showlegend\":true,\"subplot\":\"mapbox\",\"type\":\"scattermapbox\"},{\"hovertemplate\":\"cluster=1<br>Latitude=%{lat}<br>Longitude=%{lon}<extra></extra>\",\"lat\":[37.44327541053483],\"legendgroup\":\"1\",\"lon\":[-122.16313332273036],\"marker\":{\"color\":\"#FF97FF\",\"size\":16},\"mode\":\"markers\",\"name\":\"1\",\"showlegend\":true,\"subplot\":\"mapbox\",\"type\":\"scattermapbox\"},{\"hovertemplate\":\"cluster=2<br>Latitude=%{lat}<br>Longitude=%{lon}<extra></extra>\",\"lat\":[37.44362640506792],\"legendgroup\":\"2\",\"lon\":[-122.16286697082293],\"marker\":{\"color\":\"#FECB52\",\"size\":16},\"mode\":\"markers\",\"name\":\"2\",\"showlegend\":true,\"subplot\":\"mapbox\",\"type\":\"scattermapbox\"},{\"hovertemplate\":\"cluster=5<br>Latitude=%{lat}<br>Longitude=%{lon}<extra></extra>\",\"lat\":[37.44444982570622],\"legendgroup\":\"5\",\"lon\":[-122.16022957522387],\"marker\":{\"color\":\"#636efa\",\"size\":16},\"mode\":\"markers\",\"name\":\"5\",\"showlegend\":true,\"subplot\":\"mapbox\",\"type\":\"scattermapbox\"},{\"hovertemplate\":\"cluster=6<br>Latitude=%{lat}<br>Longitude=%{lon}<extra></extra>\",\"lat\":[37.44465845993694],\"legendgroup\":\"6\",\"lon\":[-122.16029752103718],\"marker\":{\"color\":\"#EF553B\",\"size\":16},\"mode\":\"markers\",\"name\":\"6\",\"showlegend\":true,\"subplot\":\"mapbox\",\"type\":\"scattermapbox\"},{\"hovertemplate\":\"cluster=14<br>Latitude=%{lat}<br>Longitude=%{lon}<extra></extra>\",\"lat\":[37.445496684789745],\"legendgroup\":\"14\",\"lon\":[-122.13889701823258],\"marker\":{\"color\":\"#00cc96\",\"size\":16},\"mode\":\"markers\",\"name\":\"14\",\"showlegend\":true,\"subplot\":\"mapbox\",\"type\":\"scattermapbox\"},{\"hovertemplate\":\"cluster=3<br>Latitude=%{lat}<br>Longitude=%{lon}<extra></extra>\",\"lat\":[37.446373],\"legendgroup\":\"3\",\"lon\":[-122.162331],\"marker\":{\"color\":\"#ab63fa\",\"size\":16},\"mode\":\"markers\",\"name\":\"3\",\"showlegend\":true,\"subplot\":\"mapbox\",\"type\":\"scattermapbox\"},{\"hovertemplate\":\"cluster=4<br>Latitude=%{lat}<br>Longitude=%{lon}<extra></extra>\",\"lat\":[37.446607508094964],\"legendgroup\":\"4\",\"lon\":[-122.1622163028519],\"marker\":{\"color\":\"#FFA15A\",\"size\":16},\"mode\":\"markers\",\"name\":\"4\",\"showlegend\":true,\"subplot\":\"mapbox\",\"type\":\"scattermapbox\"},{\"hovertemplate\":\"cluster=7<br>Latitude=%{lat}<br>Longitude=%{lon}<extra></extra>\",\"lat\":[37.448264507317674],\"legendgroup\":\"7\",\"lon\":[-122.15823855577419],\"marker\":{\"color\":\"#19d3f3\",\"size\":16},\"mode\":\"markers\",\"name\":\"7\",\"showlegend\":true,\"subplot\":\"mapbox\",\"type\":\"scattermapbox\"},{\"hovertemplate\":\"cluster=8<br>Latitude=%{lat}<br>Longitude=%{lon}<extra></extra>\",\"lat\":[37.44934896561944],\"legendgroup\":\"8\",\"lon\":[-122.15776910867419],\"marker\":{\"color\":\"#FF6692\",\"size\":16},\"mode\":\"markers\",\"name\":\"8\",\"showlegend\":true,\"subplot\":\"mapbox\",\"type\":\"scattermapbox\"}],                        {\"template\":{\"data\":{\"bar\":[{\"error_x\":{\"color\":\"#2a3f5f\"},\"error_y\":{\"color\":\"#2a3f5f\"},\"marker\":{\"line\":{\"color\":\"#E5ECF6\",\"width\":0.5},\"pattern\":{\"fillmode\":\"overlay\",\"size\":10,\"solidity\":0.2}},\"type\":\"bar\"}],\"barpolar\":[{\"marker\":{\"line\":{\"color\":\"#E5ECF6\",\"width\":0.5},\"pattern\":{\"fillmode\":\"overlay\",\"size\":10,\"solidity\":0.2}},\"type\":\"barpolar\"}],\"carpet\":[{\"aaxis\":{\"endlinecolor\":\"#2a3f5f\",\"gridcolor\":\"white\",\"linecolor\":\"white\",\"minorgridcolor\":\"white\",\"startlinecolor\":\"#2a3f5f\"},\"baxis\":{\"endlinecolor\":\"#2a3f5f\",\"gridcolor\":\"white\",\"linecolor\":\"white\",\"minorgridcolor\":\"white\",\"startlinecolor\":\"#2a3f5f\"},\"type\":\"carpet\"}],\"choropleth\":[{\"colorbar\":{\"outlinewidth\":0,\"ticks\":\"\"},\"type\":\"choropleth\"}],\"contour\":[{\"colorbar\":{\"outlinewidth\":0,\"ticks\":\"\"},\"colorscale\":[[0.0,\"#0d0887\"],[0.1111111111111111,\"#46039f\"],[0.2222222222222222,\"#7201a8\"],[0.3333333333333333,\"#9c179e\"],[0.4444444444444444,\"#bd3786\"],[0.5555555555555556,\"#d8576b\"],[0.6666666666666666,\"#ed7953\"],[0.7777777777777778,\"#fb9f3a\"],[0.8888888888888888,\"#fdca26\"],[1.0,\"#f0f921\"]],\"type\":\"contour\"}],\"contourcarpet\":[{\"colorbar\":{\"outlinewidth\":0,\"ticks\":\"\"},\"type\":\"contourcarpet\"}],\"heatmap\":[{\"colorbar\":{\"outlinewidth\":0,\"ticks\":\"\"},\"colorscale\":[[0.0,\"#0d0887\"],[0.1111111111111111,\"#46039f\"],[0.2222222222222222,\"#7201a8\"],[0.3333333333333333,\"#9c179e\"],[0.4444444444444444,\"#bd3786\"],[0.5555555555555556,\"#d8576b\"],[0.6666666666666666,\"#ed7953\"],[0.7777777777777778,\"#fb9f3a\"],[0.8888888888888888,\"#fdca26\"],[1.0,\"#f0f921\"]],\"type\":\"heatmap\"}],\"heatmapgl\":[{\"colorbar\":{\"outlinewidth\":0,\"ticks\":\"\"},\"colorscale\":[[0.0,\"#0d0887\"],[0.1111111111111111,\"#46039f\"],[0.2222222222222222,\"#7201a8\"],[0.3333333333333333,\"#9c179e\"],[0.4444444444444444,\"#bd3786\"],[0.5555555555555556,\"#d8576b\"],[0.6666666666666666,\"#ed7953\"],[0.7777777777777778,\"#fb9f3a\"],[0.8888888888888888,\"#fdca26\"],[1.0,\"#f0f921\"]],\"type\":\"heatmapgl\"}],\"histogram\":[{\"marker\":{\"pattern\":{\"fillmode\":\"overlay\",\"size\":10,\"solidity\":0.2}},\"type\":\"histogram\"}],\"histogram2d\":[{\"colorbar\":{\"outlinewidth\":0,\"ticks\":\"\"},\"colorscale\":[[0.0,\"#0d0887\"],[0.1111111111111111,\"#46039f\"],[0.2222222222222222,\"#7201a8\"],[0.3333333333333333,\"#9c179e\"],[0.4444444444444444,\"#bd3786\"],[0.5555555555555556,\"#d8576b\"],[0.6666666666666666,\"#ed7953\"],[0.7777777777777778,\"#fb9f3a\"],[0.8888888888888888,\"#fdca26\"],[1.0,\"#f0f921\"]],\"type\":\"histogram2d\"}],\"histogram2dcontour\":[{\"colorbar\":{\"outlinewidth\":0,\"ticks\":\"\"},\"colorscale\":[[0.0,\"#0d0887\"],[0.1111111111111111,\"#46039f\"],[0.2222222222222222,\"#7201a8\"],[0.3333333333333333,\"#9c179e\"],[0.4444444444444444,\"#bd3786\"],[0.5555555555555556,\"#d8576b\"],[0.6666666666666666,\"#ed7953\"],[0.7777777777777778,\"#fb9f3a\"],[0.8888888888888888,\"#fdca26\"],[1.0,\"#f0f921\"]],\"type\":\"histogram2dcontour\"}],\"mesh3d\":[{\"colorbar\":{\"outlinewidth\":0,\"ticks\":\"\"},\"type\":\"mesh3d\"}],\"parcoords\":[{\"line\":{\"colorbar\":{\"outlinewidth\":0,\"ticks\":\"\"}},\"type\":\"parcoords\"}],\"pie\":[{\"automargin\":true,\"type\":\"pie\"}],\"scatter\":[{\"marker\":{\"colorbar\":{\"outlinewidth\":0,\"ticks\":\"\"}},\"type\":\"scatter\"}],\"scatter3d\":[{\"line\":{\"colorbar\":{\"outlinewidth\":0,\"ticks\":\"\"}},\"marker\":{\"colorbar\":{\"outlinewidth\":0,\"ticks\":\"\"}},\"type\":\"scatter3d\"}],\"scattercarpet\":[{\"marker\":{\"colorbar\":{\"outlinewidth\":0,\"ticks\":\"\"}},\"type\":\"scattercarpet\"}],\"scattergeo\":[{\"marker\":{\"colorbar\":{\"outlinewidth\":0,\"ticks\":\"\"}},\"type\":\"scattergeo\"}],\"scattergl\":[{\"marker\":{\"colorbar\":{\"outlinewidth\":0,\"ticks\":\"\"}},\"type\":\"scattergl\"}],\"scattermapbox\":[{\"marker\":{\"colorbar\":{\"outlinewidth\":0,\"ticks\":\"\"}},\"type\":\"scattermapbox\"}],\"scatterpolar\":[{\"marker\":{\"colorbar\":{\"outlinewidth\":0,\"ticks\":\"\"}},\"type\":\"scatterpolar\"}],\"scatterpolargl\":[{\"marker\":{\"colorbar\":{\"outlinewidth\":0,\"ticks\":\"\"}},\"type\":\"scatterpolargl\"}],\"scatterternary\":[{\"marker\":{\"colorbar\":{\"outlinewidth\":0,\"ticks\":\"\"}},\"type\":\"scatterternary\"}],\"surface\":[{\"colorbar\":{\"outlinewidth\":0,\"ticks\":\"\"},\"colorscale\":[[0.0,\"#0d0887\"],[0.1111111111111111,\"#46039f\"],[0.2222222222222222,\"#7201a8\"],[0.3333333333333333,\"#9c179e\"],[0.4444444444444444,\"#bd3786\"],[0.5555555555555556,\"#d8576b\"],[0.6666666666666666,\"#ed7953\"],[0.7777777777777778,\"#fb9f3a\"],[0.8888888888888888,\"#fdca26\"],[1.0,\"#f0f921\"]],\"type\":\"surface\"}],\"table\":[{\"cells\":{\"fill\":{\"color\":\"#EBF0F8\"},\"line\":{\"color\":\"white\"}},\"header\":{\"fill\":{\"color\":\"#C8D4E3\"},\"line\":{\"color\":\"white\"}},\"type\":\"table\"}]},\"layout\":{\"annotationdefaults\":{\"arrowcolor\":\"#2a3f5f\",\"arrowhead\":0,\"arrowwidth\":1},\"autotypenumbers\":\"strict\",\"coloraxis\":{\"colorbar\":{\"outlinewidth\":0,\"ticks\":\"\"}},\"colorscale\":{\"diverging\":[[0,\"#8e0152\"],[0.1,\"#c51b7d\"],[0.2,\"#de77ae\"],[0.3,\"#f1b6da\"],[0.4,\"#fde0ef\"],[0.5,\"#f7f7f7\"],[0.6,\"#e6f5d0\"],[0.7,\"#b8e186\"],[0.8,\"#7fbc41\"],[0.9,\"#4d9221\"],[1,\"#276419\"]],\"sequential\":[[0.0,\"#0d0887\"],[0.1111111111111111,\"#46039f\"],[0.2222222222222222,\"#7201a8\"],[0.3333333333333333,\"#9c179e\"],[0.4444444444444444,\"#bd3786\"],[0.5555555555555556,\"#d8576b\"],[0.6666666666666666,\"#ed7953\"],[0.7777777777777778,\"#fb9f3a\"],[0.8888888888888888,\"#fdca26\"],[1.0,\"#f0f921\"]],\"sequentialminus\":[[0.0,\"#0d0887\"],[0.1111111111111111,\"#46039f\"],[0.2222222222222222,\"#7201a8\"],[0.3333333333333333,\"#9c179e\"],[0.4444444444444444,\"#bd3786\"],[0.5555555555555556,\"#d8576b\"],[0.6666666666666666,\"#ed7953\"],[0.7777777777777778,\"#fb9f3a\"],[0.8888888888888888,\"#fdca26\"],[1.0,\"#f0f921\"]]},\"colorway\":[\"#636efa\",\"#EF553B\",\"#00cc96\",\"#ab63fa\",\"#FFA15A\",\"#19d3f3\",\"#FF6692\",\"#B6E880\",\"#FF97FF\",\"#FECB52\"],\"font\":{\"color\":\"#2a3f5f\"},\"geo\":{\"bgcolor\":\"white\",\"lakecolor\":\"white\",\"landcolor\":\"#E5ECF6\",\"showlakes\":true,\"showland\":true,\"subunitcolor\":\"white\"},\"hoverlabel\":{\"align\":\"left\"},\"hovermode\":\"closest\",\"mapbox\":{\"style\":\"light\"},\"paper_bgcolor\":\"white\",\"plot_bgcolor\":\"#E5ECF6\",\"polar\":{\"angularaxis\":{\"gridcolor\":\"white\",\"linecolor\":\"white\",\"ticks\":\"\"},\"bgcolor\":\"#E5ECF6\",\"radialaxis\":{\"gridcolor\":\"white\",\"linecolor\":\"white\",\"ticks\":\"\"}},\"scene\":{\"xaxis\":{\"backgroundcolor\":\"#E5ECF6\",\"gridcolor\":\"white\",\"gridwidth\":2,\"linecolor\":\"white\",\"showbackground\":true,\"ticks\":\"\",\"zerolinecolor\":\"white\"},\"yaxis\":{\"backgroundcolor\":\"#E5ECF6\",\"gridcolor\":\"white\",\"gridwidth\":2,\"linecolor\":\"white\",\"showbackground\":true,\"ticks\":\"\",\"zerolinecolor\":\"white\"},\"zaxis\":{\"backgroundcolor\":\"#E5ECF6\",\"gridcolor\":\"white\",\"gridwidth\":2,\"linecolor\":\"white\",\"showbackground\":true,\"ticks\":\"\",\"zerolinecolor\":\"white\"}},\"shapedefaults\":{\"line\":{\"color\":\"#2a3f5f\"}},\"ternary\":{\"aaxis\":{\"gridcolor\":\"white\",\"linecolor\":\"white\",\"ticks\":\"\"},\"baxis\":{\"gridcolor\":\"white\",\"linecolor\":\"white\",\"ticks\":\"\"},\"bgcolor\":\"#E5ECF6\",\"caxis\":{\"gridcolor\":\"white\",\"linecolor\":\"white\",\"ticks\":\"\"}},\"title\":{\"x\":0.05},\"xaxis\":{\"automargin\":true,\"gridcolor\":\"white\",\"linecolor\":\"white\",\"ticks\":\"\",\"title\":{\"standoff\":15},\"zerolinecolor\":\"white\",\"zerolinewidth\":2},\"yaxis\":{\"automargin\":true,\"gridcolor\":\"white\",\"linecolor\":\"white\",\"ticks\":\"\",\"title\":{\"standoff\":15},\"zerolinecolor\":\"white\",\"zerolinewidth\":2}}},\"mapbox\":{\"domain\":{\"x\":[0.0,1.0],\"y\":[0.0,1.0]},\"center\":{\"lat\":37.436209781960464,\"lon\":-122.1463867925642},\"zoom\":13,\"style\":\"satellite\",\"accesstoken\":\"pk.eyJ1IjoibWlzaGFncm9sIiwiYSI6ImNrdGtjbHV5aTFrd20ydW11bDdobWtoaTkifQ.4o97K1zdDfY61Sj9377N6Q\\n\"},\"legend\":{\"title\":{\"text\":\"cluster\"},\"tracegroupgap\":0},\"margin\":{\"t\":0,\"r\":0,\"l\":0,\"b\":0},\"height\":600},                        {\"responsive\": true}                    ).then(function(){\n",
       "                            \n",
       "var gd = document.getElementById('de8dcfd0-a80a-47eb-b4cb-6c4c85fd451c');\n",
       "var x = new MutationObserver(function (mutations, observer) {{\n",
       "        var display = window.getComputedStyle(gd).display;\n",
       "        if (!display || display === 'none') {{\n",
       "            console.log([gd, 'removed!']);\n",
       "            Plotly.purge(gd);\n",
       "            observer.disconnect();\n",
       "        }}\n",
       "}});\n",
       "\n",
       "// Listen for the removal of the full notebook cells\n",
       "var notebookContainer = gd.closest('#notebook-container');\n",
       "if (notebookContainer) {{\n",
       "    x.observe(notebookContainer, {childList: true});\n",
       "}}\n",
       "\n",
       "// Listen for the clearing of the current output cell\n",
       "var outputEl = gd.closest('.output');\n",
       "if (outputEl) {{\n",
       "    x.observe(outputEl, {childList: true});\n",
       "}}\n",
       "\n",
       "                        })                };                });            </script>        </div>"
      ]
     },
     "metadata": {},
     "output_type": "display_data"
    }
   ],
   "source": [
    "import plotly.express as px\n",
    "import base64\n",
    "import plotly.graph_objects as go\n",
    "\n",
    "token = open('../.mapbox_token').read()\n",
    "\n",
    "\n",
    "fig_1 = px.scatter_mapbox(gdf, lat='Latitude', lon='Longitude',\n",
    "                          color='cluster',\n",
    "#                          color_continuous_scale='blues',\n",
    "                          zoom=13, height=600)\n",
    "\n",
    "fig_1.update_layout(mapbox_style=\"satellite\",mapbox_accesstoken=token )\n",
    "\n",
    "fig_1.update_layout(margin={\"r\":0,\"t\":0,\"l\":0,\"b\":0})\n",
    "\n",
    "fig_1.update_traces(marker=dict(size=16))"
   ]
  },
  {
   "cell_type": "code",
   "execution_count": null,
   "id": "7e70f99e",
   "metadata": {},
   "outputs": [],
   "source": []
  }
 ],
 "metadata": {
  "kernelspec": {
   "display_name": "Python 3 (ipykernel)",
   "language": "python",
   "name": "python3"
  },
  "language_info": {
   "codemirror_mode": {
    "name": "ipython",
    "version": 3
   },
   "file_extension": ".py",
   "mimetype": "text/x-python",
   "name": "python",
   "nbconvert_exporter": "python",
   "pygments_lexer": "ipython3",
   "version": "3.8.9"
  }
 },
 "nbformat": 4,
 "nbformat_minor": 5
}
