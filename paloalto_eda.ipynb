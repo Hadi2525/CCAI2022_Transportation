{
 "cells": [
  {
   "cell_type": "code",
   "execution_count": 1,
   "metadata": {},
   "outputs": [],
   "source": [
    "import numpy as np\n",
    "import pandas as pd\n",
    "import matplotlib.pyplot as plt\n",
    "from statsmodels.graphics.tsaplots import plot_acf"
   ]
  },
  {
   "cell_type": "code",
   "execution_count": 2,
   "metadata": {},
   "outputs": [
    {
     "name": "stderr",
     "output_type": "stream",
     "text": [
      "/Users/hadirohani/opt/anaconda3/envs/myenv/lib/python3.8/site-packages/IPython/core/interactiveshell.py:3397: DtypeWarning: Columns (29,30,32) have mixed types.Specify dtype option on import or set low_memory=False.\n",
      "  exec(code_obj, self.user_global_ns, self.user_ns)\n"
     ]
    }
   ],
   "source": [
    "ev_data = pd.read_csv('./Datasets/ChargePointDataCY20Q4.csv',parse_dates=['Start Date'])\n",
    "ev_data.set_index(ev_data['Start Date'],inplace=True)"
   ]
  },
  {
   "cell_type": "code",
   "execution_count": 18,
   "metadata": {},
   "outputs": [],
   "source": [
    "df = pd.DataFrame(ev_data[['Total Duration (hh:mm:ss)','Energy (kWh)','Latitude','Longitude']],index=ev_data.index)\n",
    "df['ParkingTime'] = pd.to_timedelta(df['Total Duration (hh:mm:ss)'])\n",
    "df['ParkingTime'] = df['ParkingTime'].values.astype(float)/(36*1e11)\n",
    "df.drop(columns='Total Duration (hh:mm:ss)',inplace=True)"
   ]
  },
  {
   "cell_type": "code",
   "execution_count": 4,
   "metadata": {},
   "outputs": [
    {
     "data": {
      "text/plain": [
       "Text(0, 0.5, 'Parking Duration [hour]')"
      ]
     },
     "execution_count": 4,
     "metadata": {},
     "output_type": "execute_result"
    },
    {
     "data": {
      "image/png": "[encoded data removed]",
      "text/plain": [
       "<Figure size 432x288 with 1 Axes>"
      ]
     },
     "metadata": {
      "needs_background": "light"
     },
     "output_type": "display_data"
    }
   ],
   "source": [
    "plt.scatter(df['Energy (kWh)'],df['ParkingTime'],marker='.')\n",
    "plt.xlabel('Energy Delivered [kWh]')\n",
    "plt.ylabel('Parking Duration [hour]')"
   ]
  },
  {
   "cell_type": "code",
   "execution_count": 19,
   "metadata": {},
   "outputs": [],
   "source": [
    "df = pd.get_dummies(df,columns=['Longitude'])\n",
    "df.drop(columns=['Latitude'],inplace=True)"
   ]
  },
  {
   "cell_type": "code",
   "execution_count": 20,
   "metadata": {},
   "outputs": [],
   "source": [
    "df['day_of_week'] = df.index.weekday\n",
    "df['hour_of_day'] = df.index.hour\n",
    "df['month_of_year'] = df.index.month\n",
    "df['weekend'] = df.index.weekday.isin([5,6])\n",
    "\n",
    "df = pd.get_dummies(df, columns=['day_of_week', 'hour_of_day', 'month_of_year', 'weekend'])\n",
    "\n",
    "df['hour_x'] = np.sin(np.radians((360/24)*df.index.hour))\n",
    "df['hour_y'] = np.cos(np.radians((360/24)*df.index.hour))\n",
    "\n",
    "df['month_x'] = np.sin(np.radians((360/24)*df.index.month))\n",
    "df['month_y'] = np.cos(np.radians((360/24)*df.index.month))\n"
   ]
  },
  {
   "cell_type": "code",
   "execution_count": 21,
   "metadata": {},
   "outputs": [
    {
     "data": {
      "text/html": [
       "<div>\n",
       "<style scoped>\n",
       "    .dataframe tbody tr th:only-of-type {\n",
       "        vertical-align: middle;\n",
       "    }\n",
       "\n",
       "    .dataframe tbody tr th {\n",
       "        vertical-align: top;\n",
       "    }\n",
       "\n",
       "    .dataframe thead th {\n",
       "        text-align: right;\n",
       "    }\n",
       "</style>\n",
       "<table border=\"1\" class=\"dataframe\">\n",
       "  <thead>\n",
       "    <tr style=\"text-align: right;\">\n",
       "      <th></th>\n",
       "      <th>Energy (kWh)</th>\n",
       "      <th>ParkingTime</th>\n",
       "      <th>Longitude_-122.163239</th>\n",
       "      <th>Longitude_-122.163231</th>\n",
       "      <th>Longitude_-122.163139</th>\n",
       "      <th>Longitude_-122.163078</th>\n",
       "      <th>Longitude_-122.163048</th>\n",
       "      <th>Longitude_-122.163033</th>\n",
       "      <th>Longitude_-122.163017</th>\n",
       "      <th>Longitude_-122.16288</th>\n",
       "      <th>...</th>\n",
       "      <th>month_of_year_9</th>\n",
       "      <th>month_of_year_10</th>\n",
       "      <th>month_of_year_11</th>\n",
       "      <th>month_of_year_12</th>\n",
       "      <th>weekend_False</th>\n",
       "      <th>weekend_True</th>\n",
       "      <th>hour_x</th>\n",
       "      <th>hour_y</th>\n",
       "      <th>month_x</th>\n",
       "      <th>month_y</th>\n",
       "    </tr>\n",
       "    <tr>\n",
       "      <th>Start Date</th>\n",
       "      <th></th>\n",
       "      <th></th>\n",
       "      <th></th>\n",
       "      <th></th>\n",
       "      <th></th>\n",
       "      <th></th>\n",
       "      <th></th>\n",
       "      <th></th>\n",
       "      <th></th>\n",
       "      <th></th>\n",
       "      <th></th>\n",
       "      <th></th>\n",
       "      <th></th>\n",
       "      <th></th>\n",
       "      <th></th>\n",
       "      <th></th>\n",
       "      <th></th>\n",
       "      <th></th>\n",
       "      <th></th>\n",
       "      <th></th>\n",
       "      <th></th>\n",
       "    </tr>\n",
       "  </thead>\n",
       "  <tbody>\n",
       "    <tr>\n",
       "      <th>2011-07-29 20:17:00</th>\n",
       "      <td>6.249457</td>\n",
       "      <td>3.058889</td>\n",
       "      <td>0</td>\n",
       "      <td>0</td>\n",
       "      <td>0</td>\n",
       "      <td>0</td>\n",
       "      <td>0</td>\n",
       "      <td>0</td>\n",
       "      <td>0</td>\n",
       "      <td>0</td>\n",
       "      <td>...</td>\n",
       "      <td>0</td>\n",
       "      <td>0</td>\n",
       "      <td>0</td>\n",
       "      <td>0</td>\n",
       "      <td>1</td>\n",
       "      <td>0</td>\n",
       "      <td>-0.866025</td>\n",
       "      <td>5.000000e-01</td>\n",
       "      <td>0.965926</td>\n",
       "      <td>-0.258819</td>\n",
       "    </tr>\n",
       "    <tr>\n",
       "      <th>2011-07-30 00:00:00</th>\n",
       "      <td>0.106588</td>\n",
       "      <td>0.035000</td>\n",
       "      <td>0</td>\n",
       "      <td>0</td>\n",
       "      <td>0</td>\n",
       "      <td>0</td>\n",
       "      <td>0</td>\n",
       "      <td>0</td>\n",
       "      <td>0</td>\n",
       "      <td>0</td>\n",
       "      <td>...</td>\n",
       "      <td>0</td>\n",
       "      <td>0</td>\n",
       "      <td>0</td>\n",
       "      <td>0</td>\n",
       "      <td>0</td>\n",
       "      <td>1</td>\n",
       "      <td>0.000000</td>\n",
       "      <td>1.000000e+00</td>\n",
       "      <td>0.965926</td>\n",
       "      <td>-0.258819</td>\n",
       "    </tr>\n",
       "    <tr>\n",
       "      <th>2011-07-30 08:16:00</th>\n",
       "      <td>14.951777</td>\n",
       "      <td>4.292222</td>\n",
       "      <td>0</td>\n",
       "      <td>0</td>\n",
       "      <td>0</td>\n",
       "      <td>0</td>\n",
       "      <td>0</td>\n",
       "      <td>0</td>\n",
       "      <td>0</td>\n",
       "      <td>0</td>\n",
       "      <td>...</td>\n",
       "      <td>0</td>\n",
       "      <td>0</td>\n",
       "      <td>0</td>\n",
       "      <td>0</td>\n",
       "      <td>0</td>\n",
       "      <td>1</td>\n",
       "      <td>0.866025</td>\n",
       "      <td>-5.000000e-01</td>\n",
       "      <td>0.965926</td>\n",
       "      <td>-0.258819</td>\n",
       "    </tr>\n",
       "    <tr>\n",
       "      <th>2011-07-30 14:51:00</th>\n",
       "      <td>7.159643</td>\n",
       "      <td>2.056667</td>\n",
       "      <td>0</td>\n",
       "      <td>0</td>\n",
       "      <td>0</td>\n",
       "      <td>0</td>\n",
       "      <td>0</td>\n",
       "      <td>0</td>\n",
       "      <td>0</td>\n",
       "      <td>0</td>\n",
       "      <td>...</td>\n",
       "      <td>0</td>\n",
       "      <td>0</td>\n",
       "      <td>0</td>\n",
       "      <td>0</td>\n",
       "      <td>0</td>\n",
       "      <td>1</td>\n",
       "      <td>-0.500000</td>\n",
       "      <td>-8.660254e-01</td>\n",
       "      <td>0.965926</td>\n",
       "      <td>-0.258819</td>\n",
       "    </tr>\n",
       "    <tr>\n",
       "      <th>2011-07-30 18:51:00</th>\n",
       "      <td>1.957765</td>\n",
       "      <td>1.190000</td>\n",
       "      <td>0</td>\n",
       "      <td>0</td>\n",
       "      <td>0</td>\n",
       "      <td>0</td>\n",
       "      <td>0</td>\n",
       "      <td>0</td>\n",
       "      <td>0</td>\n",
       "      <td>0</td>\n",
       "      <td>...</td>\n",
       "      <td>0</td>\n",
       "      <td>0</td>\n",
       "      <td>0</td>\n",
       "      <td>0</td>\n",
       "      <td>0</td>\n",
       "      <td>1</td>\n",
       "      <td>-1.000000</td>\n",
       "      <td>-1.836970e-16</td>\n",
       "      <td>0.965926</td>\n",
       "      <td>-0.258819</td>\n",
       "    </tr>\n",
       "  </tbody>\n",
       "</table>\n",
       "<p>5 rows × 115 columns</p>\n",
       "</div>"
      ],
      "text/plain": [
       "                     Energy (kWh)  ParkingTime  Longitude_-122.163239  \\\n",
       "Start Date                                                              \n",
       "2011-07-29 20:17:00      6.249457     3.058889                      0   \n",
       "2011-07-30 00:00:00      0.106588     0.035000                      0   \n",
       "2011-07-30 08:16:00     14.951777     4.292222                      0   \n",
       "2011-07-30 14:51:00      7.159643     2.056667                      0   \n",
       "2011-07-30 18:51:00      1.957765     1.190000                      0   \n",
       "\n",
       "                     Longitude_-122.163231  Longitude_-122.163139  \\\n",
       "Start Date                                                          \n",
       "2011-07-29 20:17:00                      0                      0   \n",
       "2011-07-30 00:00:00                      0                      0   \n",
       "2011-07-30 08:16:00                      0                      0   \n",
       "2011-07-30 14:51:00                      0                      0   \n",
       "2011-07-30 18:51:00                      0                      0   \n",
       "\n",
       "                     Longitude_-122.163078  Longitude_-122.163048  \\\n",
       "Start Date                                                          \n",
       "2011-07-29 20:17:00                      0                      0   \n",
       "2011-07-30 00:00:00                      0                      0   \n",
       "2011-07-30 08:16:00                      0                      0   \n",
       "2011-07-30 14:51:00                      0                      0   \n",
       "2011-07-30 18:51:00                      0                      0   \n",
       "\n",
       "                     Longitude_-122.163033  Longitude_-122.163017  \\\n",
       "Start Date                                                          \n",
       "2011-07-29 20:17:00                      0                      0   \n",
       "2011-07-30 00:00:00                      0                      0   \n",
       "2011-07-30 08:16:00                      0                      0   \n",
       "2011-07-30 14:51:00                      0                      0   \n",
       "2011-07-30 18:51:00                      0                      0   \n",
       "\n",
       "                     Longitude_-122.16288  ...  month_of_year_9  \\\n",
       "Start Date                                 ...                    \n",
       "2011-07-29 20:17:00                     0  ...                0   \n",
       "2011-07-30 00:00:00                     0  ...                0   \n",
       "2011-07-30 08:16:00                     0  ...                0   \n",
       "2011-07-30 14:51:00                     0  ...                0   \n",
       "2011-07-30 18:51:00                     0  ...                0   \n",
       "\n",
       "                     month_of_year_10  month_of_year_11  month_of_year_12  \\\n",
       "Start Date                                                                  \n",
       "2011-07-29 20:17:00                 0                 0                 0   \n",
       "2011-07-30 00:00:00                 0                 0                 0   \n",
       "2011-07-30 08:16:00                 0                 0                 0   \n",
       "2011-07-30 14:51:00                 0                 0                 0   \n",
       "2011-07-30 18:51:00                 0                 0                 0   \n",
       "\n",
       "                     weekend_False  weekend_True    hour_x        hour_y  \\\n",
       "Start Date                                                                 \n",
       "2011-07-29 20:17:00              1             0 -0.866025  5.000000e-01   \n",
       "2011-07-30 00:00:00              0             1  0.000000  1.000000e+00   \n",
       "2011-07-30 08:16:00              0             1  0.866025 -5.000000e-01   \n",
       "2011-07-30 14:51:00              0             1 -0.500000 -8.660254e-01   \n",
       "2011-07-30 18:51:00              0             1 -1.000000 -1.836970e-16   \n",
       "\n",
       "                      month_x   month_y  \n",
       "Start Date                               \n",
       "2011-07-29 20:17:00  0.965926 -0.258819  \n",
       "2011-07-30 00:00:00  0.965926 -0.258819  \n",
       "2011-07-30 08:16:00  0.965926 -0.258819  \n",
       "2011-07-30 14:51:00  0.965926 -0.258819  \n",
       "2011-07-30 18:51:00  0.965926 -0.258819  \n",
       "\n",
       "[5 rows x 115 columns]"
      ]
     },
     "execution_count": 21,
     "metadata": {},
     "output_type": "execute_result"
    }
   ],
   "source": [
    "df.head()"
   ]
  },
  {
   "cell_type": "code",
   "execution_count": 34,
   "metadata": {},
   "outputs": [],
   "source": [
    "numeric_cols = ['Energy (kWh)'] + ['ParkingTime'] + ['hour_x'] + ['hour_y'] + ['month_x'] + ['month_y']\n",
    "categorical_cols = [col for col in df.columns if col not in numeric_cols]"
   ]
  },
  {
   "cell_type": "code",
   "execution_count": 38,
   "metadata": {},
   "outputs": [],
   "source": [
    "from sklearn.model_selection import train_test_split\n",
    "from sklearn.preprocessing import StandardScaler\n",
    "\n",
    "sc = StandardScaler()\n",
    "\n",
    "\n",
    "numerics = pd.DataFrame(sc.fit_transform(df[numeric_cols]),index=df.index, columns=numeric_cols)\n",
    "categoricals = df[categorical_cols]\n",
    "\n",
    "X = pd.concat([numerics, categoricals],axis=1)"
   ]
  },
  {
   "cell_type": "code",
   "execution_count": 39,
   "metadata": {},
   "outputs": [],
   "source": [
    "H = 24\n",
    "Y = pd.DataFrame(index=df.index)\n",
    "for h in range(H):\n",
    "    Y['h_'+ str(h)] = df['Energy (kWh)'].shift(-h)\n",
    "    "
   ]
  },
  {
   "cell_type": "code",
   "execution_count": 41,
   "metadata": {},
   "outputs": [],
   "source": [
    "X, Y = X.iloc[:-H,:], Y.iloc[:-H,:]"
   ]
  },
  {
   "cell_type": "code",
   "execution_count": 42,
   "metadata": {},
   "outputs": [],
   "source": [
    "X_train, X_test, Y_train, Y_test = train_test_split(X, Y)"
   ]
  },
  {
   "cell_type": "code",
   "execution_count": 43,
   "metadata": {},
   "outputs": [],
   "source": [
    "from sklearn.metrics import mean_absolute_percentage_error, mean_squared_error"
   ]
  },
  {
   "cell_type": "code",
   "execution_count": 45,
   "metadata": {},
   "outputs": [],
   "source": [
    "from sklearn.ensemble import RandomForestRegressor\n",
    "\n",
    "model = RandomForestRegressor()\n",
    "\n",
    "model.fit(X_train, Y_train)\n",
    "\n",
    "print(model.score(X_test, Y_test))"
   ]
  }
 ],
 "metadata": {
  "interpreter": {
   "hash": "654a99252f77905fc9ce114bb088d066cddcc8a35836ac2d439acab7fb9bc0c8"
  },
  "kernelspec": {
   "display_name": "Python 3.8.13 ('myenv')",
   "language": "python",
   "name": "python3"
  },
  "language_info": {
   "codemirror_mode": {
    "name": "ipython",
    "version": 3
   },
   "file_extension": ".py",
   "mimetype": "text/x-python",
   "name": "python",
   "nbconvert_exporter": "python",
   "pygments_lexer": "ipython3",
   "version": "3.8.13"
  },
  "orig_nbformat": 4
 },
 "nbformat": 4,
 "nbformat_minor": 2
}
